{
 "cells": [
  {
   "cell_type": "code",
   "execution_count": 2,
   "metadata": {},
   "outputs": [],
   "source": [
    "import numpy as np\n",
    "from time import time"
   ]
  },
  {
   "cell_type": "markdown",
   "metadata": {},
   "source": [
    "### 1 Why not use loop\n",
    "---"
   ]
  },
  {
   "cell_type": "markdown",
   "metadata": {},
   "source": [
    "#### 1.1 Arrays are mutable"
   ]
  },
  {
   "cell_type": "code",
   "execution_count": 3,
   "metadata": {},
   "outputs": [
    {
     "data": {
      "text/plain": [
       "array([0, 1, 2, 3, 4])"
      ]
     },
     "execution_count": 3,
     "metadata": {},
     "output_type": "execute_result"
    }
   ],
   "source": [
    "x_array = np.arange(5)\n",
    "x_array"
   ]
  },
  {
   "cell_type": "code",
   "execution_count": 4,
   "metadata": {},
   "outputs": [
    {
     "data": {
      "text/plain": [
       "array([99,  1,  2,  3,  4])"
      ]
     },
     "execution_count": 4,
     "metadata": {},
     "output_type": "execute_result"
    }
   ],
   "source": [
    "x_array[0] = 99\n",
    "x_array"
   ]
  },
  {
   "cell_type": "code",
   "execution_count": 5,
   "metadata": {},
   "outputs": [
    {
     "data": {
      "text/plain": [
       "array([99,  1,  2, 99, 99])"
      ]
     },
     "execution_count": 5,
     "metadata": {},
     "output_type": "execute_result"
    }
   ],
   "source": [
    "x_array[3:6] = [99,99] # this is permissable since the array returned by the slice is of the same shape as the assignment array\n",
    "x_array"
   ]
  },
  {
   "cell_type": "markdown",
   "metadata": {},
   "source": [
    "#### 1.2 Loops are slow"
   ]
  },
  {
   "cell_type": "code",
   "execution_count": 6,
   "metadata": {},
   "outputs": [
    {
     "data": {
      "text/plain": [
       "2000000"
      ]
     },
     "execution_count": 6,
     "metadata": {},
     "output_type": "execute_result"
    }
   ],
   "source": [
    "bigmatrix = np.random.random((1000,2000))\n",
    "bigmatrix.size"
   ]
  },
  {
   "cell_type": "code",
   "execution_count": 7,
   "metadata": {},
   "outputs": [],
   "source": [
    "# A loop based computation of the sum of the max of all rows\n",
    "\n",
    "def sum_of_max_loop(bigmatrix):\n",
    "    \n",
    "    m,n = bigmatrix.shape\n",
    "    \n",
    "    maxValues = np.zeros(shape=(m,))\n",
    "    \n",
    "    for i in range(m):\n",
    "        for j in range(n):\n",
    "            if(bigmatrix[i,j] > maxValues[i]):\n",
    "                maxValues[i] = bigmatrix[i,j]\n",
    "    \n",
    "    sum_of_row_maxes = 0\n",
    "    for i in range(m):\n",
    "        sum_of_row_maxes += maxValues[i]\n",
    "    \n",
    "    return sum_of_row_maxes"
   ]
  },
  {
   "cell_type": "code",
   "execution_count": 8,
   "metadata": {},
   "outputs": [
    {
     "name": "stdout",
     "output_type": "stream",
     "text": [
      "sum_of_max_loop = 999.4986820257034\n",
      "took: 0.4572 seconds.\n"
     ]
    }
   ],
   "source": [
    "start = time()\n",
    "sum_of_row_maxes_loop = sum_of_max_loop(bigmatrix=bigmatrix)\n",
    "duration_loop = time() - start\n",
    "\n",
    "print(f\"sum_of_max_loop = {sum_of_row_maxes_loop}\")\n",
    "print(f\"took: {duration_loop:.4f} seconds.\")"
   ]
  },
  {
   "cell_type": "markdown",
   "metadata": {},
   "source": [
    "#### 1.3 Vectorized computation"
   ]
  },
  {
   "cell_type": "code",
   "execution_count": 9,
   "metadata": {},
   "outputs": [],
   "source": [
    "def sum_of_max_vec(bigmatrix):\n",
    "    maxValues = np.max(bigmatrix, axis=1)\n",
    "    return sum(maxValues)"
   ]
  },
  {
   "cell_type": "code",
   "execution_count": 10,
   "metadata": {},
   "outputs": [
    {
     "name": "stdout",
     "output_type": "stream",
     "text": [
      "sum_of_max_vec = 999.4986820257034\n",
      "took: 0.0017 seconds\n"
     ]
    }
   ],
   "source": [
    "start = time()\n",
    "sum_of_row_maxes_vec = sum_of_max_vec(bigmatrix)\n",
    "duration_vec = time()-start\n",
    "\n",
    "print(f\"sum_of_max_vec = {sum_of_row_maxes_vec}\")\n",
    "print(f\"took: {duration_vec:.4f} seconds\")"
   ]
  },
  {
   "cell_type": "code",
   "execution_count": 11,
   "metadata": {},
   "outputs": [
    {
     "name": "stdout",
     "output_type": "stream",
     "text": [
      "Therefore vectorized computation is roughly 275.81962025316454 times faster\n"
     ]
    }
   ],
   "source": [
    "print(f\"Therefore vectorized computation is roughly {duration_loop/duration_vec} times faster\")"
   ]
  },
  {
   "cell_type": "code",
   "execution_count": 12,
   "metadata": {},
   "outputs": [
    {
     "ename": "KeyboardInterrupt",
     "evalue": "",
     "output_type": "error",
     "traceback": [
      "\u001b[0;31m---------------------------------------------------------------------------\u001b[0m",
      "\u001b[0;31mKeyboardInterrupt\u001b[0m                         Traceback (most recent call last)",
      "Cell \u001b[0;32mIn[12], line 11\u001b[0m\n\u001b[1;32m      8\u001b[0m \u001b[38;5;28;01mfor\u001b[39;00m i \u001b[38;5;129;01min\u001b[39;00m \u001b[38;5;28mrange\u001b[39m(\u001b[38;5;241m100\u001b[39m):\n\u001b[1;32m     10\u001b[0m     start \u001b[38;5;241m=\u001b[39m time()\n\u001b[0;32m---> 11\u001b[0m     \u001b[43msum_of_max_loop\u001b[49m\u001b[43m(\u001b[49m\u001b[43mbigmatrix\u001b[49m\u001b[43m)\u001b[49m\n\u001b[1;32m     12\u001b[0m     duration_loop \u001b[38;5;241m=\u001b[39m time() \u001b[38;5;241m-\u001b[39m start\n\u001b[1;32m     13\u001b[0m     loop_durations[i] \u001b[38;5;241m=\u001b[39m duration_loop \u001b[38;5;66;03m#round(duration_loop, ndigits=4)\u001b[39;00m\n",
      "Cell \u001b[0;32mIn[7], line 11\u001b[0m, in \u001b[0;36msum_of_max_loop\u001b[0;34m(bigmatrix)\u001b[0m\n\u001b[1;32m      9\u001b[0m \u001b[38;5;28;01mfor\u001b[39;00m i \u001b[38;5;129;01min\u001b[39;00m \u001b[38;5;28mrange\u001b[39m(m):\n\u001b[1;32m     10\u001b[0m     \u001b[38;5;28;01mfor\u001b[39;00m j \u001b[38;5;129;01min\u001b[39;00m \u001b[38;5;28mrange\u001b[39m(n):\n\u001b[0;32m---> 11\u001b[0m         \u001b[38;5;28;01mif\u001b[39;00m(bigmatrix[i,j] \u001b[38;5;241m>\u001b[39m maxValues[i]):\n\u001b[1;32m     12\u001b[0m             maxValues[i] \u001b[38;5;241m=\u001b[39m bigmatrix[i,j]\n\u001b[1;32m     14\u001b[0m sum_of_row_maxes \u001b[38;5;241m=\u001b[39m \u001b[38;5;241m0\u001b[39m\n",
      "\u001b[0;31mKeyboardInterrupt\u001b[0m: "
     ]
    }
   ],
   "source": [
    "import matplotlib.pyplot as plt\n",
    "\n",
    "x = np.arange(start=0, stop=100, step=1)\n",
    "loop_durations = np.zeros_like(x, dtype=float)\n",
    "vec_durations = np.zeros_like(x, dtype=float)\n",
    "\n",
    "\n",
    "for i in range(100):\n",
    "    \n",
    "    start = time()\n",
    "    sum_of_max_loop(bigmatrix)\n",
    "    duration_loop = time() - start\n",
    "    loop_durations[i] = duration_loop #round(duration_loop, ndigits=4)\n",
    "    \n",
    "    start = time()\n",
    "    sum_of_max_vec(bigmatrix)\n",
    "    duration_vec = time() - start\n",
    "    vec_durations[i] = duration_vec #round(duration_vec, ndigits=4)\n",
    "\n",
    "plt.figure(figsize=(8, 5))\n",
    "plt.plot(x, loop_durations, label=\"Loop Durations\", color='blue')\n",
    "plt.plot(x, vec_durations, label=\"Vectorized Durations\", color='red')\n",
    "\n",
    "# Set the y-axis to a logarithmic scale\n",
    "plt.yscale('log')\n",
    "\n",
    "# Add labels and title\n",
    "plt.xlabel('Iteration')\n",
    "plt.ylabel('Duration (seconds)')\n",
    "plt.title('Comparison of Loop and Vectorized Durations (Log Scale)')\n",
    "\n",
    "# Add a legend\n",
    "plt.legend()\n",
    "\n",
    "# Display the plot\n",
    "plt.show()"
   ]
  },
  {
   "cell_type": "markdown",
   "metadata": {},
   "source": [
    "- values closer to 0 appear appear on the plot as increasingly negative powers of 10\n",
    "    - log_10(0.1) = -1 so the plot would label this value 10^-1\n",
    "    - log_10(0.01) = -2 so the plot would label this value 10^-2\n",
    "    - etc..."
   ]
  },
  {
   "cell_type": "markdown",
   "metadata": {},
   "source": [
    "### 2 UFunc: Universal Functions\n",
    "---"
   ]
  },
  {
   "cell_type": "markdown",
   "metadata": {},
   "source": [
    "#### 2.1 Unary ufunc\n",
    "\n",
    "- ufuncs are applied to the *entire* array efficiently utilizing highly optimized low level execution plans\n",
    "- a unary function is a function with a single input\n",
    "- when applied to a multidimensional numpy array, all elements are mapped to an output array organized in the same shape as the input array"
   ]
  },
  {
   "cell_type": "code",
   "execution_count": 13,
   "metadata": {},
   "outputs": [
    {
     "name": "stdout",
     "output_type": "stream",
     "text": [
      "[[[ 66.68 -59.72]\n",
      "  [ 55.01 -22.08]]\n",
      "\n",
      " [[-11.    52.17]\n",
      "  [ 78.92  80.02]]\n",
      "\n",
      " [[-71.97  19.14]\n",
      "  [ 65.64  71.77]]]\n",
      "\n",
      "shape = (3, 2, 2)\n"
     ]
    }
   ],
   "source": [
    "# arbitrarily shaped ndarray\n",
    "\n",
    "x = np.random.uniform(-100, 100, (3,2,2))\n",
    "x = x.round(2)\n",
    "print(f\"{x}\\n\\nshape = {x.shape}\")"
   ]
  },
  {
   "cell_type": "code",
   "execution_count": 24,
   "metadata": {},
   "outputs": [
    {
     "name": "stdout",
     "output_type": "stream",
     "text": [
      "x =\n",
      " [[[ 66.68 -59.72]\n",
      "  [ 55.01 -22.08]]\n",
      "\n",
      " [[-11.    52.17]\n",
      "  [ 78.92  80.02]]\n",
      "\n",
      " [[-71.97  19.14]\n",
      "  [ 65.64  71.77]]]\n",
      "|x| = \n",
      "[[[66.68 59.72]\n",
      "  [55.01 22.08]]\n",
      "\n",
      " [[11.   52.17]\n",
      "  [78.92 80.02]]\n",
      "\n",
      " [[71.97 19.14]\n",
      "  [65.64 71.77]]]\n",
      "\n",
      "x + 1 =\n",
      " [[[ 67.68 -58.72]\n",
      "  [ 56.01 -21.08]]\n",
      "\n",
      " [[-10.    53.17]\n",
      "  [ 79.92  81.02]]\n",
      "\n",
      " [[-70.97  20.14]\n",
      "  [ 66.64  72.77]]]\n",
      "x - 1 =\n",
      " [[[ 65.68 -60.72]\n",
      "  [ 54.01 -23.08]]\n",
      "\n",
      " [[-12.    51.17]\n",
      "  [ 77.92  79.02]]\n",
      "\n",
      " [[-72.97  18.14]\n",
      "  [ 64.64  70.77]]]\n",
      "x * 2 =\n",
      " [[[ 133.36 -119.44]\n",
      "  [ 110.02  -44.16]]\n",
      "\n",
      " [[ -22.    104.34]\n",
      "  [ 157.84  160.04]]\n",
      "\n",
      " [[-143.94   38.28]\n",
      "  [ 131.28  143.54]]]\n",
      "x // 2 =\n",
      " [[[ 33. -30.]\n",
      "  [ 27. -12.]]\n",
      "\n",
      " [[ -6.  26.]\n",
      "  [ 39.  40.]]\n",
      "\n",
      " [[-36.   9.]\n",
      "  [ 32.  35.]]]\n",
      "x ** 2 =\n",
      " [[[4446.2224 3566.4784]\n",
      "  [3026.1001  487.5264]]\n",
      "\n",
      " [[ 121.     2721.7089]\n",
      "  [6228.3664 6403.2004]]\n",
      "\n",
      " [[5179.6809  366.3396]\n",
      "  [4308.6096 5150.9329]]]\n",
      "x % 2 =\n",
      " [[[0.68 0.28]\n",
      "  [1.01 1.92]]\n",
      "\n",
      " [[1.   0.17]\n",
      "  [0.92 0.02]]\n",
      "\n",
      " [[0.03 1.14]\n",
      "  [1.64 1.77]]]\n",
      "1 / x =\n",
      " [[[ 0.014997   -0.01674481]\n",
      "  [ 0.01817851 -0.04528986]]\n",
      "\n",
      " [[-0.09090909  0.0191681 ]\n",
      "  [ 0.01267106  0.01249688]]\n",
      "\n",
      " [[-0.01389468  0.0522466 ]\n",
      "  [ 0.01523461  0.0139334 ]]]\n",
      "x / (100 * 2 * pi) = \n",
      "[[[ 4.18962796 -3.75231827]\n",
      "  [ 3.45638024 -1.38732732]]\n",
      "\n",
      " [[-0.69115038  3.27793777]\n",
      "  [ 4.95868984  5.02780488]]\n",
      "\n",
      " [[-4.52200847  1.20260167]\n",
      "  [ 4.12428284  4.50944209]]]\n",
      "\n",
      "sin(x) = \n",
      "[[[-0.6492168   0.0297352 ]\n",
      "  [-0.99948392  0.08873456]]\n",
      "\n",
      " [[ 0.99999021  0.94482996]\n",
      "  [-0.37109102 -0.99589748]]\n",
      "\n",
      " [[-0.28272232  0.28637773]\n",
      "  [ 0.3273009   0.46765067]]]\n",
      "\n",
      "x**2 = \n",
      "[[[4446.2224 3566.4784]\n",
      "  [3026.1001  487.5264]]\n",
      "\n",
      " [[ 121.     2721.7089]\n",
      "  [6228.3664 6403.2004]]\n",
      "\n",
      " [[5179.6809  366.3396]\n",
      "  [4308.6096 5150.9329]]]\n",
      "\n"
     ]
    }
   ],
   "source": [
    "print('x =\\n', x)\n",
    "print(f'|x| = \\n{np.abs(x)}\\n')     # absolute value of each element\n",
    "print('x + 1 =\\n', x + 1)      # addition\n",
    "print('x - 1 =\\n', x - 1)      # subtraction\n",
    "print('x * 2 =\\n', x * 2)      # multiplication\n",
    "print('x // 2 =\\n', x // 2)     # integer division\n",
    "print('x ** 2 =\\n', x ** 2)     # square\n",
    "print('x % 2 =\\n', x % 2)      # modulo  \n",
    "print('1 / x =\\n', 1 / x)      # division\n",
    "print(f\"x / (100 * 2 * pi) = \\n{x / 100 * 2 * np.pi}\\n\")    # chain of operations\n",
    "print(f\"sin(x) = \\n{np.sin(x)}\\n\")      # sine of x\n",
    "print(f\"x**2 = \\n{np.power(x,2)}\\n\")    # x**2\n",
    "print(f\"sort(x) = \\n{np.sort(x)}\\n\")    # sort x\n",
    "print(f\"sign(x) = \\n{np.sign(x)}\\n\")    # replace each element with 1 or -1 based on its sign"
   ]
  },
  {
   "cell_type": "markdown",
   "metadata": {},
   "source": [
    "### 2.2 Binary ufunc\n",
    "---"
   ]
  },
  {
   "cell_type": "markdown",
   "metadata": {},
   "source": [
    "- binary ufunc processes two arrays A and B in their entirety\n",
    "- input arrays must have the same or boradcast-compatible shapes\n",
    "- the output array has the same (post-broadcast if applicable) shape as the input arrays\n",
    "- each element in the output array is calculated using pairs of corresponding elements in the input arrays"
   ]
  },
  {
   "cell_type": "code",
   "execution_count": 17,
   "metadata": {},
   "outputs": [
    {
     "name": "stdout",
     "output_type": "stream",
     "text": [
      "A =\n",
      " [[ 1  2  3  4]\n",
      " [ 5  6  7  8]\n",
      " [ 9 10 11 12]]\n",
      "B =\n",
      " [[10 11 12 13]\n",
      " [14 15 16 17]\n",
      " [18 19 20 21]]\n"
     ]
    }
   ],
   "source": [
    "A = np.arange(1, 1+12).reshape(3,4)\n",
    "B = np.arange(10, 10+12).reshape(3,4) # this is a good way to ensure each array will have +# elements\n",
    "\n",
    "print(\"A =\\n\", A)\n",
    "print(\"B =\\n\", B)"
   ]
  },
  {
   "cell_type": "code",
   "execution_count": 18,
   "metadata": {},
   "outputs": [
    {
     "name": "stdout",
     "output_type": "stream",
     "text": [
      "A + B = \n",
      " [[11 13 15 17]\n",
      " [19 21 23 25]\n",
      " [27 29 31 33]]\n",
      "B / A = \n",
      " [[10.          5.5         4.          3.25      ]\n",
      " [ 2.8         2.5         2.28571429  2.125     ]\n",
      " [ 2.          1.9         1.81818182  1.75      ]]\n",
      "B / A (using np.divide) = \n",
      " [[10.          5.5         4.          3.25      ]\n",
      " [ 2.8         2.5         2.28571429  2.125     ]\n",
      " [ 2.          1.9         1.81818182  1.75      ]]\n",
      "B // A =\n",
      " [[10  5  4  3]\n",
      " [ 2  2  2  2]\n",
      " [ 2  1  1  1]]\n",
      "B // A (using np.floor_divide) = \n",
      " [[10  5  4  3]\n",
      " [ 2  2  2  2]\n",
      " [ 2  1  1  1]]\n",
      "B ** A =\n",
      " [[              10              121             1728            28561]\n",
      " [          537824         11390625        268435456       6975757441]\n",
      " [    198359290368    6131066257801  204800000000000 7355827511386641]]\n",
      "B ** A (using np.power) =\n",
      " [[              10              121             1728            28561]\n",
      " [          537824         11390625        268435456       6975757441]\n",
      " [    198359290368    6131066257801  204800000000000 7355827511386641]]\n"
     ]
    }
   ],
   "source": [
    "\n",
    "print(\"A + B = \\n\", A+B)\n",
    "print(\"B / A = \\n\", B/A)\n",
    "print(\"B / A (using np.divide) = \\n\", np.divide(B,A))\n",
    "print(\"B // A =\\n\", B // A)\n",
    "print(\"B // A (using np.floor_divide) = \\n\", np.floor_divide(B,A))\n",
    "print(\"B ** A =\\n\", B ** A)\n",
    "print(\"B ** A (using np.power) =\\n\", np.power(B,A))\n",
    "\n",
    "x = np.arange(-2,3)\n",
    "y = np.random.randn(5)\n",
    "print('x =', x)\n",
    "print('y =', y, '\\n')\n",
    "print('np.add(x,y) =', np.add(x,y))                # element-wise addition       x + y\n",
    "print('np.subtract(x,y) =', np.subtract(x,y))      # element-wise subtraction    x - y\n",
    "print('np.multiply(x,y) =', np.multiply(x,y))      # element-wise multiplication x * y\n",
    "print('np.divide(x,y) =', np.divide(x,y))          # element-wise division       x / y\n",
    "print('np.maximum(x,y) =', np.maximum(x,y))        # element-wise maximum        max(x,y)"
   ]
  },
  {
   "cell_type": "markdown",
   "metadata": {},
   "source": [
    "#### Important Statistical Methods"
   ]
  },
  {
   "cell_type": "code",
   "execution_count": null,
   "metadata": {},
   "outputs": [],
   "source": [
    "y = np.array([-3.2, -1.4, 0.4, 2.5, 3.4])    \n",
    "print('y =', y, '\\n')\n",
    "\n",
    "print(\"Min =\", np.min(y))             # min \n",
    "print(\"Max =\", np.max(y))             # max \n",
    "print(\"Average =\", np.mean(y))        # mean/average\n",
    "print(\"Std deviation =\", np.std(y))   # standard deviation\n",
    "print(\"Sum =\", np.sum(y))             # sum "
   ]
  },
  {
   "cell_type": "markdown",
   "metadata": {},
   "source": [
    "#### Important Linear Algebra Operations"
   ]
  },
  {
   "cell_type": "code",
   "execution_count": null,
   "metadata": {},
   "outputs": [],
   "source": [
    "X = np.random.randn(2,3)                         # create a 2 x 3 random matrix\n",
    "print('X =\\n', X, '\\n')\n",
    "print('Transpose of X, X.T =\\n', X.T, '\\n')      # matrix transpose operation X^T\n",
    "\n",
    "y = np.random.randn(3) # random vector \n",
    "print('y =', y, '\\n')\n",
    "\n",
    "print('Matrix-vector multiplication')\n",
    "print('X.dot(y) =\\n', X.dot(y), '\\n')            # matrix-vector multiplication  X * y\n",
    "\n",
    "print('Matrix-matrix product')\n",
    "print('X.dot(X.T) =', X.dot(X.T))        # matrix-matrix multiplication  X * X^T\n",
    "print('\\nX.T.dot(X) =\\n', X.T.dot(X))      # matrix-matrix multiplication  X^T * X"
   ]
  },
  {
   "cell_type": "code",
   "execution_count": null,
   "metadata": {},
   "outputs": [],
   "source": [
    "X = np.random.randn(5,3)\n",
    "print('X =\\n', X, '\\n')\n",
    "\n",
    "C = X.T.dot(X)               # C = X^T * X is a square matrix\n",
    "print('C = X.T.dot(X) =\\n', C, '\\n')\n",
    "\n",
    "invC = np.linalg.inv(C)      # inverse of a square matrix\n",
    "print('Inverse of C = np.linalg.inv(C)\\n', invC, '\\n')\n",
    "\n",
    "detC = np.linalg.det(C)      # determinant of a square matrix\n",
    "print('Determinant of C = np.linalg.det(C) =', detC)\n",
    "\n",
    "S, U = np.linalg.eig(C)      # eigenvalue S and eigenvector U of a square matrix\n",
    "print('Eigenvalues of C =\\n', S)\n",
    "print('Eigenvectors of C =\\n', U)"
   ]
  },
  {
   "cell_type": "markdown",
   "metadata": {},
   "source": [
    "### 2.3 Broadcasting\n",
    "---"
   ]
  },
  {
   "cell_type": "markdown",
   "metadata": {},
   "source": [
    "- if $A.shape \\neq B.shape$\n",
    "    1. runtime error\n",
    "\n",
    "    2. **manually** adjust the shape using `np.reshape` or `np.repeat`\n",
    "    \n",
    "    3. **broadcasting** is applied using the following rules:\n",
    "    \n",
    "        - any axis of size 1 will automatically be repeated so that shapes match\n",
    "    \n",
    "        - if `len(A.shape)` $\\neq$ `len(B.shape)` then np.newaxis will be used to add a new axis that will then be repeated using np.repeat\n",
    "\n",
    "            - np.newaxis will only ***append*** new axes so all trailing dimensions must match "
   ]
  },
  {
   "cell_type": "code",
   "execution_count": 19,
   "metadata": {},
   "outputs": [
    {
     "data": {
      "text/plain": [
       "array([[ 1,  2,  3,  4],\n",
       "       [ 5,  6,  7,  8],\n",
       "       [ 9, 10, 11, 12]])"
      ]
     },
     "execution_count": 19,
     "metadata": {},
     "output_type": "execute_result"
    }
   ],
   "source": [
    "A"
   ]
  },
  {
   "cell_type": "code",
   "execution_count": 20,
   "metadata": {},
   "outputs": [],
   "source": [
    "B = np.array([10,20,30,40])"
   ]
  },
  {
   "cell_type": "code",
   "execution_count": 21,
   "metadata": {},
   "outputs": [
    {
     "data": {
      "text/plain": [
       "array([[11, 22, 33, 44],\n",
       "       [15, 26, 37, 48],\n",
       "       [19, 30, 41, 52]])"
      ]
     },
     "execution_count": 21,
     "metadata": {},
     "output_type": "execute_result"
    }
   ],
   "source": [
    "A + B"
   ]
  },
  {
   "cell_type": "code",
   "execution_count": 22,
   "metadata": {},
   "outputs": [
    {
     "data": {
      "text/plain": [
       "array([[10, 20, 30, 40],\n",
       "       [10, 20, 30, 40],\n",
       "       [10, 20, 30, 40]])"
      ]
     },
     "execution_count": 22,
     "metadata": {},
     "output_type": "execute_result"
    }
   ],
   "source": [
    "# first np.newaxis was automatically invoked to increase the dimension of B by 1\n",
    "B[np.newaxis,:]\n",
    "# since B.shape[axis = 1] == A.shape[axis = 1], np.repeat is used to set B.shape[axis=0] = A.shape[axis=0]\n",
    "np.repeat(B[np.newaxis,:],3,axis=0)\n",
    "# B has now been broadcasted appropriately allowing for the addition A + B to be possible\n",
    "# A + np.repeat(B[np.newaxis,:],3,axis=0)"
   ]
  },
  {
   "cell_type": "code",
   "execution_count": null,
   "metadata": {},
   "outputs": [],
   "source": []
  }
 ],
 "metadata": {
  "kernelspec": {
   "display_name": "ml",
   "language": "python",
   "name": "python3"
  },
  "language_info": {
   "codemirror_mode": {
    "name": "ipython",
    "version": 3
   },
   "file_extension": ".py",
   "mimetype": "text/x-python",
   "name": "python",
   "nbconvert_exporter": "python",
   "pygments_lexer": "ipython3",
   "version": "3.12.4"
  }
 },
 "nbformat": 4,
 "nbformat_minor": 2
}
