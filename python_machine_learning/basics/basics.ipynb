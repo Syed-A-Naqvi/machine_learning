{
 "cells": [
  {
   "cell_type": "code",
   "execution_count": 40,
   "metadata": {},
   "outputs": [],
   "source": [
    "import pandas as pd\n",
    "import numpy as np\n",
    "import matplotlib.pyplot as plt\n",
    "from sklearn.preprocessing import StandardScaler\n",
    "import scipy as sc\n",
    "from imblearn.over_sampling import RandomOverSampler"
   ]
  },
  {
   "cell_type": "markdown",
   "metadata": {},
   "source": [
    "## Loading Dataset:\n",
    "Dua, D. and Graff, C. (2019). UCI Machine Learning Repository [http://archive.ics.uci.edu/ml]. Irvine, CA: University of California, School of Information and Computer Science.\n",
    "\n",
    "Donated by:\n",
    "P. Savicky\n",
    "Institute of Computer Science, AS of CR\n",
    "Czech Republic\n",
    "savicky '@' cs.cas.cz"
   ]
  },
  {
   "cell_type": "code",
   "execution_count": 41,
   "metadata": {},
   "outputs": [
    {
     "data": {
      "text/html": [
       "<div>\n",
       "<style scoped>\n",
       "    .dataframe tbody tr th:only-of-type {\n",
       "        vertical-align: middle;\n",
       "    }\n",
       "\n",
       "    .dataframe tbody tr th {\n",
       "        vertical-align: top;\n",
       "    }\n",
       "\n",
       "    .dataframe thead th {\n",
       "        text-align: right;\n",
       "    }\n",
       "</style>\n",
       "<table border=\"1\" class=\"dataframe\">\n",
       "  <thead>\n",
       "    <tr style=\"text-align: right;\">\n",
       "      <th></th>\n",
       "      <th>fLength</th>\n",
       "      <th>fWidth</th>\n",
       "      <th>fSize</th>\n",
       "      <th>fConc</th>\n",
       "      <th>fConc1</th>\n",
       "      <th>fAsym</th>\n",
       "      <th>fM3Long</th>\n",
       "      <th>fM3Trans</th>\n",
       "      <th>fAlpha</th>\n",
       "      <th>fDist</th>\n",
       "      <th>class</th>\n",
       "    </tr>\n",
       "  </thead>\n",
       "  <tbody>\n",
       "    <tr>\n",
       "      <th>12332</th>\n",
       "      <td>93.7035</td>\n",
       "      <td>37.9432</td>\n",
       "      <td>3.1454</td>\n",
       "      <td>0.1680</td>\n",
       "      <td>0.1011</td>\n",
       "      <td>53.2566</td>\n",
       "      <td>89.0566</td>\n",
       "      <td>11.8175</td>\n",
       "      <td>14.1224</td>\n",
       "      <td>231.9028</td>\n",
       "      <td>h</td>\n",
       "    </tr>\n",
       "    <tr>\n",
       "      <th>12333</th>\n",
       "      <td>102.0005</td>\n",
       "      <td>22.0017</td>\n",
       "      <td>3.3161</td>\n",
       "      <td>0.1064</td>\n",
       "      <td>0.0724</td>\n",
       "      <td>-54.0862</td>\n",
       "      <td>43.0553</td>\n",
       "      <td>-15.0647</td>\n",
       "      <td>88.4636</td>\n",
       "      <td>274.9392</td>\n",
       "      <td>h</td>\n",
       "    </tr>\n",
       "    <tr>\n",
       "      <th>12334</th>\n",
       "      <td>100.2775</td>\n",
       "      <td>21.8784</td>\n",
       "      <td>3.1100</td>\n",
       "      <td>0.3120</td>\n",
       "      <td>0.1446</td>\n",
       "      <td>-48.1834</td>\n",
       "      <td>57.6547</td>\n",
       "      <td>-9.6341</td>\n",
       "      <td>20.7848</td>\n",
       "      <td>346.4330</td>\n",
       "      <td>h</td>\n",
       "    </tr>\n",
       "    <tr>\n",
       "      <th>12335</th>\n",
       "      <td>91.6558</td>\n",
       "      <td>18.8293</td>\n",
       "      <td>2.7097</td>\n",
       "      <td>0.4386</td>\n",
       "      <td>0.3420</td>\n",
       "      <td>-52.6841</td>\n",
       "      <td>-97.8373</td>\n",
       "      <td>-17.0955</td>\n",
       "      <td>63.8834</td>\n",
       "      <td>130.7998</td>\n",
       "      <td>h</td>\n",
       "    </tr>\n",
       "    <tr>\n",
       "      <th>12336</th>\n",
       "      <td>38.0195</td>\n",
       "      <td>12.6736</td>\n",
       "      <td>2.8747</td>\n",
       "      <td>0.4084</td>\n",
       "      <td>0.1928</td>\n",
       "      <td>-51.4840</td>\n",
       "      <td>8.3471</td>\n",
       "      <td>7.9620</td>\n",
       "      <td>24.5402</td>\n",
       "      <td>163.8674</td>\n",
       "      <td>h</td>\n",
       "    </tr>\n",
       "  </tbody>\n",
       "</table>\n",
       "</div>"
      ],
      "text/plain": [
       "        fLength   fWidth   fSize   fConc  fConc1    fAsym  fM3Long  fM3Trans  \\\n",
       "12332   93.7035  37.9432  3.1454  0.1680  0.1011  53.2566  89.0566   11.8175   \n",
       "12333  102.0005  22.0017  3.3161  0.1064  0.0724 -54.0862  43.0553  -15.0647   \n",
       "12334  100.2775  21.8784  3.1100  0.3120  0.1446 -48.1834  57.6547   -9.6341   \n",
       "12335   91.6558  18.8293  2.7097  0.4386  0.3420 -52.6841 -97.8373  -17.0955   \n",
       "12336   38.0195  12.6736  2.8747  0.4084  0.1928 -51.4840   8.3471    7.9620   \n",
       "\n",
       "        fAlpha     fDist class  \n",
       "12332  14.1224  231.9028     h  \n",
       "12333  88.4636  274.9392     h  \n",
       "12334  20.7848  346.4330     h  \n",
       "12335  63.8834  130.7998     h  \n",
       "12336  24.5402  163.8674     h  "
      ]
     },
     "execution_count": 41,
     "metadata": {},
     "output_type": "execute_result"
    }
   ],
   "source": [
    "cols = [\"fLength\", \"fWidth\", \"fSize\", \"fConc\", \"fConc1\", \"fAsym\", \"fM3Long\", \"fM3Trans\", \"fAlpha\", \"fDist\", \"class\"]\n",
    "df = pd.read_csv(\"./magic+gamma+telescope/magic04.data\", names=cols)\n",
    "df[df[\"class\"]!='g'].head()"
   ]
  },
  {
   "cell_type": "code",
   "execution_count": 42,
   "metadata": {},
   "outputs": [],
   "source": [
    "df[\"class\"] = (df[\"class\"] == 'g').astype(int)"
   ]
  },
  {
   "cell_type": "markdown",
   "metadata": {},
   "source": [
    "## Exploring Dataset:"
   ]
  },
  {
   "cell_type": "code",
   "execution_count": 22,
   "metadata": {},
   "outputs": [],
   "source": [
    "for label in cols[:-1]:\n",
    "    plt.hist(df[df[\"class\"]==1][label], bins=100, label='gamma', color='blue', alpha=0.7, density=True)\n",
    "    plt.hist(df[df[\"class\"]==0][label], bins=100, label='hadron', color='red', alpha=0.7, density=True)\n",
    "    plt.title(label)\n",
    "    plt.ylabel(\"Probability\")\n",
    "    plt.xlabel(label)\n",
    "    plt.legend()\n",
    "    plt.show()"
   ]
  },
  {
   "cell_type": "markdown",
   "metadata": {},
   "source": [
    "## Train, Validation and Test Datasets"
   ]
  },
  {
   "cell_type": "code",
   "execution_count": 52,
   "metadata": {},
   "outputs": [],
   "source": [
    "train, validation, test = np.split(df.sample(frac=1), [int(0.6*len(df)), int(0.8*len(df))])"
   ]
  },
  {
   "cell_type": "code",
   "execution_count": 53,
   "metadata": {},
   "outputs": [],
   "source": [
    "def scale_dataset(dataframe, oversample=False):\n",
    "    X = dataframe.iloc[:,:-1].values\n",
    "    y = dataframe.iloc[:,-1].values\n",
    "    \n",
    "    scaler = StandardScaler()\n",
    "    X = scaler.fit_transform(X)\n",
    "    \n",
    "    if oversample:\n",
    "        ros = RandomOverSampler()\n",
    "        X, y = ros.fit_resample(X, y)\n",
    "        \n",
    "    \n",
    "    data = np.hstack((X,np.reshape(y, (-1,1))))\n",
    "    \n",
    "    return data, X, y\n",
    "    "
   ]
  },
  {
   "cell_type": "code",
   "execution_count": 54,
   "metadata": {},
   "outputs": [],
   "source": [
    "train, x_train, y_train = scale_dataset(train, True)\n",
    "validation, x_validation, y_validation = scale_dataset(validation, False)\n",
    "test, x_test, y_test = scale_dataset(test, False)"
   ]
  }
 ],
 "metadata": {
  "kernelspec": {
   "display_name": "Python (ml)",
   "language": "python",
   "name": "ml"
  },
  "language_info": {
   "codemirror_mode": {
    "name": "ipython",
    "version": 3
   },
   "file_extension": ".py",
   "mimetype": "text/x-python",
   "name": "python",
   "nbconvert_exporter": "python",
   "pygments_lexer": "ipython3",
   "version": "3.12.4"
  }
 },
 "nbformat": 4,
 "nbformat_minor": 2
}
