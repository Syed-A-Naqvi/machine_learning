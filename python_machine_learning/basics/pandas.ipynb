{
 "cells": [
  {
   "cell_type": "markdown",
   "metadata": {},
   "source": [
    "### Pandas\n",
    "---"
   ]
  },
  {
   "cell_type": "markdown",
   "metadata": {},
   "source": [
    "Pandas provides two data structures:\n",
    "\n",
    "1. Series\n",
    "\n",
    "    - similar to a one dimensional array\n",
    "\n",
    "    - a single column of a pandas dataframe\n",
    "\n",
    "2. Dataframes\n",
    "\n",
    "    - similar to a matrix or 2 dimensional array\n",
    "\n",
    "    - a tabular representation of data with rows and columns"
   ]
  },
  {
   "cell_type": "markdown",
   "metadata": {},
   "source": [
    "#### 2.2.1 Series\n",
    "\n",
    "- a one dimensional array-like object with indexed-values\n",
    "- can be created from a list, numpy array or python dictionary"
   ]
  },
  {
   "cell_type": "code",
   "execution_count": 2,
   "metadata": {},
   "outputs": [],
   "source": [
    "import pandas as pd\n",
    "import numpy as np"
   ]
  },
  {
   "cell_type": "code",
   "execution_count": 3,
   "metadata": {},
   "outputs": [
    {
     "name": "stdout",
     "output_type": "stream",
     "text": [
      "Series = \n",
      "0    1.183280\n",
      "1   -1.742017\n",
      "2   -0.089072\n",
      "3   -0.135288\n",
      "4   -0.877929\n",
      "5    0.668887\n",
      "dtype: float64\n",
      "\n",
      "series values = [ 1.18328031 -1.74201678 -0.08907172 -0.1352878  -0.87792868  0.66888708]\n",
      "\n",
      "series indecies = RangeIndex(start=0, stop=6, step=1)\n",
      "\n",
      "s element data type = float64\n",
      "\n"
     ]
    }
   ],
   "source": [
    "s = pd.Series(np.random.randn(6))\n",
    "\n",
    "print(f\"Series = \\n{s}\\n\")\n",
    "print(f\"series values = {s.values}\\n\")\n",
    "print(f\"series indecies = {s.index}\\n\")\n",
    "print(f\"s element data type = {s.dtype}\\n\")"
   ]
  },
  {
   "cell_type": "code",
   "execution_count": 4,
   "metadata": {},
   "outputs": [
    {
     "name": "stdout",
     "output_type": "stream",
     "text": [
      "Series = \n",
      "Jan 1    18.190854\n",
      "Jan 2   -68.944947\n",
      "Jan 3    15.579721\n",
      "Jan 4    13.882168\n",
      "Jan 5   -38.623227\n",
      "Jan 6    91.384254\n",
      "Jan 7    65.073326\n",
      "dtype: float64\n",
      "\n",
      "series values = [ 18.1908537  -68.94494723  15.5797208   13.88216834 -38.62322682\n",
      "  91.38425367  65.07332557]\n",
      "\n",
      "series indicies = Index(['Jan 1', 'Jan 2', 'Jan 3', 'Jan 4', 'Jan 5', 'Jan 6', 'Jan 7'], dtype='object')\n",
      "\n",
      "series element data type = float64\n",
      "\n"
     ]
    }
   ],
   "source": [
    "# the indices do not necessarily need to be numbers\n",
    "\n",
    "s2 = pd.Series(np.random.uniform(-100,100,(7,)),['Jan 1', 'Jan 2', 'Jan 3', 'Jan 4', 'Jan 5', 'Jan 6', 'Jan 7'])\n",
    "\n",
    "print(f\"Series = \\n{s2}\\n\")\n",
    "print(f\"series values = {s2.values}\\n\")\n",
    "print(f\"series indicies = {s2.index}\\n\")\n",
    "print(f\"series element data type = {s2.dtype}\\n\")"
   ]
  },
  {
   "cell_type": "code",
   "execution_count": 5,
   "metadata": {},
   "outputs": [
    {
     "name": "stdout",
     "output_type": "stream",
     "text": [
      "Series s3 =\n",
      "MI       Lansing\n",
      "CA    Sacramento\n",
      "TX        Austin\n",
      "MN       St Paul\n",
      "dtype: object\n",
      "\n",
      "s3[2]= Austin\n",
      "s3['CA']= Sacramento\n",
      "\n",
      "s3[1:3]=\n",
      "CA    Sacramento\n",
      "TX        Austin\n",
      "dtype: object\n",
      "\n",
      "s3.iloc([1:3])=\n",
      "CA    Sacramento\n",
      "TX        Austin\n",
      "dtype: object\n",
      "s3.values = ['Lansing' 'Sacramento' 'Austin' 'St Paul']\n",
      "s3.index= Index(['MI', 'CA', 'TX', 'MN'], dtype='object')\n",
      "s3.dtype = object\n",
      "Shape of s3 = (4,)\n",
      "Size of s3 = 4\n",
      "Count of s3 = 4\n"
     ]
    },
    {
     "name": "stderr",
     "output_type": "stream",
     "text": [
      "/tmp/ipykernel_9162/2850164092.py:7: FutureWarning: Series.__getitem__ treating keys as positions is deprecated. In a future version, integer keys will always be treated as labels (consistent with DataFrame behavior). To access a value by position, use `ser.iloc[pos]`\n",
      "  print('s3[2]=', s3[2])        # display third element of the Series\n"
     ]
    }
   ],
   "source": [
    "capitals = {'MI': 'Lansing', 'CA': 'Sacramento', 'TX': 'Austin', 'MN': 'St Paul'}\n",
    "\n",
    "s3 = pd.Series(capitals)   # creating a series from dictionary object\n",
    "\n",
    "print(f'Series s3 =\\n{s3}\\n')\n",
    "# Accessing elements of a Series\n",
    "print('s3[2]=', s3[2])        # display third element of the Series\n",
    "print('s3[\\'CA\\']=', s3['CA'])   # indexing element of a Series \n",
    "print('\\ns3[1:3]=')             # display a slice of the Series\n",
    "print(s3[1:3])\n",
    "print(f'\\ns3.iloc([1:3])=\\n{s3.iloc[1:3]}')      # display a slice of the Series\n",
    "\n",
    "print('s3.values =', s3.values)   # display values of the Series\n",
    "print('s3.index=', s3.index)      # display indices of the Series\n",
    "print('s3.dtype =', s3.dtype)     # display the element type of the Series\n",
    "print('Shape of s3 =', s3.shape)   # get the dimension of the Series\n",
    "print('Size of s3 =', s3.size)     # get the number of elements of the Series\n",
    "print('Count of s3 =', s3.count()) # get the number of non-null elements of the Series"
   ]
  },
  {
   "cell_type": "code",
   "execution_count": 6,
   "metadata": {},
   "outputs": [
    {
     "name": "stdout",
     "output_type": "stream",
     "text": [
      "s2 = \n",
      "Jan 1    18.190854\n",
      "Jan 2   -68.944947\n",
      "Jan 3    15.579721\n",
      "Jan 4    13.882168\n",
      "Jan 5   -38.623227\n",
      "Jan 6    91.384254\n",
      "Jan 7    65.073326\n",
      "dtype: float64\n",
      "\n",
      "s2 >= 0: \n",
      "Jan 1     True\n",
      "Jan 2    False\n",
      "Jan 3     True\n",
      "Jan 4     True\n",
      "Jan 5    False\n",
      "Jan 6     True\n",
      "Jan 7     True\n",
      "dtype: bool\n",
      "\n",
      "s2[s2 >= 0]: \n",
      "Jan 1    18.190854\n",
      "Jan 3    15.579721\n",
      "Jan 4    13.882168\n",
      "Jan 6    91.384254\n",
      "Jan 7    65.073326\n",
      "dtype: float64\n",
      "\n",
      "|s2| = \n",
      "Jan 1    18.190854\n",
      "Jan 2    68.944947\n",
      "Jan 3    15.579721\n",
      "Jan 4    13.882168\n",
      "Jan 5    38.623227\n",
      "Jan 6    91.384254\n",
      "Jan 7    65.073326\n",
      "dtype: float64\n",
      "\n",
      "s2 - s2 + 1 = \n",
      "Jan 1    1.0\n",
      "Jan 2    1.0\n",
      "Jan 3    1.0\n",
      "Jan 4    1.0\n",
      "Jan 5    1.0\n",
      "Jan 6    1.0\n",
      "Jan 7    1.0\n",
      "dtype: float64\n",
      "\n"
     ]
    }
   ],
   "source": [
    "print(f\"s2 = \\n{s2}\\n\")\n",
    "\n",
    "# applying a boolean filter to the series\n",
    "print(f\"s2 >= 0: \\n{s2 >= 0}\\n\")\n",
    "# using a boolean series filter to index a series object\n",
    "print(f\"s2[s2 >= 0]: \\n{s2[s2 >= 0]}\\n\")\n",
    "\n",
    "# applying numpy functions\n",
    "print(f\"|s2| = \\n{np.abs(s2)}\\n\")\n",
    "print(f\"s2 - s2 + 1 = \\n{np.add(s2-s2, 1)}\\n\")"
   ]
  },
  {
   "cell_type": "code",
   "execution_count": 7,
   "metadata": {},
   "outputs": [
    {
     "name": "stdout",
     "output_type": "stream",
     "text": [
      "colors = \n",
      "0       red\n",
      "1      blue\n",
      "2      blue\n",
      "3    yellow\n",
      "4       red\n",
      "5     green\n",
      "6      blue\n",
      "7       NaN\n",
      "dtype: object\n",
      "\n",
      "color_counts = \n",
      "blue      3\n",
      "red       2\n",
      "yellow    1\n",
      "green     1\n",
      "Name: count, dtype: int64\n",
      "\n"
     ]
    }
   ],
   "source": [
    "colors = pd.Series(['red', 'blue', 'blue', 'yellow', 'red', 'green', 'blue', np.nan])\n",
    "\n",
    "print(f\"colors = \\n{colors}\\n\")\n",
    "\n",
    "# can retrieve count for all unique values in the colors series\n",
    "print(f\"color_counts = \\n{colors.value_counts()}\\n\")"
   ]
  },
  {
   "cell_type": "markdown",
   "metadata": {},
   "source": [
    "#### 2.2.2 Data Frames"
   ]
  },
  {
   "cell_type": "markdown",
   "metadata": {},
   "source": [
    "- a tabular spreadsheet-like data structure\n",
    "\n",
    "- composed of multiple Series objects\n",
    "\n",
    "- can be indexed numerically using two coordinates (row,column)\n",
    "\n",
    "- can be created from dictionaries, ndarrays, list of tuples"
   ]
  },
  {
   "cell_type": "markdown",
   "metadata": {},
   "source": [
    "#### Building Dataframes"
   ]
  },
  {
   "cell_type": "code",
   "execution_count": 8,
   "metadata": {},
   "outputs": [
    {
     "data": {
      "text/html": [
       "<div>\n",
       "<style scoped>\n",
       "    .dataframe tbody tr th:only-of-type {\n",
       "        vertical-align: middle;\n",
       "    }\n",
       "\n",
       "    .dataframe tbody tr th {\n",
       "        vertical-align: top;\n",
       "    }\n",
       "\n",
       "    .dataframe thead th {\n",
       "        text-align: right;\n",
       "    }\n",
       "</style>\n",
       "<table border=\"1\" class=\"dataframe\">\n",
       "  <thead>\n",
       "    <tr style=\"text-align: right;\">\n",
       "      <th></th>\n",
       "      <th>make</th>\n",
       "      <th>model</th>\n",
       "      <th>MSRP</th>\n",
       "    </tr>\n",
       "  </thead>\n",
       "  <tbody>\n",
       "    <tr>\n",
       "      <th>0</th>\n",
       "      <td>Ford</td>\n",
       "      <td>Taurus</td>\n",
       "      <td>27595</td>\n",
       "    </tr>\n",
       "    <tr>\n",
       "      <th>1</th>\n",
       "      <td>Honda</td>\n",
       "      <td>Accord</td>\n",
       "      <td>23570</td>\n",
       "    </tr>\n",
       "    <tr>\n",
       "      <th>2</th>\n",
       "      <td>Toyota</td>\n",
       "      <td>Camry</td>\n",
       "      <td>23495</td>\n",
       "    </tr>\n",
       "    <tr>\n",
       "      <th>3</th>\n",
       "      <td>Tesla</td>\n",
       "      <td>Model S</td>\n",
       "      <td>68000</td>\n",
       "    </tr>\n",
       "  </tbody>\n",
       "</table>\n",
       "</div>"
      ],
      "text/plain": [
       "     make    model   MSRP\n",
       "0    Ford   Taurus  27595\n",
       "1   Honda   Accord  23570\n",
       "2  Toyota    Camry  23495\n",
       "3   Tesla  Model S  68000"
      ]
     },
     "execution_count": 8,
     "metadata": {},
     "output_type": "execute_result"
    }
   ],
   "source": [
    "# creating a dictionary\n",
    "cars = {'make': ('Ford', 'Honda', 'Toyota', 'Tesla'),\n",
    "       'model': ('Taurus', 'Accord', 'Camry', 'Model S'),\n",
    "       'MSRP': (27595, 23570, 23495, 68000)}\n",
    "\n",
    "# creating a dataframe using the dictionary\n",
    "carData = pd.DataFrame(cars)\n",
    "carData"
   ]
  },
  {
   "cell_type": "code",
   "execution_count": 9,
   "metadata": {},
   "outputs": [
    {
     "name": "stdout",
     "output_type": "stream",
     "text": [
      "carData row indices = [0 1 2 3]\n",
      "carData column indices = Index(['make', 'model', 'MSRP'], dtype='object')\n"
     ]
    }
   ],
   "source": [
    "# print CarData row and column indices\n",
    "\n",
    "print(f\"carData row indices = {np.array(carData.index)}\")\n",
    "print(f\"carData column indices = {carData.columns}\")"
   ]
  },
  {
   "cell_type": "code",
   "execution_count": 10,
   "metadata": {},
   "outputs": [
    {
     "data": {
      "text/html": [
       "<div>\n",
       "<style scoped>\n",
       "    .dataframe tbody tr th:only-of-type {\n",
       "        vertical-align: middle;\n",
       "    }\n",
       "\n",
       "    .dataframe tbody tr th {\n",
       "        vertical-align: top;\n",
       "    }\n",
       "\n",
       "    .dataframe thead th {\n",
       "        text-align: right;\n",
       "    }\n",
       "</style>\n",
       "<table border=\"1\" class=\"dataframe\">\n",
       "  <thead>\n",
       "    <tr style=\"text-align: right;\">\n",
       "      <th></th>\n",
       "      <th>make</th>\n",
       "      <th>model</th>\n",
       "      <th>MSRP</th>\n",
       "      <th>year</th>\n",
       "      <th>dealership</th>\n",
       "    </tr>\n",
       "  </thead>\n",
       "  <tbody>\n",
       "    <tr>\n",
       "      <th>1</th>\n",
       "      <td>Ford</td>\n",
       "      <td>Taurus</td>\n",
       "      <td>27595</td>\n",
       "      <td>2018</td>\n",
       "      <td>Courtesy Ford</td>\n",
       "    </tr>\n",
       "    <tr>\n",
       "      <th>2</th>\n",
       "      <td>Honda</td>\n",
       "      <td>Accord</td>\n",
       "      <td>23570</td>\n",
       "      <td>2018</td>\n",
       "      <td>Capital Honda</td>\n",
       "    </tr>\n",
       "    <tr>\n",
       "      <th>3</th>\n",
       "      <td>Toyota</td>\n",
       "      <td>Camry</td>\n",
       "      <td>23495</td>\n",
       "      <td>2018</td>\n",
       "      <td>Spartan Toyota</td>\n",
       "    </tr>\n",
       "    <tr>\n",
       "      <th>4</th>\n",
       "      <td>Tesla</td>\n",
       "      <td>Model S</td>\n",
       "      <td>68000</td>\n",
       "      <td>2018</td>\n",
       "      <td>N/A</td>\n",
       "    </tr>\n",
       "  </tbody>\n",
       "</table>\n",
       "</div>"
      ],
      "text/plain": [
       "     make    model   MSRP  year      dealership\n",
       "1    Ford   Taurus  27595  2018   Courtesy Ford\n",
       "2   Honda   Accord  23570  2018   Capital Honda\n",
       "3  Toyota    Camry  23495  2018  Spartan Toyota\n",
       "4   Tesla  Model S  68000  2018             N/A"
      ]
     },
     "execution_count": 10,
     "metadata": {},
     "output_type": "execute_result"
    }
   ],
   "source": [
    "# custom dataframe indexing\n",
    "carData = pd.DataFrame(cars, index=[1,2,3,4])\n",
    "# creating a new column with same value for all rows\n",
    "carData['year'] = 2018\n",
    "# creating another new column\n",
    "carData['dealership'] = ['Courtesy Ford','Capital Honda','Spartan Toyota', 'N/A']\n",
    "carData"
   ]
  },
  {
   "cell_type": "code",
   "execution_count": 11,
   "metadata": {},
   "outputs": [
    {
     "data": {
      "text/html": [
       "<div>\n",
       "<style scoped>\n",
       "    .dataframe tbody tr th:only-of-type {\n",
       "        vertical-align: middle;\n",
       "    }\n",
       "\n",
       "    .dataframe tbody tr th {\n",
       "        vertical-align: top;\n",
       "    }\n",
       "\n",
       "    .dataframe thead th {\n",
       "        text-align: right;\n",
       "    }\n",
       "</style>\n",
       "<table border=\"1\" class=\"dataframe\">\n",
       "  <thead>\n",
       "    <tr style=\"text-align: right;\">\n",
       "      <th></th>\n",
       "      <th>year</th>\n",
       "      <th>temp</th>\n",
       "      <th>precip</th>\n",
       "    </tr>\n",
       "  </thead>\n",
       "  <tbody>\n",
       "    <tr>\n",
       "      <th>0</th>\n",
       "      <td>2011</td>\n",
       "      <td>45.1</td>\n",
       "      <td>32.4</td>\n",
       "    </tr>\n",
       "    <tr>\n",
       "      <th>1</th>\n",
       "      <td>2012</td>\n",
       "      <td>42.4</td>\n",
       "      <td>34.5</td>\n",
       "    </tr>\n",
       "    <tr>\n",
       "      <th>2</th>\n",
       "      <td>2013</td>\n",
       "      <td>47.2</td>\n",
       "      <td>39.2</td>\n",
       "    </tr>\n",
       "    <tr>\n",
       "      <th>3</th>\n",
       "      <td>2014</td>\n",
       "      <td>44.2</td>\n",
       "      <td>31.4</td>\n",
       "    </tr>\n",
       "    <tr>\n",
       "      <th>4</th>\n",
       "      <td>2015</td>\n",
       "      <td>39.9</td>\n",
       "      <td>29.8</td>\n",
       "    </tr>\n",
       "    <tr>\n",
       "      <th>5</th>\n",
       "      <td>2016</td>\n",
       "      <td>41.5</td>\n",
       "      <td>36.7</td>\n",
       "    </tr>\n",
       "  </tbody>\n",
       "</table>\n",
       "</div>"
      ],
      "text/plain": [
       "   year  temp  precip\n",
       "0  2011  45.1    32.4\n",
       "1  2012  42.4    34.5\n",
       "2  2013  47.2    39.2\n",
       "3  2014  44.2    31.4\n",
       "4  2015  39.9    29.8\n",
       "5  2016  41.5    36.7"
      ]
     },
     "execution_count": 11,
     "metadata": {},
     "output_type": "execute_result"
    }
   ],
   "source": [
    "# using a list of tuples to create a dataframe\n",
    "    # each element of the list is a row\n",
    "tuplelist = [(2011,45.1,32.4),(2012,42.4,34.5),(2013,47.2,39.2),\n",
    "              (2014,44.2,31.4),(2015,39.9,29.8),(2016,41.5,36.7)]\n",
    "columnNames = ['year','temp','precip']\n",
    "weatherData = pd.DataFrame(tuplelist, columns=columnNames)\n",
    "weatherData"
   ]
  },
  {
   "cell_type": "code",
   "execution_count": 12,
   "metadata": {},
   "outputs": [
    {
     "data": {
      "text/html": [
       "<div>\n",
       "<style scoped>\n",
       "    .dataframe tbody tr th:only-of-type {\n",
       "        vertical-align: middle;\n",
       "    }\n",
       "\n",
       "    .dataframe tbody tr th {\n",
       "        vertical-align: top;\n",
       "    }\n",
       "\n",
       "    .dataframe thead th {\n",
       "        text-align: right;\n",
       "    }\n",
       "</style>\n",
       "<table border=\"1\" class=\"dataframe\">\n",
       "  <thead>\n",
       "    <tr style=\"text-align: right;\">\n",
       "      <th></th>\n",
       "      <th>x1</th>\n",
       "      <th>x2</th>\n",
       "      <th>x3</th>\n",
       "    </tr>\n",
       "  </thead>\n",
       "  <tbody>\n",
       "    <tr>\n",
       "      <th>a</th>\n",
       "      <td>0.715671</td>\n",
       "      <td>1.276086</td>\n",
       "      <td>0.363099</td>\n",
       "    </tr>\n",
       "    <tr>\n",
       "      <th>b</th>\n",
       "      <td>-0.072011</td>\n",
       "      <td>2.456527</td>\n",
       "      <td>-1.617341</td>\n",
       "    </tr>\n",
       "    <tr>\n",
       "      <th>c</th>\n",
       "      <td>-0.772550</td>\n",
       "      <td>0.164698</td>\n",
       "      <td>0.777112</td>\n",
       "    </tr>\n",
       "    <tr>\n",
       "      <th>d</th>\n",
       "      <td>0.988983</td>\n",
       "      <td>-0.551494</td>\n",
       "      <td>2.321461</td>\n",
       "    </tr>\n",
       "    <tr>\n",
       "      <th>e</th>\n",
       "      <td>-1.604289</td>\n",
       "      <td>0.659100</td>\n",
       "      <td>0.941668</td>\n",
       "    </tr>\n",
       "  </tbody>\n",
       "</table>\n",
       "</div>"
      ],
      "text/plain": [
       "         x1        x2        x3\n",
       "a  0.715671  1.276086  0.363099\n",
       "b -0.072011  2.456527 -1.617341\n",
       "c -0.772550  0.164698  0.777112\n",
       "d  0.988983 -0.551494  2.321461\n",
       "e -1.604289  0.659100  0.941668"
      ]
     },
     "execution_count": 12,
     "metadata": {},
     "output_type": "execute_result"
    }
   ],
   "source": [
    "# creating a dataframe from a random numpy matrix\n",
    "npdata = np.random.normal(size=(5,3))\n",
    "columns = ['x1', 'x2', 'x3']\n",
    "data = pd.DataFrame(npdata, columns=columns, index=['a', 'b', 'c', 'd', 'e'])\n",
    "data"
   ]
  },
  {
   "cell_type": "markdown",
   "metadata": {},
   "source": [
    "#### Accessing Dataframes"
   ]
  },
  {
   "cell_type": "code",
   "execution_count": 13,
   "metadata": {},
   "outputs": [
    {
     "name": "stdout",
     "output_type": "stream",
     "text": [
      "a    1.276086\n",
      "b    2.456527\n",
      "c    0.164698\n",
      "d   -0.551494\n",
      "e    0.659100\n",
      "Name: x2, dtype: float64\n",
      "<class 'pandas.core.series.Series'>\n"
     ]
    }
   ],
   "source": [
    "# accessing an entire column will return a series object\n",
    "print(data['x2'])\n",
    "print(type(data['x2']))"
   ]
  },
  {
   "cell_type": "code",
   "execution_count": 14,
   "metadata": {},
   "outputs": [
    {
     "name": "stdout",
     "output_type": "stream",
     "text": [
      "         x1        x2        x3\n",
      "a  0.715671  1.276086  0.363099\n",
      "b -0.072011  2.456527 -1.617341\n",
      "c -0.772550  0.164698  0.777112\n",
      "d  0.988983 -0.551494  2.321461\n",
      "e -1.604289  0.659100  0.941668\n",
      "x1   -0.772550\n",
      "x2    0.164698\n",
      "x3    0.777112\n",
      "Name: c, dtype: float64\n",
      "<class 'pandas.core.frame.DataFrame'>\n",
      "\n",
      "     make    model   MSRP  year      dealership\n",
      "1    Ford   Taurus  27595  2018   Courtesy Ford\n",
      "2   Honda   Accord  23570  2018   Capital Honda\n",
      "3  Toyota    Camry  23495  2018  Spartan Toyota\n",
      "4   Tesla  Model S  68000  2018             N/A\n",
      "make                  Toyota\n",
      "model                  Camry\n",
      "MSRP                   23495\n",
      "year                    2018\n",
      "dealership    Spartan Toyota\n",
      "Name: 3, dtype: object\n",
      "<class 'pandas.core.frame.DataFrame'>\n"
     ]
    }
   ],
   "source": [
    "# accessing an entire row will also return a series, indexed using the columns of the original dataframe\n",
    "\n",
    "print(data)\n",
    "print(data.iloc[2,:])\n",
    "print(type(data.iloc[2:]))\n",
    "\n",
    "print()\n",
    "\n",
    "print(carData)\n",
    "print(carData.iloc[2,:])\n",
    "print(type(carData.iloc[2:]))"
   ]
  },
  {
   "cell_type": "code",
   "execution_count": 15,
   "metadata": {},
   "outputs": [
    {
     "name": "stdout",
     "output_type": "stream",
     "text": [
      "         x1        x2        x3\n",
      "a  0.715671  1.276086  0.363099\n",
      "b -0.072011  2.456527 -1.617341\n",
      "c -0.772550  0.164698  0.777112\n",
      "d  0.988983 -0.551494  2.321461\n",
      "e -1.604289  0.659100  0.941668\n",
      "(5, 3)\n",
      "15\n",
      "\n",
      "b    2.456527\n",
      "c    0.164698\n",
      "d   -0.551494\n",
      "Name: x2, dtype: float64\n",
      "0.7771117641228569\n",
      "\n",
      "         x1\n",
      "b -0.072011\n",
      "c -0.772550\n"
     ]
    }
   ],
   "source": [
    "print(data)\n",
    "print(data.shape) # dataframe dimensions\n",
    "print(data.size) # number of elements in dataframe\n",
    "print()\n",
    "\n",
    "# selecting specific cells\n",
    "print(data.loc[\"b\":\"d\",\"x2\"]) # loc expects column/row labels instead of integer-based indexing\n",
    "                        # note that row numbers are interpreted as labels by default\n",
    "print(data.iloc[2,2]) # iloc is solely for numerical indexing\n",
    "print()\n",
    "\n",
    "# slicing dataframes\n",
    "print(data.iloc[1:3,0:1])"
   ]
  },
  {
   "cell_type": "code",
   "execution_count": 16,
   "metadata": {},
   "outputs": [
    {
     "name": "stdout",
     "output_type": "stream",
     "text": [
      "     make    model   MSRP  year      dealership\n",
      "1    Ford   Taurus  27595  2018   Courtesy Ford\n",
      "2   Honda   Accord  23570  2018   Capital Honda\n",
      "3  Toyota    Camry  23495  2018  Spartan Toyota\n",
      "4   Tesla  Model S  68000  2018             N/A\n",
      "\n",
      "    make    model   MSRP  year     dealership\n",
      "1   Ford   Taurus  27595  2018  Courtesy Ford\n",
      "4  Tesla  Model S  68000  2018            N/A\n",
      "\n",
      "     make    model   MSRP  year      dealership\n",
      "3  Toyota    Camry  23495  2018  Spartan Toyota\n",
      "4   Tesla  Model S  68000  2018             N/A\n"
     ]
    }
   ],
   "source": [
    "# filtering dataframes\n",
    "\n",
    "print(carData)\n",
    "print()\n",
    "print(carData[carData['MSRP']>25000])\n",
    "print()\n",
    "print(carData[carData['make'].str.startswith('T')])\n"
   ]
  },
  {
   "cell_type": "markdown",
   "metadata": {},
   "source": [
    "#### 2.2.3 Arithmetic Operations"
   ]
  },
  {
   "cell_type": "code",
   "execution_count": 17,
   "metadata": {},
   "outputs": [
    {
     "name": "stdout",
     "output_type": "stream",
     "text": [
      "         x1        x2        x3\n",
      "a  0.715671  1.276086  0.363099\n",
      "b -0.072011  2.456527 -1.617341\n",
      "c -0.772550  0.164698  0.777112\n",
      "d  0.988983 -0.551494  2.321461\n",
      "e -1.604289  0.659100  0.941668\n",
      "\n",
      "Dataframe transpose operation: data.T\n",
      "           a         b         c         d         e\n",
      "x1  0.715671 -0.072011 -0.772550  0.988983 -1.604289\n",
      "x2  1.276086  2.456527  0.164698 -0.551494  0.659100\n",
      "x3  0.363099 -1.617341  0.777112  2.321461  0.941668\n",
      "\n",
      "Addition: data + 4\n",
      "         x1        x2        x3\n",
      "a  4.715671  5.276086  4.363099\n",
      "b  3.927989  6.456527  2.382659\n",
      "c  3.227450  4.164698  4.777112\n",
      "d  4.988983  3.448506  6.321461\n",
      "e  2.395711  4.659100  4.941668\n",
      "\n",
      "Multiplication: data * 10\n",
      "          x1         x2         x3\n",
      "a   7.156712  12.760856   3.630986\n",
      "b  -0.720113  24.565274 -16.173411\n",
      "c  -7.725504   1.646979   7.771118\n",
      "d   9.889833  -5.514940  23.214606\n",
      "e -16.042888   6.590996   9.416676\n"
     ]
    }
   ],
   "source": [
    "print(data)\n",
    "\n",
    "print('\\nDataframe transpose operation: data.T')\n",
    "print(data.T) # will return the transpose of the dataframe\n",
    "\n",
    "print('\\nAddition: data + 4')\n",
    "print(data + 4) # will simply add 4 elementwise\n",
    "\n",
    "print('\\nMultiplication: data * 10')\n",
    "print(data * 10) # elementwise multiplication"
   ]
  },
  {
   "cell_type": "code",
   "execution_count": 18,
   "metadata": {},
   "outputs": [
    {
     "name": "stdout",
     "output_type": "stream",
     "text": [
      "data =\n",
      "          x1        x2        x3\n",
      "a  0.715671  1.276086  0.363099\n",
      "b -0.072011  2.456527 -1.617341\n",
      "c -0.772550  0.164698  0.777112\n",
      "d  0.988983 -0.551494  2.321461\n",
      "e -1.604289  0.659100  0.941668\n",
      "\n",
      "data2 =\n",
      "         x1        x2        x3\n",
      "a  1.161504 -0.675274 -0.582210\n",
      "b  0.676233  0.257944 -1.362980\n",
      "c -0.660276 -0.592443 -1.221000\n",
      "d  1.283066 -0.444649 -1.229014\n",
      "e -2.513661  0.022976  0.335539\n",
      "\n",
      "data + data2 = \n",
      "         x1        x2        x3\n",
      "b  0.604221  2.714472 -2.980321\n",
      "c -1.432827 -0.427745 -0.443888\n",
      "         x1        x2        x3\n",
      "b  0.604221  2.714472 -2.980321\n",
      "c -1.432827 -0.427745 -0.443888\n",
      "\n",
      "data * data2 = \n",
      "         x1        x2        x3\n",
      "b -0.048696  0.633647  2.204403\n",
      "c  0.510097 -0.097574 -0.948854\n",
      "         x1        x2        x3\n",
      "b -0.048696  0.633647  2.204403\n",
      "c  0.510097 -0.097574 -0.948854\n"
     ]
    }
   ],
   "source": [
    "print('data =\\n', data)\n",
    "\n",
    "# creating another dataframe of the same size/shape\n",
    "    # column/row labels need to match so python can determine which elements to add\n",
    "columnNames = ['x1','x2','x3']\n",
    "data2 = pd.DataFrame(np.random.randn(5,3), columns=columnNames, index=['a', 'b', 'c', 'd', 'e'])\n",
    "print('\\ndata2 =')\n",
    "print(data2)\n",
    "\n",
    "print('\\ndata + data2 = ')\n",
    "print(data.iloc[1:3,:].add(data2.iloc[1:3,:]))\n",
    "print(data.iloc[1:3,:] + data2.iloc[1:3,:])\n",
    "\n",
    "print('\\ndata * data2 = ')\n",
    "print(data.iloc[1:3,:].mul(data2.iloc[1:3,:]))\n",
    "print(data.iloc[1:3,:] * data2.iloc[1:3,:])\n"
   ]
  },
  {
   "cell_type": "code",
   "execution_count": 28,
   "metadata": {},
   "outputs": [
    {
     "name": "stdout",
     "output_type": "stream",
     "text": [
      "original dataframe: \n",
      "         x1        x2        x3\n",
      "a  0.715671  1.276086  0.363099\n",
      "b -0.072011  2.456527 -1.617341\n",
      "c -0.772550  0.164698  0.777112\n",
      "d  0.988983 -0.551494  2.321461\n",
      "e -1.604289  0.659100  0.941668\n",
      "Calculate max-min for each column\n",
      "x1    2.593272\n",
      "x2    3.008021\n",
      "x3    3.938802\n",
      "dtype: float64\n",
      "\n",
      "Calculate max - min for each row\n",
      "a    0.912987\n",
      "b    4.073869\n",
      "c    1.549662\n",
      "d    2.872955\n",
      "e    2.545956\n",
      "dtype: float64\n"
     ]
    }
   ],
   "source": [
    "# orignal dataframe\n",
    "print(f\"original dataframe: \\n{data}\")\n",
    "\n",
    "# get the absolute value of each element\n",
    "# print(data.abs())\n",
    "\n",
    "# get the minimum element of each column\n",
    "# print(data.min()) # this will aggregate or collapse all rows into a single value for each column (the min of that column)\n",
    "                  # whenever an operation on a dataframe returns a single row, pandas returns a series object indexed using the column labels\n",
    "# get the min of each row\n",
    "# print(data.min(axis=1)) # will aggregate all columns into the min value for each row, returns a series object indexed by row labels\n",
    "\n",
    "# same operations as above but for the max values this time\n",
    "# print(data.max())\n",
    "# print(data.max(axis=1))\n",
    "\n",
    "# # finding the mean across rows/columns\n",
    "# print(data.mean())\n",
    "# print(data.mean(axis=1))\n",
    "\n",
    "# can execute a lambda function across rows and columns of a dataframe\n",
    "print(f\"Calculate max-min for each column\")\n",
    "print(data.apply(lambda x: x.max() - x.min()))\n",
    "\n",
    "print(f'\\nCalculate max - min for each row') \n",
    "print(data.apply(lambda x: x.max() - x.min(), axis=1))"
   ]
  },
  {
   "cell_type": "code",
   "execution_count": 37,
   "metadata": {},
   "outputs": [
    {
     "name": "stdout",
     "output_type": "stream",
     "text": [
      "Shape DataFrame: \n",
      "       shape color\n",
      "0     circle   red\n",
      "1     square   red\n",
      "2     square   red\n",
      "3     square  blue\n",
      "4     circle  blue\n",
      "5  rectangle  blue\n",
      "\n",
      "Unique Combination Counts: \n",
      "shape      color\n",
      "circle     blue     1\n",
      "           red      1\n",
      "rectangle  blue     1\n",
      "square     blue     1\n",
      "           red      2\n",
      "Name: count, dtype: int64\n",
      "\n",
      "Getting the number of red squares: 2\n"
     ]
    }
   ],
   "source": [
    "# creating a dictionary of shapes\n",
    "objects = {'shape' : ['circle', 'square', 'square', 'square', 'circle', 'rectangle'],\n",
    "           'color' : ['red', 'red', 'red', 'blue', 'blue', 'blue']}\n",
    "\n",
    "shapeData = pd.DataFrame(objects)\n",
    "\n",
    "print(f'Shape DataFrame: \\n{shapeData}')\n",
    "\n",
    "# the value_counts() will return a multi-level indexed series object\n",
    "# each index contains a unique combination of column values that appeared in a single row\n",
    "# the returned value counts series object can be indexed using tuples containing the desired value combination \n",
    "print(f'\\nUnique Combination Counts: \\n{shapeData.value_counts().sort_values()}')\n",
    "print(f'\\nGetting the number of red squares: {shapeData.value_counts().sort_values()[('square','red')]}')"
   ]
  },
  {
   "cell_type": "markdown",
   "metadata": {},
   "source": [
    "#### 2.2.4 Plotting Data from Series and Dataframe Objects"
   ]
  },
  {
   "cell_type": "code",
   "execution_count": 43,
   "metadata": {},
   "outputs": [
    {
     "data": {
      "text/plain": [
       "<Axes: title={'center': 'line plot'}, xlabel='dates', ylabel='values'>"
      ]
     },
     "execution_count": 43,
     "metadata": {},
     "output_type": "execute_result"
    },
    {
     "data": {
      "image/png": "[encoded data removed]",
      "text/plain": [
       "<Figure size 640x480 with 1 Axes>"
      ]
     },
     "metadata": {},
     "output_type": "display_data"
    }
   ],
   "source": [
    "s3 = pd.Series([0.5,1.2,3.4,1.9,2.3,2.9,1.0],\n",
    "               index=['Jan 1', 'Jan 2', 'Jan 3', 'Jan 4', 'Jan 5', 'Jan 6', 'Jan 7',])\n",
    "\n",
    "# a series object can be plotted directly as follows:\n",
    "s3.plot(kind='line', title='line plot', xlabel='dates', ylabel='values')\n"
   ]
  }
 ],
 "metadata": {
  "kernelspec": {
   "display_name": "ml",
   "language": "python",
   "name": "python3"
  },
  "language_info": {
   "codemirror_mode": {
    "name": "ipython",
    "version": 3
   },
   "file_extension": ".py",
   "mimetype": "text/x-python",
   "name": "python",
   "nbconvert_exporter": "python",
   "pygments_lexer": "ipython3",
   "version": "3.12.4"
  }
 },
 "nbformat": 4,
 "nbformat_minor": 2
}
