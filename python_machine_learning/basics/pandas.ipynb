{
 "cells": [
  {
   "cell_type": "markdown",
   "metadata": {},
   "source": [
    "### Pandas\n",
    "---"
   ]
  },
  {
   "cell_type": "markdown",
   "metadata": {},
   "source": [
    "Pandas provides two data structures:\n",
    "\n",
    "1. Series\n",
    "\n",
    "    - similar to a one dimensional array\n",
    "\n",
    "    - a single column of a pandas dataframe\n",
    "\n",
    "2. Dataframes\n",
    "\n",
    "    - similar to a matrix or 2 dimensional array\n",
    "\n",
    "    - a tabular representation of data with rows and columns"
   ]
  },
  {
   "cell_type": "markdown",
   "metadata": {},
   "source": [
    "#### 2.2.1 Series\n",
    "\n",
    "- a one dimensional array-like object with indexed-values\n",
    "- can be created from a list, numpy array or python dictionary"
   ]
  },
  {
   "cell_type": "code",
   "execution_count": 4,
   "metadata": {},
   "outputs": [],
   "source": [
    "import pandas as pd\n",
    "import numpy as np"
   ]
  },
  {
   "cell_type": "code",
   "execution_count": 8,
   "metadata": {},
   "outputs": [
    {
     "name": "stdout",
     "output_type": "stream",
     "text": [
      "Series = \n",
      "0   -1.230565\n",
      "1    0.871356\n",
      "2   -1.144284\n",
      "3    1.684823\n",
      "4   -0.791202\n",
      "5   -0.747542\n",
      "dtype: float64\n",
      "\n",
      "series values = [-1.23056463  0.87135595 -1.14428416  1.68482265 -0.79120155 -0.74754181]\n",
      "\n",
      "series indecies = RangeIndex(start=0, stop=6, step=1)\n",
      "\n",
      "s element data type = float64\n",
      "\n"
     ]
    }
   ],
   "source": [
    "s = pd.Series(np.random.randn(6))\n",
    "\n",
    "print(f\"Series = \\n{s}\\n\")\n",
    "print(f\"series values = {s.values}\\n\")\n",
    "print(f\"series indecies = {s.index}\\n\")\n",
    "print(f\"s element data type = {s.dtype}\\n\")"
   ]
  },
  {
   "cell_type": "code",
   "execution_count": 18,
   "metadata": {},
   "outputs": [
    {
     "name": "stdout",
     "output_type": "stream",
     "text": [
      "Series = \n",
      "Jan 1    28.740124\n",
      "Jan 2    39.498808\n",
      "Jan 3   -84.496616\n",
      "Jan 4    76.645044\n",
      "Jan 5    46.821083\n",
      "Jan 6    55.583407\n",
      "Jan 7   -20.214021\n",
      "dtype: float64\n",
      "\n",
      "series values = [ 28.74012352  39.49880782 -84.49661621  76.64504439  46.82108305\n",
      "  55.58340727 -20.21402059]\n",
      "\n",
      "series indicies = Index(['Jan 1', 'Jan 2', 'Jan 3', 'Jan 4', 'Jan 5', 'Jan 6', 'Jan 7'], dtype='object')\n",
      "\n",
      "series element data type = float64\n",
      "\n"
     ]
    }
   ],
   "source": [
    "# the indices do not necessarily need to be numbers\n",
    "\n",
    "s2 = pd.Series(np.random.uniform(-100,100,(7,)),['Jan 1', 'Jan 2', 'Jan 3', 'Jan 4', 'Jan 5', 'Jan 6', 'Jan 7'])\n",
    "\n",
    "print(f\"Series = \\n{s2}\\n\")\n",
    "print(f\"series values = {s2.values}\\n\")\n",
    "print(f\"series indicies = {s2.index}\\n\")\n",
    "print(f\"series element data type = {s2.dtype}\\n\")"
   ]
  },
  {
   "cell_type": "code",
   "execution_count": 23,
   "metadata": {},
   "outputs": [
    {
     "name": "stdout",
     "output_type": "stream",
     "text": [
      "Series s3 =\n",
      "MI       Lansing\n",
      "CA    Sacramento\n",
      "TX        Austin\n",
      "MN       St Paul\n",
      "dtype: object\n",
      "\n",
      "s3[2]= Austin\n",
      "s3['CA']= Sacramento\n",
      "\n",
      "s3[1:3]=\n",
      "CA    Sacramento\n",
      "TX        Austin\n",
      "dtype: object\n",
      "\n",
      "s3.iloc([1:3])=\n",
      "CA    Sacramento\n",
      "TX        Austin\n",
      "dtype: object\n",
      "s3.values = ['Lansing' 'Sacramento' 'Austin' 'St Paul']\n",
      "s3.index= Index(['MI', 'CA', 'TX', 'MN'], dtype='object')\n",
      "s3.dtype = object\n",
      "Shape of s3 = (4,)\n",
      "Size of s3 = 4\n",
      "Count of s3 = 4\n"
     ]
    },
    {
     "name": "stderr",
     "output_type": "stream",
     "text": [
      "/tmp/ipykernel_11974/2479481857.py:7: FutureWarning: Series.__getitem__ treating keys as positions is deprecated. In a future version, integer keys will always be treated as labels (consistent with DataFrame behavior). To access a value by position, use `ser.iloc[pos]`\n",
      "  print('s3[2]=', s3[2])        # display third element of the Series\n"
     ]
    }
   ],
   "source": [
    "capitals = {'MI': 'Lansing', 'CA': 'Sacramento', 'TX': 'Austin', 'MN': 'St Paul'}\n",
    "\n",
    "s3 = pd.Series(capitals)   # creating a series from dictionary object\n",
    "\n",
    "print(f'Series s3 =\\n{s3}\\n')\n",
    "# Accessing elements of a Series\n",
    "print('s3[2]=', s3[2])        # display third element of the Series\n",
    "print('s3[\\'CA\\']=', s3['CA'])   # indexing element of a Series \n",
    "print('\\ns3[1:3]=')             # display a slice of the Series\n",
    "print(s3[1:3])\n",
    "print('\\ns3.iloc([1:3])=')      # display a slice of the Series\n",
    "print(s3.iloc[1:3])\n",
    "\n",
    "print('s3.values =', s3.values)   # display values of the Series\n",
    "print('s3.index=', s3.index)      # display indices of the Series\n",
    "print('s3.dtype =', s3.dtype)     # display the element type of the Series\n",
    "print('Shape of s3 =', s3.shape)   # get the dimension of the Series\n",
    "print('Size of s3 =', s3.size)     # get the number of elements of the Series\n",
    "print('Count of s3 =', s3.count()) # get the number of non-null elements of the Series"
   ]
  },
  {
   "cell_type": "code",
   "execution_count": 27,
   "metadata": {},
   "outputs": [
    {
     "name": "stdout",
     "output_type": "stream",
     "text": [
      "s2 = \n",
      "Jan 1    28.740124\n",
      "Jan 2    39.498808\n",
      "Jan 3   -84.496616\n",
      "Jan 4    76.645044\n",
      "Jan 5    46.821083\n",
      "Jan 6    55.583407\n",
      "Jan 7   -20.214021\n",
      "dtype: float64\n",
      "\n",
      "s2 >= 0: \n",
      "Jan 1     True\n",
      "Jan 2     True\n",
      "Jan 3    False\n",
      "Jan 4     True\n",
      "Jan 5     True\n",
      "Jan 6     True\n",
      "Jan 7    False\n",
      "dtype: bool\n",
      "\n",
      "s2[s2 >= 0]: \n",
      "Jan 1    28.740124\n",
      "Jan 2    39.498808\n",
      "Jan 4    76.645044\n",
      "Jan 5    46.821083\n",
      "Jan 6    55.583407\n",
      "dtype: float64\n",
      "\n",
      "|s2| = \n",
      "Jan 1    28.740124\n",
      "Jan 2    39.498808\n",
      "Jan 3    84.496616\n",
      "Jan 4    76.645044\n",
      "Jan 5    46.821083\n",
      "Jan 6    55.583407\n",
      "Jan 7    20.214021\n",
      "dtype: float64\n",
      "\n",
      "s2 - s2 + 1 = \n",
      "Jan 1    1.0\n",
      "Jan 2    1.0\n",
      "Jan 3    1.0\n",
      "Jan 4    1.0\n",
      "Jan 5    1.0\n",
      "Jan 6    1.0\n",
      "Jan 7    1.0\n",
      "dtype: float64\n",
      "\n"
     ]
    }
   ],
   "source": [
    "print(f\"s2 = \\n{s2}\\n\")\n",
    "\n",
    "# applying a boolean filter to the series\n",
    "print(f\"s2 >= 0: \\n{s2 >= 0}\\n\")\n",
    "# using a boolean series filter to index a series object\n",
    "print(f\"s2[s2 >= 0]: \\n{s2[s2 >= 0]}\\n\")\n",
    "\n",
    "# applying numpy functions\n",
    "print(f\"|s2| = \\n{np.abs(s2)}\\n\")\n",
    "print(f\"s2 - s2 + 1 = \\n{np.add(s2-s2, 1)}\\n\")"
   ]
  },
  {
   "cell_type": "code",
   "execution_count": 28,
   "metadata": {},
   "outputs": [
    {
     "name": "stdout",
     "output_type": "stream",
     "text": [
      "colors = \n",
      "0       red\n",
      "1      blue\n",
      "2      blue\n",
      "3    yellow\n",
      "4       red\n",
      "5     green\n",
      "6      blue\n",
      "7       NaN\n",
      "dtype: object\n",
      "\n",
      "color_counts = \n",
      "blue      3\n",
      "red       2\n",
      "yellow    1\n",
      "green     1\n",
      "Name: count, dtype: int64\n",
      "\n"
     ]
    }
   ],
   "source": [
    "colors = pd.Series(['red', 'blue', 'blue', 'yellow', 'red', 'green', 'blue', np.nan])\n",
    "\n",
    "print(f\"colors = \\n{colors}\\n\")\n",
    "\n",
    "# can retrieve count for all unique values in the colors series\n",
    "print(f\"color_counts = \\n{colors.value_counts()}\\n\")"
   ]
  },
  {
   "cell_type": "markdown",
   "metadata": {},
   "source": [
    "#### 2.2.2 Data Frames"
   ]
  },
  {
   "cell_type": "markdown",
   "metadata": {},
   "source": [
    "- a tabular spreadsheet-like data structure\n",
    "\n",
    "- composed of multiple Series objects\n",
    "\n",
    "- can be indexed numerically using two coordinates (row,column)\n",
    "\n",
    "- can be created from dictionaries, ndarrays, list of tuples"
   ]
  },
  {
   "cell_type": "markdown",
   "metadata": {},
   "source": [
    "#### Building Dataframes"
   ]
  },
  {
   "cell_type": "code",
   "execution_count": 37,
   "metadata": {},
   "outputs": [
    {
     "data": {
      "text/html": [
       "<div>\n",
       "<style scoped>\n",
       "    .dataframe tbody tr th:only-of-type {\n",
       "        vertical-align: middle;\n",
       "    }\n",
       "\n",
       "    .dataframe tbody tr th {\n",
       "        vertical-align: top;\n",
       "    }\n",
       "\n",
       "    .dataframe thead th {\n",
       "        text-align: right;\n",
       "    }\n",
       "</style>\n",
       "<table border=\"1\" class=\"dataframe\">\n",
       "  <thead>\n",
       "    <tr style=\"text-align: right;\">\n",
       "      <th></th>\n",
       "      <th>make</th>\n",
       "      <th>model</th>\n",
       "      <th>MSRP</th>\n",
       "    </tr>\n",
       "  </thead>\n",
       "  <tbody>\n",
       "    <tr>\n",
       "      <th>0</th>\n",
       "      <td>Ford</td>\n",
       "      <td>Taurus</td>\n",
       "      <td>27595</td>\n",
       "    </tr>\n",
       "    <tr>\n",
       "      <th>1</th>\n",
       "      <td>Honda</td>\n",
       "      <td>Accord</td>\n",
       "      <td>23570</td>\n",
       "    </tr>\n",
       "    <tr>\n",
       "      <th>2</th>\n",
       "      <td>Toyota</td>\n",
       "      <td>Camry</td>\n",
       "      <td>23495</td>\n",
       "    </tr>\n",
       "    <tr>\n",
       "      <th>3</th>\n",
       "      <td>Tesla</td>\n",
       "      <td>Model S</td>\n",
       "      <td>68000</td>\n",
       "    </tr>\n",
       "  </tbody>\n",
       "</table>\n",
       "</div>"
      ],
      "text/plain": [
       "     make    model   MSRP\n",
       "0    Ford   Taurus  27595\n",
       "1   Honda   Accord  23570\n",
       "2  Toyota    Camry  23495\n",
       "3   Tesla  Model S  68000"
      ]
     },
     "execution_count": 37,
     "metadata": {},
     "output_type": "execute_result"
    }
   ],
   "source": [
    "# creating a dictionary\n",
    "cars = {'make': ('Ford', 'Honda', 'Toyota', 'Tesla'),\n",
    "       'model': ('Taurus', 'Accord', 'Camry', 'Model S'),\n",
    "       'MSRP': (27595, 23570, 23495, 68000)}\n",
    "\n",
    "# creating a dataframe using the dictionary\n",
    "carData = pd.DataFrame(cars)\n",
    "carData"
   ]
  },
  {
   "cell_type": "code",
   "execution_count": 38,
   "metadata": {},
   "outputs": [
    {
     "name": "stdout",
     "output_type": "stream",
     "text": [
      "carData row indices = [0 1 2 3]\n",
      "carData column indices = Index(['make', 'model', 'MSRP'], dtype='object')\n"
     ]
    }
   ],
   "source": [
    "# print CarData row and column indices\n",
    "\n",
    "print(f\"carData row indices = {np.array(carData.index)}\")\n",
    "print(f\"carData column indices = {carData.columns}\")"
   ]
  },
  {
   "cell_type": "code",
   "execution_count": 39,
   "metadata": {},
   "outputs": [
    {
     "data": {
      "text/html": [
       "<div>\n",
       "<style scoped>\n",
       "    .dataframe tbody tr th:only-of-type {\n",
       "        vertical-align: middle;\n",
       "    }\n",
       "\n",
       "    .dataframe tbody tr th {\n",
       "        vertical-align: top;\n",
       "    }\n",
       "\n",
       "    .dataframe thead th {\n",
       "        text-align: right;\n",
       "    }\n",
       "</style>\n",
       "<table border=\"1\" class=\"dataframe\">\n",
       "  <thead>\n",
       "    <tr style=\"text-align: right;\">\n",
       "      <th></th>\n",
       "      <th>make</th>\n",
       "      <th>model</th>\n",
       "      <th>MSRP</th>\n",
       "      <th>year</th>\n",
       "      <th>dealership</th>\n",
       "    </tr>\n",
       "  </thead>\n",
       "  <tbody>\n",
       "    <tr>\n",
       "      <th>1</th>\n",
       "      <td>Ford</td>\n",
       "      <td>Taurus</td>\n",
       "      <td>27595</td>\n",
       "      <td>2018</td>\n",
       "      <td>Courtesy Ford</td>\n",
       "    </tr>\n",
       "    <tr>\n",
       "      <th>2</th>\n",
       "      <td>Honda</td>\n",
       "      <td>Accord</td>\n",
       "      <td>23570</td>\n",
       "      <td>2018</td>\n",
       "      <td>Capital Honda</td>\n",
       "    </tr>\n",
       "    <tr>\n",
       "      <th>3</th>\n",
       "      <td>Toyota</td>\n",
       "      <td>Camry</td>\n",
       "      <td>23495</td>\n",
       "      <td>2018</td>\n",
       "      <td>Spartan Toyota</td>\n",
       "    </tr>\n",
       "    <tr>\n",
       "      <th>4</th>\n",
       "      <td>Tesla</td>\n",
       "      <td>Model S</td>\n",
       "      <td>68000</td>\n",
       "      <td>2018</td>\n",
       "      <td>N/A</td>\n",
       "    </tr>\n",
       "  </tbody>\n",
       "</table>\n",
       "</div>"
      ],
      "text/plain": [
       "     make    model   MSRP  year      dealership\n",
       "1    Ford   Taurus  27595  2018   Courtesy Ford\n",
       "2   Honda   Accord  23570  2018   Capital Honda\n",
       "3  Toyota    Camry  23495  2018  Spartan Toyota\n",
       "4   Tesla  Model S  68000  2018             N/A"
      ]
     },
     "execution_count": 39,
     "metadata": {},
     "output_type": "execute_result"
    }
   ],
   "source": [
    "# custom dataframe indexing\n",
    "carData = pd.DataFrame(cars, index=[1,2,3,4])\n",
    "# creating a new column with same value for all rows\n",
    "carData['year'] = 2018\n",
    "# creating another new column\n",
    "carData['dealership'] = ['Courtesy Ford','Capital Honda','Spartan Toyota','N/A']\n",
    "carData"
   ]
  },
  {
   "cell_type": "code",
   "execution_count": 40,
   "metadata": {},
   "outputs": [
    {
     "data": {
      "text/html": [
       "<div>\n",
       "<style scoped>\n",
       "    .dataframe tbody tr th:only-of-type {\n",
       "        vertical-align: middle;\n",
       "    }\n",
       "\n",
       "    .dataframe tbody tr th {\n",
       "        vertical-align: top;\n",
       "    }\n",
       "\n",
       "    .dataframe thead th {\n",
       "        text-align: right;\n",
       "    }\n",
       "</style>\n",
       "<table border=\"1\" class=\"dataframe\">\n",
       "  <thead>\n",
       "    <tr style=\"text-align: right;\">\n",
       "      <th></th>\n",
       "      <th>year</th>\n",
       "      <th>temp</th>\n",
       "      <th>precip</th>\n",
       "    </tr>\n",
       "  </thead>\n",
       "  <tbody>\n",
       "    <tr>\n",
       "      <th>0</th>\n",
       "      <td>2011</td>\n",
       "      <td>45.1</td>\n",
       "      <td>32.4</td>\n",
       "    </tr>\n",
       "    <tr>\n",
       "      <th>1</th>\n",
       "      <td>2012</td>\n",
       "      <td>42.4</td>\n",
       "      <td>34.5</td>\n",
       "    </tr>\n",
       "    <tr>\n",
       "      <th>2</th>\n",
       "      <td>2013</td>\n",
       "      <td>47.2</td>\n",
       "      <td>39.2</td>\n",
       "    </tr>\n",
       "    <tr>\n",
       "      <th>3</th>\n",
       "      <td>2014</td>\n",
       "      <td>44.2</td>\n",
       "      <td>31.4</td>\n",
       "    </tr>\n",
       "    <tr>\n",
       "      <th>4</th>\n",
       "      <td>2015</td>\n",
       "      <td>39.9</td>\n",
       "      <td>29.8</td>\n",
       "    </tr>\n",
       "    <tr>\n",
       "      <th>5</th>\n",
       "      <td>2016</td>\n",
       "      <td>41.5</td>\n",
       "      <td>36.7</td>\n",
       "    </tr>\n",
       "  </tbody>\n",
       "</table>\n",
       "</div>"
      ],
      "text/plain": [
       "   year  temp  precip\n",
       "0  2011  45.1    32.4\n",
       "1  2012  42.4    34.5\n",
       "2  2013  47.2    39.2\n",
       "3  2014  44.2    31.4\n",
       "4  2015  39.9    29.8\n",
       "5  2016  41.5    36.7"
      ]
     },
     "execution_count": 40,
     "metadata": {},
     "output_type": "execute_result"
    }
   ],
   "source": [
    "# using a list of tuples to create a dataframe\n",
    "tuplelist = [(2011,45.1,32.4),(2012,42.4,34.5),(2013,47.2,39.2),\n",
    "              (2014,44.2,31.4),(2015,39.9,29.8),(2016,41.5,36.7)]\n",
    "columnNames = ['year','temp','precip']\n",
    "weatherData = pd.DataFrame(tuplelist, columns=columnNames)\n",
    "weatherData"
   ]
  },
  {
   "cell_type": "code",
   "execution_count": 42,
   "metadata": {},
   "outputs": [
    {
     "data": {
      "text/html": [
       "<div>\n",
       "<style scoped>\n",
       "    .dataframe tbody tr th:only-of-type {\n",
       "        vertical-align: middle;\n",
       "    }\n",
       "\n",
       "    .dataframe tbody tr th {\n",
       "        vertical-align: top;\n",
       "    }\n",
       "\n",
       "    .dataframe thead th {\n",
       "        text-align: right;\n",
       "    }\n",
       "</style>\n",
       "<table border=\"1\" class=\"dataframe\">\n",
       "  <thead>\n",
       "    <tr style=\"text-align: right;\">\n",
       "      <th></th>\n",
       "      <th>x1</th>\n",
       "      <th>x2</th>\n",
       "      <th>x3</th>\n",
       "    </tr>\n",
       "  </thead>\n",
       "  <tbody>\n",
       "    <tr>\n",
       "      <th>0</th>\n",
       "      <td>0.745650</td>\n",
       "      <td>0.557741</td>\n",
       "      <td>-0.268629</td>\n",
       "    </tr>\n",
       "    <tr>\n",
       "      <th>1</th>\n",
       "      <td>0.878362</td>\n",
       "      <td>-0.338866</td>\n",
       "      <td>1.684210</td>\n",
       "    </tr>\n",
       "    <tr>\n",
       "      <th>2</th>\n",
       "      <td>0.004276</td>\n",
       "      <td>0.521432</td>\n",
       "      <td>0.602834</td>\n",
       "    </tr>\n",
       "    <tr>\n",
       "      <th>3</th>\n",
       "      <td>1.148039</td>\n",
       "      <td>-0.106389</td>\n",
       "      <td>-0.281072</td>\n",
       "    </tr>\n",
       "    <tr>\n",
       "      <th>4</th>\n",
       "      <td>-0.574139</td>\n",
       "      <td>-1.073350</td>\n",
       "      <td>0.178407</td>\n",
       "    </tr>\n",
       "  </tbody>\n",
       "</table>\n",
       "</div>"
      ],
      "text/plain": [
       "         x1        x2        x3\n",
       "0  0.745650  0.557741 -0.268629\n",
       "1  0.878362 -0.338866  1.684210\n",
       "2  0.004276  0.521432  0.602834\n",
       "3  1.148039 -0.106389 -0.281072\n",
       "4 -0.574139 -1.073350  0.178407"
      ]
     },
     "execution_count": 42,
     "metadata": {},
     "output_type": "execute_result"
    }
   ],
   "source": [
    "# creating a dataframe from a random numpy matrix\n",
    "npdata = np.random.normal(size=(5,3))\n",
    "columns = ['x1', 'x2', 'x3']\n",
    "data = pd.DataFrame(npdata, columns=columns)\n",
    "data"
   ]
  },
  {
   "cell_type": "markdown",
   "metadata": {},
   "source": [
    "#### Accessing Dataframes"
   ]
  },
  {
   "cell_type": "code",
   "execution_count": 44,
   "metadata": {},
   "outputs": [
    {
     "name": "stdout",
     "output_type": "stream",
     "text": [
      "0    0.557741\n",
      "1   -0.338866\n",
      "2    0.521432\n",
      "3   -0.106389\n",
      "4   -1.073350\n",
      "Name: x2, dtype: float64\n",
      "<class 'pandas.core.series.Series'>\n"
     ]
    }
   ],
   "source": [
    "# accessing an entire column will return a series object\n",
    "print(data['x2'])\n",
    "print(type(data['x2']))"
   ]
  },
  {
   "cell_type": "code",
   "execution_count": 49,
   "metadata": {},
   "outputs": [
    {
     "name": "stdout",
     "output_type": "stream",
     "text": [
      "         x1        x2        x3\n",
      "0  0.745650  0.557741 -0.268629\n",
      "1  0.878362 -0.338866  1.684210\n",
      "2  0.004276  0.521432  0.602834\n",
      "3  1.148039 -0.106389 -0.281072\n",
      "4 -0.574139 -1.073350  0.178407\n",
      "x1    0.004276\n",
      "x2    0.521432\n",
      "x3    0.602834\n",
      "Name: 2, dtype: float64\n",
      "<class 'pandas.core.frame.DataFrame'>\n",
      "\n",
      "     make    model   MSRP  year      dealership\n",
      "1    Ford   Taurus  27595  2018   Courtesy Ford\n",
      "2   Honda   Accord  23570  2018   Capital Honda\n",
      "3  Toyota    Camry  23495  2018  Spartan Toyota\n",
      "4   Tesla  Model S  68000  2018             N/A\n",
      "make                  Toyota\n",
      "model                  Camry\n",
      "MSRP                   23495\n",
      "year                    2018\n",
      "dealership    Spartan Toyota\n",
      "Name: 3, dtype: object\n",
      "<class 'pandas.core.frame.DataFrame'>\n"
     ]
    }
   ],
   "source": [
    "# accessing an entire row will also return a series, indexed using the columns of the original dataframe\n",
    "\n",
    "print(data)\n",
    "print(data.iloc[2,:])\n",
    "print(type(data.iloc[2:]))\n",
    "\n",
    "print()\n",
    "\n",
    "print(carData)\n",
    "print(carData.iloc[2,:])\n",
    "print(type(carData.iloc[2:]))"
   ]
  },
  {
   "cell_type": "code",
   "execution_count": 56,
   "metadata": {},
   "outputs": [
    {
     "name": "stdout",
     "output_type": "stream",
     "text": [
      "         x1        x2        x3\n",
      "0  0.745650  0.557741 -0.268629\n",
      "1  0.878362 -0.338866  1.684210\n",
      "2  0.004276  0.521432  0.602834\n",
      "3  1.148039 -0.106389 -0.281072\n",
      "4 -0.574139 -1.073350  0.178407\n",
      "(5, 3)\n",
      "15\n",
      "\n",
      "0.6028343985107995\n",
      "0.6028343985107995\n",
      "\n",
      "         x1\n",
      "1  0.878362\n",
      "2  0.004276\n"
     ]
    }
   ],
   "source": [
    "print(data)\n",
    "print(data.shape) # dataframe dimensions\n",
    "print(data.size) # number of elements in dataframe\n",
    "print()\n",
    "\n",
    "# selecting specific cells\n",
    "print(data.loc[2,'x3']) # loc allows both numerical and string indexing\n",
    "print(data.iloc[2,2]) # iloc is solely for numerical indexing\n",
    "print()\n",
    "\n",
    "# slicing dataframes\n",
    "print(data.iloc[1:3,0:1])"
   ]
  },
  {
   "cell_type": "code",
   "execution_count": null,
   "metadata": {},
   "outputs": [],
   "source": [
    "# filtering dataframes\n",
    "\n",
    "print(carData)\n"
   ]
  }
 ],
 "metadata": {
  "kernelspec": {
   "display_name": "ml",
   "language": "python",
   "name": "python3"
  },
  "language_info": {
   "codemirror_mode": {
    "name": "ipython",
    "version": 3
   },
   "file_extension": ".py",
   "mimetype": "text/x-python",
   "name": "python",
   "nbconvert_exporter": "python",
   "pygments_lexer": "ipython3",
   "version": "3.12.4"
  }
 },
 "nbformat": 4,
 "nbformat_minor": 2
}
