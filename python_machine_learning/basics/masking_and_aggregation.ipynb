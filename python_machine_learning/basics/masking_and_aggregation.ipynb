{
 "cells": [
  {
   "cell_type": "code",
   "execution_count": 1,
   "metadata": {},
   "outputs": [],
   "source": [
    "import numpy as np"
   ]
  },
  {
   "cell_type": "markdown",
   "metadata": {},
   "source": [
    "### 1 Aggregation\n",
    "---\n",
    "- in this section we discuss aggregation and a number of aggregation functions in numpy"
   ]
  },
  {
   "cell_type": "markdown",
   "metadata": {},
   "source": [
    "#### 1.1 Aggregation Functions"
   ]
  },
  {
   "cell_type": "code",
   "execution_count": 4,
   "metadata": {},
   "outputs": [
    {
     "data": {
      "text/plain": [
       "array([[ 0,  1,  2,  3],\n",
       "       [ 4,  5,  6,  7],\n",
       "       [ 8,  9, 10, 11]])"
      ]
     },
     "execution_count": 4,
     "metadata": {},
     "output_type": "execute_result"
    }
   ],
   "source": [
    "x = np.arange(12).reshape(3,4)\n",
    "x"
   ]
  },
  {
   "cell_type": "code",
   "execution_count": 5,
   "metadata": {},
   "outputs": [
    {
     "data": {
      "text/plain": [
       "np.int64(66)"
      ]
     },
     "execution_count": 5,
     "metadata": {},
     "output_type": "execute_result"
    }
   ],
   "source": [
    "# np.sum will simply sum all values in the array\n",
    "np.sum(x)"
   ]
  },
  {
   "cell_type": "code",
   "execution_count": 6,
   "metadata": {},
   "outputs": [
    {
     "data": {
      "text/plain": [
       "array([12, 15, 18, 21])"
      ]
     },
     "execution_count": 6,
     "metadata": {},
     "output_type": "execute_result"
    }
   ],
   "source": [
    "# we can also sum along a specified axis\n",
    "np.sum(x, axis=0)\n",
    "    # axis = 0 means we sum every element in each column leaving us with a single row at the end\n",
    "    # axis = 0 means we are aggregating the rows into 1"
   ]
  },
  {
   "cell_type": "code",
   "execution_count": 7,
   "metadata": {},
   "outputs": [
    {
     "data": {
      "text/plain": [
       "array([ 6, 22, 38])"
      ]
     },
     "execution_count": 7,
     "metadata": {},
     "output_type": "execute_result"
    }
   ],
   "source": [
    "# we can also aggregate the columns into a single column\n",
    "# if we use axis = 1, we sum each element in every row leaving a single column at the end\n",
    "np.sum(x, axis=1)"
   ]
  },
  {
   "cell_type": "markdown",
   "metadata": {},
   "source": [
    "- aggregations will always drop the resulting dimension of size=1 (the dimension along which the aggregation was performed) "
   ]
  },
  {
   "cell_type": "markdown",
   "metadata": {},
   "source": [
    "#### 1.2 Other Aggregations"
   ]
  },
  {
   "cell_type": "code",
   "execution_count": 8,
   "metadata": {},
   "outputs": [
    {
     "data": {
      "text/plain": [
       "array([[ 6],\n",
       "       [22],\n",
       "       [38]])"
      ]
     },
     "execution_count": 8,
     "metadata": {},
     "output_type": "execute_result"
    }
   ],
   "source": [
    "#### a different way to use numpy sum function\n",
    "x.sum(axis=1).reshape((x.shape[0],1))"
   ]
  },
  {
   "cell_type": "code",
   "execution_count": 9,
   "metadata": {},
   "outputs": [
    {
     "data": {
      "text/plain": [
       "np.int64(11)"
      ]
     },
     "execution_count": 9,
     "metadata": {},
     "output_type": "execute_result"
    }
   ],
   "source": [
    "# returns the max of the array\n",
    "x.max()"
   ]
  },
  {
   "cell_type": "code",
   "execution_count": 13,
   "metadata": {},
   "outputs": [
    {
     "name": "stdout",
     "output_type": "stream",
     "text": [
      "[[ 0  1  2  3]\n",
      " [ 4  5  6  7]\n",
      " [ 8  9 10 11]]\n",
      "->\n",
      "[[ 3]\n",
      " [ 7]\n",
      " [11]]\n"
     ]
    }
   ],
   "source": [
    "# returns the maxes along the aggregated dimension\n",
    "print(f\"{x}\\n->\\n{x.max(axis=1).reshape((x.shape[0],1))}\") # here we aggregate the columns into a single column containing the max for each row"
   ]
  },
  {
   "cell_type": "code",
   "execution_count": 16,
   "metadata": {},
   "outputs": [
    {
     "name": "stdout",
     "output_type": "stream",
     "text": [
      "[[ 0  1  2  3]\n",
      " [ 4  5  6  7]\n",
      " [ 8  9 10 11]]\n",
      "->\n",
      "[[0 1 2 3]]\n"
     ]
    }
   ],
   "source": [
    "print(f\"{x}\\n->\\n{x.min(axis=0).reshape((1,x.shape[1]))}\") # notice how the rows have been collapsed (agregated)\n",
    "                                                           # this is because we aggregated along axis=0 (dimension 0)"
   ]
  },
  {
   "cell_type": "code",
   "execution_count": 17,
   "metadata": {},
   "outputs": [
    {
     "name": "stdout",
     "output_type": "stream",
     "text": [
      "[[ 0  1  2  3]\n",
      " [ 4  5  6  7]\n",
      " [ 8  9 10 11]]\n",
      "->\n",
      "[[   0]\n",
      " [ 840]\n",
      " [7920]]\n"
     ]
    }
   ],
   "source": [
    "print(f\"{x}\\n->\\n{x.prod(axis=1).reshape((x.shape[0],1))}\") # reshaping is to make the dimension collapse more obvious\n",
    "                                                            # all dimenions retain their original size\n",
    "                                                            # aggregation dimension reshaped to size 1"
   ]
  },
  {
   "cell_type": "code",
   "execution_count": 22,
   "metadata": {},
   "outputs": [
    {
     "data": {
      "text/plain": [
       "np.True_"
      ]
     },
     "execution_count": 22,
     "metadata": {},
     "output_type": "execute_result"
    }
   ],
   "source": [
    "x.any() # collapses the entire ndarray down into a single value\n",
    "        # returns true if there is even a single nonzero(non boolean false) value"
   ]
  },
  {
   "cell_type": "code",
   "execution_count": 23,
   "metadata": {},
   "outputs": [
    {
     "name": "stdout",
     "output_type": "stream",
     "text": [
      "[[ 0  1  2  3]\n",
      " [ 4  5  6  7]\n",
      " [ 8  9 10 11]]\n",
      "->\n",
      "[[ True]\n",
      " [ True]\n",
      " [ True]]\n"
     ]
    }
   ],
   "source": [
    "print(f\"{x}\\n->\\n{x.any(axis=1).reshape((x.shape[0],1))}\") # collapses all columns into a single column\n",
    "                                                           # there is a true value if any element in the previous row was nonzero"
   ]
  },
  {
   "cell_type": "code",
   "execution_count": 24,
   "metadata": {},
   "outputs": [
    {
     "data": {
      "text/plain": [
       "np.False_"
      ]
     },
     "execution_count": 24,
     "metadata": {},
     "output_type": "execute_result"
    }
   ],
   "source": [
    "x.all() # returns true iff every element in the array is nonzero"
   ]
  },
  {
   "cell_type": "code",
   "execution_count": 25,
   "metadata": {},
   "outputs": [
    {
     "name": "stdout",
     "output_type": "stream",
     "text": [
      "[[ 0  1  2  3]\n",
      " [ 4  5  6  7]\n",
      " [ 8  9 10 11]]\n",
      "->\n",
      "[[False  True  True  True]]\n"
     ]
    }
   ],
   "source": [
    "print(f\"{x}\\n->\\n{x.all(axis=0).reshape((1,x.shape[1]))}\") # collapses all rows into a single row\n",
    "                                                           # true value only if all entries in the column were nonzero"
   ]
  },
  {
   "cell_type": "markdown",
   "metadata": {},
   "source": [
    "#### 1.3 Statistical metrics as aggregations"
   ]
  },
  {
   "cell_type": "code",
   "execution_count": 41,
   "metadata": {},
   "outputs": [
    {
     "name": "stdout",
     "output_type": "stream",
     "text": [
      "[[ 0  1  2  3]\n",
      " [ 4  5  6  7]\n",
      " [ 8  9 10 11]]\n",
      "->\n",
      "[[4. 5. 6. 7.]]\n",
      "\n",
      "[[ 0  1  2  3]\n",
      " [ 4  5  6  7]\n",
      " [ 8  9 10 11]]\n",
      "->\n",
      "[[1.5]\n",
      " [5.5]\n",
      " [9.5]]\n",
      "\n",
      "[[ 0  1  2  3]\n",
      " [ 4  5  6  7]\n",
      " [ 8  9 10 11]]\n",
      "->\n",
      "[[ 0.75  4.75  8.75]\n",
      " [ 1.5   5.5   9.5 ]\n",
      " [ 2.25  6.25 10.25]]\n",
      "\n",
      "[[ 0  1  2  3]\n",
      " [ 4  5  6  7]\n",
      " [ 8  9 10 11]]\n",
      "->\n",
      "[[1.11803399]\n",
      " [1.11803399]\n",
      " [1.11803399]]\n",
      "\n",
      "[[ 0  1  2  3]\n",
      " [ 4  5  6  7]\n",
      " [ 8  9 10 11]]\n",
      "->\n",
      "[[1.25]\n",
      " [1.25]\n",
      " [1.25]]\n",
      "\n"
     ]
    }
   ],
   "source": [
    "# same idea as above operations, these aggregations are just core statistical metrics\n",
    "print(f\"{x}\\n->\\n{x.mean(axis=0).reshape((1,x.shape[1]))}\\n\") # average of each column\n",
    "print(f\"{x}\\n->\\n{np.median(x,axis=1).reshape((x.shape[0], 1))}\\n\") # median of each row (middle value along the columns)\n",
    "print(f\"{x}\\n->\\n{np.percentile(x,[25,50,75],axis=1)}\\n\") # finds the 25th, 50th and 75th percentile values along each row\n",
    "                                                          # percentiles appear along columns of output array by default\n",
    "print(f\"{x}\\n->\\n{np.std(x,axis=1).reshape((x.shape[0], 1))}\\n\") # find the standard deviation for each row\n",
    "print(f\"{x}\\n->\\n{np.var(x,axis=1).reshape((x.shape[0], 1))}\\n\") # find the variance for each row\n"
   ]
  },
  {
   "cell_type": "markdown",
   "metadata": {},
   "source": [
    "#### 1.4 Argmin and Argmax"
   ]
  },
  {
   "cell_type": "code",
   "execution_count": 42,
   "metadata": {},
   "outputs": [
    {
     "data": {
      "text/plain": [
       "array([[0.53, 0.78, 0.85, 0.27],\n",
       "       [0.71, 0.1 , 0.7 , 0.29],\n",
       "       [0.97, 0.84, 0.8 , 0.77]])"
      ]
     },
     "execution_count": 42,
     "metadata": {},
     "output_type": "execute_result"
    }
   ],
   "source": [
    "x = np.random.uniform(0, 1, (3,4)).round(2)\n",
    "x"
   ]
  },
  {
   "cell_type": "code",
   "execution_count": 45,
   "metadata": {},
   "outputs": [
    {
     "name": "stdout",
     "output_type": "stream",
     "text": [
      "5\n",
      "8\n",
      "index of max element in flattened array = 8\n",
      "max element coordinates in unflattened array = (np.int64(2), np.int64(0))\n"
     ]
    }
   ],
   "source": [
    "# we can return in the index of the minimum or maximum value\n",
    "print(x.argmin())\n",
    "print(x.argmax())\n",
    "\n",
    "# when calling argmin or argmax on the entire array, python will internally flatten the array and return the index of the\n",
    "# max/min value of the flattened array\n",
    "# the original index can be returned using np.unravel(max/minindex, originalshape)\n",
    "\n",
    "print(f\"index of max element in flattened array = {x.argmax()}\")\n",
    "print(f\"max element coordinates in unflattened array = {np.unravel_index(x.argmax(), x.shape)}\")\n",
    " "
   ]
  },
  {
   "cell_type": "code",
   "execution_count": 46,
   "metadata": {},
   "outputs": [
    {
     "name": "stdout",
     "output_type": "stream",
     "text": [
      "[[0.53 0.78 0.85 0.27]\n",
      " [0.71 0.1  0.7  0.29]\n",
      " [0.97 0.84 0.8  0.77]]\n",
      "->\n",
      "[[3]\n",
      " [1]\n",
      " [3]]\n",
      "\n"
     ]
    }
   ],
   "source": [
    "# we can call argmin or argmax along a specific dimension\n",
    "print(f\"{x}\\n->\\n{x.argmin(axis=1).reshape((x.shape[0], 1))}\\n\") # returns the index of the min element for each row\n"
   ]
  },
  {
   "cell_type": "code",
   "execution_count": null,
   "metadata": {},
   "outputs": [],
   "source": []
  }
 ],
 "metadata": {
  "kernelspec": {
   "display_name": "ml",
   "language": "python",
   "name": "python3"
  },
  "language_info": {
   "codemirror_mode": {
    "name": "ipython",
    "version": 3
   },
   "file_extension": ".py",
   "mimetype": "text/x-python",
   "name": "python",
   "nbconvert_exporter": "python",
   "pygments_lexer": "ipython3",
   "version": "3.12.4"
  }
 },
 "nbformat": 4,
 "nbformat_minor": 2
}
