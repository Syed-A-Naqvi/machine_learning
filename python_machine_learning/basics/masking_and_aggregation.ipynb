{
 "cells": [
  {
   "cell_type": "code",
   "execution_count": 31,
   "metadata": {},
   "outputs": [],
   "source": [
    "import numpy as np"
   ]
  },
  {
   "cell_type": "markdown",
   "metadata": {},
   "source": [
    "### 1 Aggregation\n",
    "---\n",
    "- in this section we discuss aggregation and a number of aggregation functions in numpy"
   ]
  },
  {
   "cell_type": "markdown",
   "metadata": {},
   "source": [
    "#### 1.1 Aggregation Functions"
   ]
  },
  {
   "cell_type": "code",
   "execution_count": 32,
   "metadata": {},
   "outputs": [
    {
     "data": {
      "text/plain": [
       "array([[ 0,  1,  2,  3],\n",
       "       [ 4,  5,  6,  7],\n",
       "       [ 8,  9, 10, 11]])"
      ]
     },
     "execution_count": 32,
     "metadata": {},
     "output_type": "execute_result"
    }
   ],
   "source": [
    "x = np.arange(12).reshape(3,4)\n",
    "x"
   ]
  },
  {
   "cell_type": "code",
   "execution_count": 33,
   "metadata": {},
   "outputs": [
    {
     "data": {
      "text/plain": [
       "np.int64(66)"
      ]
     },
     "execution_count": 33,
     "metadata": {},
     "output_type": "execute_result"
    }
   ],
   "source": [
    "# np.sum will simply sum all values in the array\n",
    "np.sum(x)"
   ]
  },
  {
   "cell_type": "code",
   "execution_count": 34,
   "metadata": {},
   "outputs": [
    {
     "data": {
      "text/plain": [
       "array([12, 15, 18, 21])"
      ]
     },
     "execution_count": 34,
     "metadata": {},
     "output_type": "execute_result"
    }
   ],
   "source": [
    "# we can also sum along a specified axis\n",
    "np.sum(x, axis=0)\n",
    "    # axis = 0 means we sum every element in each column leaving us with a single row at the end\n",
    "    # axis = 0 means we are aggregating the rows into 1"
   ]
  },
  {
   "cell_type": "code",
   "execution_count": 35,
   "metadata": {},
   "outputs": [
    {
     "data": {
      "text/plain": [
       "array([ 6, 22, 38])"
      ]
     },
     "execution_count": 35,
     "metadata": {},
     "output_type": "execute_result"
    }
   ],
   "source": [
    "# we can also aggregate the columns into a single column\n",
    "# if we use axis = 1, we sum each element in every row leaving a single column at the end\n",
    "np.sum(x, axis=1)"
   ]
  },
  {
   "cell_type": "markdown",
   "metadata": {},
   "source": [
    "- aggregations will always drop the resulting dimension of size=1 (the dimension along which the aggregation was performed) "
   ]
  },
  {
   "cell_type": "markdown",
   "metadata": {},
   "source": [
    "#### 1.2 Other Aggregations"
   ]
  },
  {
   "cell_type": "code",
   "execution_count": 36,
   "metadata": {},
   "outputs": [
    {
     "data": {
      "text/plain": [
       "array([[ 6],\n",
       "       [22],\n",
       "       [38]])"
      ]
     },
     "execution_count": 36,
     "metadata": {},
     "output_type": "execute_result"
    }
   ],
   "source": [
    "#### a different way to use numpy sum function\n",
    "x.sum(axis=1).reshape((x.shape[0],1))"
   ]
  },
  {
   "cell_type": "code",
   "execution_count": 37,
   "metadata": {},
   "outputs": [
    {
     "data": {
      "text/plain": [
       "np.int64(11)"
      ]
     },
     "execution_count": 37,
     "metadata": {},
     "output_type": "execute_result"
    }
   ],
   "source": [
    "# returns the max of the array\n",
    "x.max()"
   ]
  },
  {
   "cell_type": "code",
   "execution_count": 38,
   "metadata": {},
   "outputs": [
    {
     "name": "stdout",
     "output_type": "stream",
     "text": [
      "[[ 0  1  2  3]\n",
      " [ 4  5  6  7]\n",
      " [ 8  9 10 11]]\n",
      "->\n",
      "[[ 3]\n",
      " [ 7]\n",
      " [11]]\n"
     ]
    }
   ],
   "source": [
    "# returns the maxes along the aggregated dimension\n",
    "print(f\"{x}\\n->\\n{x.max(axis=1).reshape((x.shape[0],1))}\") # here we aggregate the columns into a single column containing the max for each row"
   ]
  },
  {
   "cell_type": "code",
   "execution_count": 39,
   "metadata": {},
   "outputs": [
    {
     "name": "stdout",
     "output_type": "stream",
     "text": [
      "[[ 0  1  2  3]\n",
      " [ 4  5  6  7]\n",
      " [ 8  9 10 11]]\n",
      "->\n",
      "[[0 1 2 3]]\n"
     ]
    }
   ],
   "source": [
    "print(f\"{x}\\n->\\n{x.min(axis=0).reshape((1,x.shape[1]))}\") # notice how the rows have been collapsed (agregated)\n",
    "                                                           # this is because we aggregated along axis=0 (dimension 0)"
   ]
  },
  {
   "cell_type": "code",
   "execution_count": 40,
   "metadata": {},
   "outputs": [
    {
     "name": "stdout",
     "output_type": "stream",
     "text": [
      "[[ 0  1  2  3]\n",
      " [ 4  5  6  7]\n",
      " [ 8  9 10 11]]\n",
      "->\n",
      "[[   0]\n",
      " [ 840]\n",
      " [7920]]\n"
     ]
    }
   ],
   "source": [
    "print(f\"{x}\\n->\\n{x.prod(axis=1).reshape((x.shape[0],1))}\") # reshaping is to make the dimension collapse more obvious\n",
    "                                                            # all dimenions retain their original size\n",
    "                                                            # aggregation dimension reshaped to size 1"
   ]
  },
  {
   "cell_type": "code",
   "execution_count": 41,
   "metadata": {},
   "outputs": [
    {
     "data": {
      "text/plain": [
       "np.True_"
      ]
     },
     "execution_count": 41,
     "metadata": {},
     "output_type": "execute_result"
    }
   ],
   "source": [
    "x.any() # collapses the entire ndarray down into a single value\n",
    "        # returns true if there is even a single nonzero(non boolean false) value"
   ]
  },
  {
   "cell_type": "code",
   "execution_count": 42,
   "metadata": {},
   "outputs": [
    {
     "name": "stdout",
     "output_type": "stream",
     "text": [
      "[[ 0  1  2  3]\n",
      " [ 4  5  6  7]\n",
      " [ 8  9 10 11]]\n",
      "->\n",
      "[[ True]\n",
      " [ True]\n",
      " [ True]]\n"
     ]
    }
   ],
   "source": [
    "print(f\"{x}\\n->\\n{x.any(axis=1).reshape((x.shape[0],1))}\") # collapses all columns into a single column\n",
    "                                                           # there is a true value if any element in the previous row was nonzero"
   ]
  },
  {
   "cell_type": "code",
   "execution_count": 43,
   "metadata": {},
   "outputs": [
    {
     "data": {
      "text/plain": [
       "np.False_"
      ]
     },
     "execution_count": 43,
     "metadata": {},
     "output_type": "execute_result"
    }
   ],
   "source": [
    "x.all() # returns true iff every element in the array is nonzero"
   ]
  },
  {
   "cell_type": "code",
   "execution_count": 44,
   "metadata": {},
   "outputs": [
    {
     "name": "stdout",
     "output_type": "stream",
     "text": [
      "[[ 0  1  2  3]\n",
      " [ 4  5  6  7]\n",
      " [ 8  9 10 11]]\n",
      "->\n",
      "[[False]\n",
      " [ True]\n",
      " [ True]]\n"
     ]
    }
   ],
   "source": [
    "# collapses all columns into a single column, true vlaue if all nonzero elements in previous row\n",
    "print(f\"{x}\\n->\\n{x.all(axis=1).reshape((x.shape[0],1))}\") \n"
   ]
  },
  {
   "cell_type": "code",
   "execution_count": 45,
   "metadata": {},
   "outputs": [
    {
     "name": "stdout",
     "output_type": "stream",
     "text": [
      "[[ 0  1  2  3]\n",
      " [ 4  5  6  7]\n",
      " [ 8  9 10 11]]\n",
      "->\n",
      "[[False  True  True  True]]\n"
     ]
    }
   ],
   "source": [
    "print(f\"{x}\\n->\\n{x.all(axis=0).reshape((1,x.shape[1]))}\") # collapses all rows into a single row\n",
    "                                                           # true value only if all entries in the column were nonzero"
   ]
  },
  {
   "cell_type": "markdown",
   "metadata": {},
   "source": [
    "#### 1.3 Statistical metrics as aggregations"
   ]
  },
  {
   "cell_type": "code",
   "execution_count": 46,
   "metadata": {},
   "outputs": [
    {
     "name": "stdout",
     "output_type": "stream",
     "text": [
      "[[ 0  1  2  3]\n",
      " [ 4  5  6  7]\n",
      " [ 8  9 10 11]]\n",
      "->\n",
      "[[4. 5. 6. 7.]]\n",
      "\n",
      "[[ 0  1  2  3]\n",
      " [ 4  5  6  7]\n",
      " [ 8  9 10 11]]\n",
      "->\n",
      "[[1.5]\n",
      " [5.5]\n",
      " [9.5]]\n",
      "\n",
      "[[ 0  1  2  3]\n",
      " [ 4  5  6  7]\n",
      " [ 8  9 10 11]]\n",
      "->\n",
      "[[ 0.75  4.75  8.75]\n",
      " [ 1.5   5.5   9.5 ]\n",
      " [ 2.25  6.25 10.25]]\n",
      "\n",
      "[[ 0  1  2  3]\n",
      " [ 4  5  6  7]\n",
      " [ 8  9 10 11]]\n",
      "->\n",
      "[[1.11803399]\n",
      " [1.11803399]\n",
      " [1.11803399]]\n",
      "\n",
      "[[ 0  1  2  3]\n",
      " [ 4  5  6  7]\n",
      " [ 8  9 10 11]]\n",
      "->\n",
      "[[1.25]\n",
      " [1.25]\n",
      " [1.25]]\n",
      "\n"
     ]
    }
   ],
   "source": [
    "# same idea as above operations, these aggregations are just core statistical metrics\n",
    "print(f\"{x}\\n->\\n{x.mean(axis=0).reshape((1,x.shape[1]))}\\n\") # average of each column\n",
    "print(f\"{x}\\n->\\n{np.median(x,axis=1).reshape((x.shape[0], 1))}\\n\") # median of each row (middle value along the columns)\n",
    "print(f\"{x}\\n->\\n{np.percentile(x,[25,50,75],axis=1)}\\n\") # finds the 25th, 50th and 75th percentile values along each row\n",
    "                                                          # percentiles appear along columns of output array by default\n",
    "print(f\"{x}\\n->\\n{np.std(x,axis=1).reshape((x.shape[0], 1))}\\n\") # find the standard deviation for each row\n",
    "print(f\"{x}\\n->\\n{np.var(x,axis=1).reshape((x.shape[0], 1))}\\n\") # find the variance for each row\n"
   ]
  },
  {
   "cell_type": "markdown",
   "metadata": {},
   "source": [
    "#### 1.4 Argmin and Argmax"
   ]
  },
  {
   "cell_type": "code",
   "execution_count": 47,
   "metadata": {},
   "outputs": [
    {
     "data": {
      "text/plain": [
       "array([[0.9 , 0.22, 0.02, 0.12],\n",
       "       [0.2 , 0.33, 0.41, 0.94],\n",
       "       [0.14, 0.8 , 0.65, 0.88]])"
      ]
     },
     "execution_count": 47,
     "metadata": {},
     "output_type": "execute_result"
    }
   ],
   "source": [
    "x = np.random.uniform(0, 1, (3,4)).round(2)\n",
    "x"
   ]
  },
  {
   "cell_type": "code",
   "execution_count": 48,
   "metadata": {},
   "outputs": [
    {
     "name": "stdout",
     "output_type": "stream",
     "text": [
      "2\n",
      "7\n",
      "index of max element in flattened array = 7\n",
      "max element coordinates in unflattened array = (np.int64(1), np.int64(3))\n"
     ]
    }
   ],
   "source": [
    "# we can return in the index of the minimum or maximum value\n",
    "print(x.argmin())\n",
    "print(x.argmax())\n",
    "\n",
    "# when calling argmin or argmax on the entire array, python will internally flatten the array and return the index of the\n",
    "# max/min value of the flattened array\n",
    "# the original index can be returned using np.unravel(max/minindex, originalshape)\n",
    "\n",
    "print(f\"index of max element in flattened array = {x.argmax()}\")\n",
    "print(f\"max element coordinates in unflattened array = {np.unravel_index(x.argmax(), x.shape)}\")\n",
    " "
   ]
  },
  {
   "cell_type": "code",
   "execution_count": 49,
   "metadata": {},
   "outputs": [
    {
     "name": "stdout",
     "output_type": "stream",
     "text": [
      "[[0.9  0.22 0.02 0.12]\n",
      " [0.2  0.33 0.41 0.94]\n",
      " [0.14 0.8  0.65 0.88]]\n",
      "->\n",
      "[[2]\n",
      " [0]\n",
      " [0]]\n",
      "\n"
     ]
    }
   ],
   "source": [
    "# we can call argmin or argmax along a specific dimension\n",
    "print(f\"{x}\\n->\\n{x.argmin(axis=1).reshape((x.shape[0], 1))}\\n\") # returns the index of the min element for each row\n"
   ]
  },
  {
   "cell_type": "markdown",
   "metadata": {},
   "source": [
    "#### 2 Selection using boolean arrays"
   ]
  },
  {
   "cell_type": "markdown",
   "metadata": {},
   "source": [
    "To illustrate the concepts of boolean arrays and how to use them for selection, let’s consider an example.\n",
    "\n",
    "Suppose we use the performance of 5 students over three different subjects:\n",
    "\n",
    "| Index |Name     | Math | CS  | Biology |\n",
    "|-------|---------|------|-----|---------|\n",
    "| 0.    |Jack     | 90   | 80  | 75      |\n",
    "| 1.    |Jill     | 93   | 89  | 87      |\n",
    "| 2.    |Joe      | 67   | 98. | 88      |\n",
    "| 3.    |Jason    | 77.  | 89. | 80      |\n",
    "| 4.    |Jennifer | 83.  | 70. | 95      |"
   ]
  },
  {
   "cell_type": "code",
   "execution_count": 50,
   "metadata": {},
   "outputs": [],
   "source": [
    "grades = np.array([\n",
    "    [90, 80, 75],\n",
    "    [93, 95, 87],\n",
    "    [67, 98, 88],\n",
    "    [77, 89, 80],\n",
    "    [93, 97, 95],\n",
    "])\n",
    "\n",
    "names = np.array([\n",
    "    'Jack',\n",
    "    'Jill',\n",
    "    'Joe',\n",
    "    'Jason',\n",
    "    'Jennifer',\n",
    "])"
   ]
  },
  {
   "cell_type": "markdown",
   "metadata": {},
   "source": [
    "- by applying logical operators and formulating a predicate involving numpy arrays we can derive a boolean mask (boolean array)\n",
    "\n",
    "    - == equality\n",
    "\n",
    "    - <, >, <=, >=\n",
    "\n",
    "    - np.logical_not\n",
    "\n",
    "    - & and |\n",
    "\n",
    "- such a mask can be used to index an array and extract entries corresponding to the true values"
   ]
  },
  {
   "cell_type": "code",
   "execution_count": 51,
   "metadata": {},
   "outputs": [
    {
     "data": {
      "text/plain": [
       "array([90, 93, 67, 77, 93])"
      ]
     },
     "execution_count": 51,
     "metadata": {},
     "output_type": "execute_result"
    }
   ],
   "source": [
    "# here are all the math grades\n",
    "grades[:, 0]"
   ]
  },
  {
   "cell_type": "code",
   "execution_count": 52,
   "metadata": {},
   "outputs": [
    {
     "data": {
      "text/plain": [
       "array([[False],\n",
       "       [ True],\n",
       "       [False],\n",
       "       [False],\n",
       "       [ True]])"
      ]
     },
     "execution_count": 52,
     "metadata": {},
     "output_type": "execute_result"
    }
   ],
   "source": [
    "# this will generate a boolean mask for all the people who recieved a grade higher 90 in math\n",
    "mask = (grades[:,0] > 90).reshape((5, 1))\n",
    "mask"
   ]
  },
  {
   "cell_type": "code",
   "execution_count": 53,
   "metadata": {},
   "outputs": [
    {
     "data": {
      "text/plain": [
       "array([['Jill'],\n",
       "       ['Jennifer']], dtype='<U8')"
      ]
     },
     "execution_count": 53,
     "metadata": {},
     "output_type": "execute_result"
    }
   ],
   "source": [
    "# the boolean mask can actually be used as an index to extract student names\n",
    "    # this assumes the name and grade entries are indexed consistently\n",
    "\n",
    "names[mask[:,0]].reshape((2,1))"
   ]
  },
  {
   "cell_type": "code",
   "execution_count": 54,
   "metadata": {},
   "outputs": [],
   "source": [
    "# mask for A+ in math and cs\n",
    "mask = ((grades[:,0] >= 90) & (grades[:,1] >= 90))"
   ]
  },
  {
   "cell_type": "code",
   "execution_count": 55,
   "metadata": {},
   "outputs": [
    {
     "data": {
      "text/plain": [
       "array([['Jill'],\n",
       "       ['Jennifer']], dtype='<U8')"
      ]
     },
     "execution_count": 55,
     "metadata": {},
     "output_type": "execute_result"
    }
   ],
   "source": [
    "# extracting the names of said students\n",
    "names[mask].reshape((2,1))"
   ]
  },
  {
   "cell_type": "code",
   "execution_count": 56,
   "metadata": {},
   "outputs": [
    {
     "data": {
      "text/plain": [
       "array(['Jill'], dtype='<U8')"
      ]
     },
     "execution_count": 56,
     "metadata": {},
     "output_type": "execute_result"
    }
   ],
   "source": [
    "# getting the names of all students that got >= 90 in math and CS but not biology\n",
    "mask = ((grades[:,0] >= 90) & (grades[:,1] >= 90) & np.logical_not(grades[:,2] >= 90))\n",
    "names[mask]"
   ]
  },
  {
   "cell_type": "code",
   "execution_count": 57,
   "metadata": {},
   "outputs": [
    {
     "data": {
      "text/plain": [
       "array(['Joe'], dtype='<U8')"
      ]
     },
     "execution_count": 57,
     "metadata": {},
     "output_type": "execute_result"
    }
   ],
   "source": [
    "# here is a more readable approach\n",
    "# getting all the kids that got less than 70 in any course\n",
    "names[\n",
    "    (grades[:,0]<70) |\n",
    "    (grades[:,1]<70) |\n",
    "    (grades[:,2]<70)\n",
    "]"
   ]
  },
  {
   "cell_type": "code",
   "execution_count": 58,
   "metadata": {},
   "outputs": [
    {
     "name": "stdout",
     "output_type": "stream",
     "text": [
      "Joe recieved a 67 in math, 98 in CS, and 88 in biology\n"
     ]
    }
   ],
   "source": [
    "# now we can get all of this student's grades using a mask on the grades array\n",
    "    # the mask would have to be applied on the ROWS of the grades array\n",
    "    # this would return a subarray of the same dimension as the original containing a single row in this case\n",
    "    # to understand why, consider what would happen if there were mutiple students, there would need to be multiple rows\n",
    "    # a list of multiple rows is a list of lists which is a numpy 2d array\n",
    "\n",
    "# here we squeeze to remove the unecessary dimension\n",
    "joes_grades = grades[names == 'Joe',:].squeeze()\n",
    "\n",
    "print(f\"Joe recieved a {joes_grades[0]} in math, {joes_grades[1]} in CS, and {joes_grades[2]} in biology\")"
   ]
  },
  {
   "cell_type": "code",
   "execution_count": 62,
   "metadata": {},
   "outputs": [
    {
     "data": {
      "text/plain": [
       "(1, 3)"
      ]
     },
     "execution_count": 62,
     "metadata": {},
     "output_type": "execute_result"
    }
   ],
   "source": [
    "grades[names == 'Joe',:].shape"
   ]
  }
 ],
 "metadata": {
  "kernelspec": {
   "display_name": "ml",
   "language": "python",
   "name": "python3"
  },
  "language_info": {
   "codemirror_mode": {
    "name": "ipython",
    "version": 3
   },
   "file_extension": ".py",
   "mimetype": "text/x-python",
   "name": "python",
   "nbconvert_exporter": "python",
   "pygments_lexer": "ipython3",
   "version": "3.12.4"
  }
 },
 "nbformat": 4,
 "nbformat_minor": 2
}
