{
 "cells": [
  {
   "cell_type": "markdown",
   "metadata": {},
   "source": [
    "### 2.1 Importing the numpy module\n",
    "---"
   ]
  },
  {
   "cell_type": "code",
   "execution_count": 2,
   "metadata": {},
   "outputs": [],
   "source": [
    "import numpy as np"
   ]
  },
  {
   "cell_type": "markdown",
   "metadata": {},
   "source": [
    "### 2.2 The np.array(...) constructor converts Python iterables into arrays\n",
    "---"
   ]
  },
  {
   "cell_type": "code",
   "execution_count": 3,
   "metadata": {},
   "outputs": [
    {
     "data": {
      "text/plain": [
       "array([1, 2, 3])"
      ]
     },
     "execution_count": 3,
     "metadata": {},
     "output_type": "execute_result"
    }
   ],
   "source": [
    "x_array = np.array([1,2,3])\n",
    "x_array"
   ]
  },
  {
   "cell_type": "markdown",
   "metadata": {},
   "source": [
    "### 3 Datatype of numpy arrays\n",
    "---"
   ]
  },
  {
   "cell_type": "code",
   "execution_count": 4,
   "metadata": {},
   "outputs": [
    {
     "data": {
      "text/plain": [
       "dtype('int64')"
      ]
     },
     "execution_count": 4,
     "metadata": {},
     "output_type": "execute_result"
    }
   ],
   "source": [
    "# numpy arrays are homogeneous\n",
    "\n",
    "x_array.dtype"
   ]
  },
  {
   "cell_type": "markdown",
   "metadata": {},
   "source": [
    "### 3.1 Shape of of numpy array\n",
    "---"
   ]
  },
  {
   "cell_type": "code",
   "execution_count": 5,
   "metadata": {},
   "outputs": [
    {
     "name": "stdout",
     "output_type": "stream",
     "text": [
      "(3,)\n",
      "3\n"
     ]
    }
   ],
   "source": [
    "# NDarrays have multiple dimensions or axis along which values are stored\n",
    "# The magnitudes of each dimension or axis is called the shape of the array\n",
    "# this size of an array is the total number of elements\n",
    "\n",
    "print(x_array.shape) # all entries exist along a single axis (dimension 0)\n",
    "print(x_array.size)"
   ]
  },
  {
   "cell_type": "markdown",
   "metadata": {},
   "source": [
    "### 4 Multidimensional arrays\n",
    "---"
   ]
  },
  {
   "cell_type": "markdown",
   "metadata": {},
   "source": [
    "| 190 | 170 | 130 |\n",
    "|-----|-----|-----|\n",
    "| 105 | 122 | 111 |\n",
    "\n",
    "- this array has 2 axis or dimensions\n",
    "\n",
    "- shape is (2,3)\n",
    "\n",
    "    - the row dimension has size 2\n",
    "\n",
    "    - the column dimension has size 3\n",
    "\n",
    "    - coordinates of say 130 would be (0,2)\n",
    "\n",
    "- all numpy indexing is 0-based"
   ]
  },
  {
   "cell_type": "markdown",
   "metadata": {},
   "source": [
    "### 4.1 Constructing multidimensional arrays\n",
    "---\n",
    "\n",
    "- we can use nested lists to create numpy nd-arrays"
   ]
  },
  {
   "cell_type": "code",
   "execution_count": 6,
   "metadata": {},
   "outputs": [
    {
     "data": {
      "text/plain": [
       "array([[190, 170, 130],\n",
       "       [105, 122, 111]])"
      ]
     },
     "execution_count": 6,
     "metadata": {},
     "output_type": "execute_result"
    }
   ],
   "source": [
    "x_array = np.array(\n",
    "    [\n",
    "        [190, 170, 130],\n",
    "        [105, 122, 111],        \n",
    "    ]\n",
    ")\n",
    "x_array"
   ]
  },
  {
   "cell_type": "markdown",
   "metadata": {},
   "source": [
    "### 4.2 Shape of multidimensional array\n",
    "---\n",
    "\n",
    "- shape used to be (3,)\n",
    "- shape will now have two entries"
   ]
  },
  {
   "cell_type": "code",
   "execution_count": 7,
   "metadata": {},
   "outputs": [
    {
     "data": {
      "text/plain": [
       "(2, 3)"
      ]
     },
     "execution_count": 7,
     "metadata": {},
     "output_type": "execute_result"
    }
   ],
   "source": [
    "x_array.shape"
   ]
  },
  {
   "cell_type": "markdown",
   "metadata": {},
   "source": [
    "### 4.3 Indexing entries in a multidimensional array\n",
    "---"
   ]
  },
  {
   "cell_type": "code",
   "execution_count": 8,
   "metadata": {},
   "outputs": [
    {
     "name": "stdout",
     "output_type": "stream",
     "text": [
      "A value =  111\n",
      "Last value =  111\n",
      "A row =  [190 170 130]\n",
      "A column =  [130 111]\n",
      "A subarray = \n",
      " [[170 130]\n",
      " [122 111]]\n"
     ]
    }
   ],
   "source": [
    "print(\"A value = \",     x_array[1,2])\n",
    "print(\"Last value = \",     x_array[-1,-1])\n",
    "print(\"A row = \",     x_array[0])\n",
    "print(\"A column = \",     x_array[:,-1])\n",
    "print(\"A subarray = \\n\",     x_array[:,1:])"
   ]
  },
  {
   "cell_type": "markdown",
   "metadata": {},
   "source": [
    "### 5 More array constructors\n",
    "---\n",
    "- there are many ways to create an array in numpy"
   ]
  },
  {
   "cell_type": "code",
   "execution_count": 9,
   "metadata": {},
   "outputs": [
    {
     "data": {
      "text/plain": [
       "array([[0., 0., 0.],\n",
       "       [0., 0., 0.],\n",
       "       [0., 0., 0.]])"
      ]
     },
     "execution_count": 9,
     "metadata": {},
     "output_type": "execute_result"
    }
   ],
   "source": [
    "# array of zeros\n",
    "x_temp = np.zeros((3,3))\n",
    "x_temp"
   ]
  },
  {
   "cell_type": "code",
   "execution_count": 10,
   "metadata": {},
   "outputs": [
    {
     "data": {
      "text/plain": [
       "array([[1., 1.],\n",
       "       [1., 1.]])"
      ]
     },
     "execution_count": 10,
     "metadata": {},
     "output_type": "execute_result"
    }
   ],
   "source": [
    "# array of ones\n",
    "np.ones((2,2))"
   ]
  },
  {
   "cell_type": "code",
   "execution_count": 11,
   "metadata": {},
   "outputs": [
    {
     "data": {
      "text/plain": [
       "array([[1., 1., 1.],\n",
       "       [1., 1., 1.],\n",
       "       [1., 1., 1.]])"
      ]
     },
     "execution_count": 11,
     "metadata": {},
     "output_type": "execute_result"
    }
   ],
   "source": [
    "# creating an array of ones like the array of zeros\n",
    "x_temp = np.ones_like(x_temp)\n",
    "x_temp"
   ]
  },
  {
   "cell_type": "code",
   "execution_count": 12,
   "metadata": {},
   "outputs": [
    {
     "data": {
      "text/plain": [
       "array([[123, 123, 123],\n",
       "       [123, 123, 123],\n",
       "       [123, 123, 123]])"
      ]
     },
     "execution_count": 12,
     "metadata": {},
     "output_type": "execute_result"
    }
   ],
   "source": [
    "# fixed constant array\n",
    "np.full(shape=(3,3), fill_value=123)"
   ]
  },
  {
   "cell_type": "code",
   "execution_count": 13,
   "metadata": {},
   "outputs": [
    {
     "data": {
      "text/plain": [
       "array([ 5,  7,  9, 11, 13, 15])"
      ]
     },
     "execution_count": 13,
     "metadata": {},
     "output_type": "execute_result"
    }
   ],
   "source": [
    "# creating a sequence\n",
    "np.arange(start=5, stop=16, step=2)"
   ]
  },
  {
   "cell_type": "code",
   "execution_count": 14,
   "metadata": {},
   "outputs": [
    {
     "data": {
      "text/plain": [
       "array([0.        , 0.11111111, 0.22222222, 0.33333333, 0.44444444,\n",
       "       0.55555556, 0.66666667, 0.77777778, 0.88888889, 1.        ])"
      ]
     },
     "execution_count": 14,
     "metadata": {},
     "output_type": "execute_result"
    }
   ],
   "source": [
    "# creating a sequence of evenly spaced values\n",
    "np.linspace(start=0, stop=1, num=10)\n"
   ]
  },
  {
   "cell_type": "code",
   "execution_count": 15,
   "metadata": {},
   "outputs": [
    {
     "data": {
      "text/plain": [
       "array([[6.12549333, 8.79526781, 1.8443368 ],\n",
       "       [1.76404435, 5.47721585, 9.38613868],\n",
       "       [1.94908612, 6.64564252, 4.57587914]])"
      ]
     },
     "execution_count": 15,
     "metadata": {},
     "output_type": "execute_result"
    }
   ],
   "source": [
    "# custom nd-array filled with random values sampled uniformly from the provided range\n",
    "np.random.uniform(low=0, high=10, size=(3,3)) # here size behaves like shape"
   ]
  },
  {
   "cell_type": "code",
   "execution_count": 16,
   "metadata": {},
   "outputs": [
    {
     "data": {
      "text/plain": [
       "array([[-0.89256724, -2.07762623, -0.64454352],\n",
       "       [ 0.7765214 ,  0.56251733, -0.35835478],\n",
       "       [-0.54273721, -0.03109374, -0.05879028]])"
      ]
     },
     "execution_count": 16,
     "metadata": {},
     "output_type": "execute_result"
    }
   ],
   "source": [
    "# same as above but sampling is done from a normal gaussian distribution\n",
    "np.random.normal(loc=0, scale=1, size=(3,3)) # here loc is the mean, scale is std deviation and size is shape"
   ]
  },
  {
   "cell_type": "markdown",
   "metadata": {},
   "source": [
    "### 6 In-depth indexing of numpy arrays\n",
    "---"
   ]
  },
  {
   "cell_type": "code",
   "execution_count": 17,
   "metadata": {},
   "outputs": [
    {
     "name": "stdout",
     "output_type": "stream",
     "text": [
      "[5 0 3 3 7 9]\n",
      "Indexing from the beginning: x1[0] = 5, x1[1] = 0\n",
      "Indexing from the end: x1[-1] = 9, x1[-2] = 7\n"
     ]
    }
   ],
   "source": [
    "x1 = np.array([5, 0, 3, 3, 7, 9])\n",
    "print(x1)\n",
    "print(f\"Indexing from the beginning: x1[0] = {x1[0]}, x1[1] = {x1[1]}\")\n",
    "print(f\"Indexing from the end: x1[-1] = {x1[-1]}, x1[-2] = {x1[-2]}\")\n"
   ]
  },
  {
   "cell_type": "markdown",
   "metadata": {},
   "source": [
    "### 6.3 Indexing single element in multidimensional array\n",
    "---\n"
   ]
  },
  {
   "cell_type": "code",
   "execution_count": 18,
   "metadata": {},
   "outputs": [
    {
     "name": "stdout",
     "output_type": "stream",
     "text": [
      "[[3 5 2 4]\n",
      " [7 6 8 8]\n",
      " [1 6 7 7]] \n",
      "\n",
      "Negative and positive indexes can be used together:\n",
      "\n",
      "x2[0,0] = 3, x2[2,3] = 7\n",
      "\n",
      "x2[-3,-4] = 3, x2[2,3] = 7\n",
      "\n",
      "x2[1,-1] = 8, x2[-2,3] = 8\n",
      "\n"
     ]
    }
   ],
   "source": [
    "x2 = np.array([[3, 5, 2, 4],\n",
    "               [7, 6, 8, 8],\n",
    "               [1, 6, 7, 7]])\n",
    "\n",
    "print(x2,\"\\n\")\n",
    "print(\"Negative and positive indexes can be used together:\\n\")\n",
    "print(f\"x2[0,0] = {x2[0,0]}, x2[2,3] = {x2[2,3]}\\n\")\n",
    "print(f\"x2[-3,-4] = {x2[-3,-4]}, x2[2,3] = {x2[-1,-1]}\\n\")\n",
    "print(f\"x2[1,-1] = {x2[1,-1]}, x2[-2,3] = {x2[-2,3]}\\n\")\n"
   ]
  },
  {
   "cell_type": "markdown",
   "metadata": {},
   "source": [
    "### 6.5 Subarrays of vectors\n",
    "---\n",
    "\n",
    "- slicing is not inclusive of the right bound and when moving in the negative direction, need to specify negative step"
   ]
  },
  {
   "cell_type": "code",
   "execution_count": 19,
   "metadata": {},
   "outputs": [
    {
     "name": "stdout",
     "output_type": "stream",
     "text": [
      "[[3 5 2 4]\n",
      " [7 6 8 8]\n",
      " [1 6 7 7]] \n",
      "\n",
      "Use slicing with negative & positive indexing to extract subarrays:\n",
      "\n",
      "Bottom right:\n",
      "x[1:3,-1:-3:-1] =\n",
      " [[8 8]\n",
      " [7 7]]\n",
      "\n",
      "Bottom left:\n",
      "x[-1:-3:-1,0:2] =\n",
      " [[1 6]\n",
      " [7 6]]\n",
      "x[1:3,0:2] = \n",
      " [[7 6]\n",
      " [1 6]]\n",
      "\n",
      "Bottom middle:\n",
      "x[1:,1:3] =\n",
      " [[6 8]\n",
      " [6 7]]\n",
      "\n",
      "second column:\n",
      "x[0:,-3] =\n",
      " [[5]\n",
      " [6]\n",
      " [6]]\n",
      "\n",
      "first and last row:\n",
      "x[0:3:2,:] =\n",
      " [[3 5 2 4]\n",
      " [1 6 7 7]]\n",
      "\n"
     ]
    }
   ],
   "source": [
    "x = np.array([[3, 5, 2, 4],\n",
    "               [7, 6, 8, 8],\n",
    "               [1, 6, 7, 7]])\n",
    "\n",
    "print(x,\"\\n\")\n",
    "\n",
    "print(\"Use slicing with negative & positive indexing to extract subarrays:\\n\")\n",
    "\n",
    "print(\"Bottom right:\")\n",
    "print(f\"x[1:3,-1:-3:-1] =\\n {x[1:3,-1:-3:-1]}\\n\")\n",
    "\n",
    "print(\"Bottom left:\")\n",
    "print(f\"x[-1:-3:-1,0:2] =\\n {x[-1:-3:-1,0:2]}\")\n",
    "print(f\"x[1:3,0:2] = \\n {x[1:3,0:2]}\\n\")\n",
    "\n",
    "print(\"Bottom middle:\")\n",
    "print(f\"x[1:,1:3] =\\n {x[1:,1:3]}\\n\")\n",
    "\n",
    "print(\"second column:\")\n",
    "print(f\"x[0:,-3] =\\n {x[0:,-3].reshape((3,1))}\\n\")\n",
    "\n",
    "print(\"first and last row:\")\n",
    "print(f\"x[0:3:2,:] =\\n {x[0:3:2,:]}\\n\")"
   ]
  },
  {
   "cell_type": "markdown",
   "metadata": {},
   "source": [
    "### 7 Some array transformations\n",
    "---\n",
    "\n",
    "- reshaping can be done so long as the number of elements = product of the axis sizes\n",
    "    - i.e `[0,1,2,3,4,5,6,7,8,9,10,11]` has 12 elements\n",
    "    - it can be reshaped into the following nd-array shapes:\n",
    "        - `(12,1)`\n",
    "        - `(2,6)`\n",
    "        - `(6,2)`\n",
    "        - `(3,4)`\n",
    "        - `(4,3,1)`\n",
    "        - `(2,2,3,1)` etc..."
   ]
  },
  {
   "cell_type": "code",
   "execution_count": 20,
   "metadata": {},
   "outputs": [
    {
     "name": "stdout",
     "output_type": "stream",
     "text": [
      "[0 1 2 3 4 5 6 7 8]\n",
      "[[0 1 2]\n",
      " [3 4 5]\n",
      " [6 7 8]]\n"
     ]
    }
   ],
   "source": [
    "x = np.arange(9)\n",
    "print(x)\n",
    "x = x.reshape(3,3)\n",
    "print(x)"
   ]
  },
  {
   "cell_type": "code",
   "execution_count": 21,
   "metadata": {},
   "outputs": [
    {
     "name": "stdout",
     "output_type": "stream",
     "text": [
      "[[[1]\n",
      "  [2]]\n",
      "\n",
      " [[4]\n",
      "  [5]]]\n",
      "(2, 2, 1)\n"
     ]
    }
   ],
   "source": [
    "# this code extracts a subarray of shape (2,2)\n",
    "# there is then a new dimension inserted at the end creating the shape (2,2,1)\n",
    "    # this can be thought of as two 2x1 matrices stacked on top of each other\n",
    "    # as far as output appearance, the last dimension is always the number of columns while the second last is always the number of rows\n",
    "print(x[0:2,1:,np.newaxis])\n",
    "print(x[0:2,1:,np.newaxis].shape)"
   ]
  },
  {
   "cell_type": "code",
   "execution_count": 22,
   "metadata": {},
   "outputs": [
    {
     "name": "stdout",
     "output_type": "stream",
     "text": [
      "[[[1 2]]\n",
      "\n",
      " [[4 5]]]\n",
      "(2, 1, 2)\n"
     ]
    }
   ],
   "source": [
    "# this code extracts a subarray of shape (2,2)\n",
    "# a new dimension is inserted in the middle creating the shape (2,1,2)\n",
    "    # this can be thought of as two 1x2 matrices stacked on top of each other\n",
    "print(x[0:2,np.newaxis,1:])\n",
    "print(x[0:2,np.newaxis,1:].shape)"
   ]
  },
  {
   "cell_type": "markdown",
   "metadata": {},
   "source": [
    "### 7.2 Array concatenation and splitting\n",
    "---"
   ]
  },
  {
   "cell_type": "code",
   "execution_count": 23,
   "metadata": {},
   "outputs": [
    {
     "data": {
      "text/plain": [
       "array([1, 2, 3, 3, 2, 1])"
      ]
     },
     "execution_count": 23,
     "metadata": {},
     "output_type": "execute_result"
    }
   ],
   "source": [
    "# these arrays are stacked along the only dimension that exists which is dimension 0\n",
    "x1 = np.array([1, 2, 3])\n",
    "y1 = np.array([3, 2, 1])\n",
    "np.concatenate([x1, y1], axis = 0)"
   ]
  },
  {
   "cell_type": "code",
   "execution_count": 24,
   "metadata": {},
   "outputs": [
    {
     "name": "stdout",
     "output_type": "stream",
     "text": [
      "[[ 1  2  3]\n",
      " [-1 -2 -3]\n",
      " [ 3  2  1]\n",
      " [-3 -2 -1]]\n",
      "(4, 3)\n",
      "\n",
      "[[ 1  2  3  3  2  1]\n",
      " [-1 -2 -3 -3 -2 -1]]\n",
      "(2, 6)\n"
     ]
    }
   ],
   "source": [
    "# both arrays now have shape (2,3)\n",
    "    # for concatenation all off axis sizes need to match\n",
    "    # concatenating along dimension 0 would stack along dimension 0 (along the rows)\n",
    "    # concatenating along dimension 1 would stack along dimension 1 (along the columns) \n",
    "x2 = np.array([\n",
    "    [1, 2, 3],\n",
    "    [-1, -2, -3]\n",
    "])\n",
    "\n",
    "y2 = np.array([\n",
    "    [3, 2, 1],\n",
    "    [-3, -2, -1]\n",
    "])\n",
    "\n",
    "print(np.concatenate([x2,y2], axis=0))\n",
    "print(np.concatenate([x2,y2], axis=0).shape)\n",
    "print()\n",
    "print(np.concatenate([x2,y2], axis=1))\n",
    "print(np.concatenate([x2,y2], axis=1).shape)"
   ]
  },
  {
   "cell_type": "code",
   "execution_count": 38,
   "metadata": {},
   "outputs": [
    {
     "data": {
      "text/plain": [
       "array([[1, 2, 3, 4],\n",
       "       [5, 6, 7, 8]])"
      ]
     },
     "execution_count": 38,
     "metadata": {},
     "output_type": "execute_result"
    }
   ],
   "source": [
    "# here the two arrays are automatically reshaped (1,4) and then stacked vertically\n",
    "\n",
    "a = np.arange(start=1, stop=5)\n",
    "b = np.arange(start=5, stop=9)\n",
    "\n",
    "np.vstack([a,b])\n",
    "#np.hstack([a,b])"
   ]
  },
  {
   "cell_type": "markdown",
   "metadata": {},
   "source": [
    "### 8 Splitting arrays\n",
    "---"
   ]
  },
  {
   "cell_type": "code",
   "execution_count": 26,
   "metadata": {},
   "outputs": [
    {
     "data": {
      "text/plain": [
       "[1, 2, 3, 99, 99, 3, 2, 1]"
      ]
     },
     "execution_count": 26,
     "metadata": {},
     "output_type": "execute_result"
    }
   ],
   "source": [
    "x = [1, 2, 3, 99, 99, 3, 2, 1]\n",
    "x"
   ]
  },
  {
   "cell_type": "code",
   "execution_count": 27,
   "metadata": {},
   "outputs": [
    {
     "name": "stdout",
     "output_type": "stream",
     "text": [
      "x1 = [1 2 3]\n",
      "x2 = [99 99]\n",
      "x3 = [3 2 1]\n"
     ]
    }
   ],
   "source": [
    "# here the array x is split at the specified indecies\n",
    "    # starting at index 0 and up to but not including index 3 becomes x1\n",
    "    # starting at index 3 and up to but not including index 5 becomes x2\n",
    "    # starting at index 5 and up to the last index becomes x3\n",
    "x1, x2, x3 = np.split(x, [3, 5])\n",
    "print('x1 =', x1)\n",
    "print('x2 =', x2)\n",
    "print('x3 =', x3)"
   ]
  },
  {
   "cell_type": "code",
   "execution_count": 28,
   "metadata": {},
   "outputs": [
    {
     "data": {
      "text/plain": [
       "array([[ 0,  1,  2,  3],\n",
       "       [ 4,  5,  6,  7],\n",
       "       [ 8,  9, 10, 11],\n",
       "       [12, 13, 14, 15]])"
      ]
     },
     "execution_count": 28,
     "metadata": {},
     "output_type": "execute_result"
    }
   ],
   "source": [
    "grid = np.arange(16).reshape((4, 4))\n",
    "grid"
   ]
  },
  {
   "cell_type": "code",
   "execution_count": 29,
   "metadata": {},
   "outputs": [
    {
     "name": "stdout",
     "output_type": "stream",
     "text": [
      "upper =\n",
      " [[0 1 2 3]\n",
      " [4 5 6 7]]\n",
      "lower =\n",
      " [[ 8  9 10 11]\n",
      " [12 13 14 15]]\n"
     ]
    }
   ],
   "source": [
    "# vsplit splits along dimension 0\n",
    "    # grid[0:2,:] becomes upper\n",
    "    # grid[2:,:] becomes lower\n",
    "upper, lower = np.vsplit(grid, [2])\n",
    "print('upper =\\n', upper)\n",
    "print('lower =\\n', lower)"
   ]
  },
  {
   "cell_type": "code",
   "execution_count": 30,
   "metadata": {},
   "outputs": [
    {
     "name": "stdout",
     "output_type": "stream",
     "text": [
      "left =\n",
      " [[ 0  1]\n",
      " [ 4  5]\n",
      " [ 8  9]\n",
      " [12 13]]\n",
      "right =\n",
      " [[ 2  3]\n",
      " [ 6  7]\n",
      " [10 11]\n",
      " [14 15]]\n"
     ]
    }
   ],
   "source": [
    "# hsplit splits along dimension 1\n",
    "    # grid[:,0:2] becomes left\n",
    "    # grid[:,2:] becomes right\n",
    "left, right = np.hsplit(grid, [2])\n",
    "print(\"left =\\n\", left)\n",
    "print(\"right =\\n\", right)"
   ]
  },
  {
   "cell_type": "markdown",
   "metadata": {},
   "source": [
    "### 9 Replication\n",
    "---\n",
    "\n",
    "- we can use np.repeat() to create a specified number of duplicates for all entries along a given axis\n",
    "- np.tile allows us to imagine the entire array as a single cell or tile. We can then create a super array of a specified shape where each \"entry\" is a tile."
   ]
  },
  {
   "cell_type": "code",
   "execution_count": 31,
   "metadata": {},
   "outputs": [
    {
     "data": {
      "text/plain": [
       "array([[ 0,  1,  2,  3],\n",
       "       [ 4,  5,  6,  7],\n",
       "       [ 8,  9, 10, 11]])"
      ]
     },
     "execution_count": 31,
     "metadata": {},
     "output_type": "execute_result"
    }
   ],
   "source": [
    "x = np.arange(12).reshape(3,4)\n",
    "x"
   ]
  },
  {
   "cell_type": "code",
   "execution_count": 32,
   "metadata": {},
   "outputs": [
    {
     "data": {
      "text/plain": [
       "array([[ 0,  1,  2,  3],\n",
       "       [ 0,  1,  2,  3],\n",
       "       [ 4,  5,  6,  7],\n",
       "       [ 4,  5,  6,  7],\n",
       "       [ 8,  9, 10, 11],\n",
       "       [ 8,  9, 10, 11]])"
      ]
     },
     "execution_count": 32,
     "metadata": {},
     "output_type": "execute_result"
    }
   ],
   "source": [
    "# each row is repeated 2 times\n",
    "np.repeat(x, 2, axis=0)"
   ]
  },
  {
   "cell_type": "code",
   "execution_count": 33,
   "metadata": {},
   "outputs": [
    {
     "data": {
      "text/plain": [
       "array([[ 0,  1,  2,  3,  0,  1,  2,  3],\n",
       "       [ 4,  5,  6,  7,  4,  5,  6,  7],\n",
       "       [ 8,  9, 10, 11,  8,  9, 10, 11],\n",
       "       [ 0,  1,  2,  3,  0,  1,  2,  3],\n",
       "       [ 4,  5,  6,  7,  4,  5,  6,  7],\n",
       "       [ 8,  9, 10, 11,  8,  9, 10, 11]])"
      ]
     },
     "execution_count": 33,
     "metadata": {},
     "output_type": "execute_result"
    }
   ],
   "source": [
    "# the array x is now a single tile creating a larger array of shape (2,2)\n",
    "np.tile(x, (2,2))"
   ]
  },
  {
   "cell_type": "code",
   "execution_count": null,
   "metadata": {},
   "outputs": [],
   "source": []
  }
 ],
 "metadata": {
  "kernelspec": {
   "display_name": "ml",
   "language": "python",
   "name": "python3"
  },
  "language_info": {
   "codemirror_mode": {
    "name": "ipython",
    "version": 3
   },
   "file_extension": ".py",
   "mimetype": "text/x-python",
   "name": "python",
   "nbconvert_exporter": "python",
   "pygments_lexer": "ipython3",
   "version": "3.12.4"
  }
 },
 "nbformat": 4,
 "nbformat_minor": 2
}
