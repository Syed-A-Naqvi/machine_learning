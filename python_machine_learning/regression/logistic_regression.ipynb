{
 "cells": [
  {
   "cell_type": "markdown",
   "metadata": {},
   "source": [
    "### Dataset"
   ]
  },
  {
   "cell_type": "code",
   "execution_count": 1,
   "metadata": {},
   "outputs": [
    {
     "data": {
      "text/html": [
       "<div>\n",
       "<style scoped>\n",
       "    .dataframe tbody tr th:only-of-type {\n",
       "        vertical-align: middle;\n",
       "    }\n",
       "\n",
       "    .dataframe tbody tr th {\n",
       "        vertical-align: top;\n",
       "    }\n",
       "\n",
       "    .dataframe thead th {\n",
       "        text-align: right;\n",
       "    }\n",
       "</style>\n",
       "<table border=\"1\" class=\"dataframe\">\n",
       "  <thead>\n",
       "    <tr style=\"text-align: right;\">\n",
       "      <th></th>\n",
       "      <th>sepal_length</th>\n",
       "      <th>sepal_width</th>\n",
       "      <th>petal_length</th>\n",
       "      <th>petal_width</th>\n",
       "      <th>species</th>\n",
       "    </tr>\n",
       "  </thead>\n",
       "  <tbody>\n",
       "    <tr>\n",
       "      <th>148</th>\n",
       "      <td>6.2</td>\n",
       "      <td>3.4</td>\n",
       "      <td>5.4</td>\n",
       "      <td>2.3</td>\n",
       "      <td>2</td>\n",
       "    </tr>\n",
       "    <tr>\n",
       "      <th>21</th>\n",
       "      <td>5.1</td>\n",
       "      <td>3.7</td>\n",
       "      <td>1.5</td>\n",
       "      <td>0.4</td>\n",
       "      <td>0</td>\n",
       "    </tr>\n",
       "    <tr>\n",
       "      <th>97</th>\n",
       "      <td>6.2</td>\n",
       "      <td>2.9</td>\n",
       "      <td>4.3</td>\n",
       "      <td>1.3</td>\n",
       "      <td>1</td>\n",
       "    </tr>\n",
       "    <tr>\n",
       "      <th>130</th>\n",
       "      <td>7.4</td>\n",
       "      <td>2.8</td>\n",
       "      <td>6.1</td>\n",
       "      <td>1.9</td>\n",
       "      <td>2</td>\n",
       "    </tr>\n",
       "    <tr>\n",
       "      <th>40</th>\n",
       "      <td>5.0</td>\n",
       "      <td>3.5</td>\n",
       "      <td>1.3</td>\n",
       "      <td>0.3</td>\n",
       "      <td>0</td>\n",
       "    </tr>\n",
       "  </tbody>\n",
       "</table>\n",
       "</div>"
      ],
      "text/plain": [
       "     sepal_length  sepal_width  petal_length  petal_width  species\n",
       "148           6.2          3.4           5.4          2.3        2\n",
       "21            5.1          3.7           1.5          0.4        0\n",
       "97            6.2          2.9           4.3          1.3        1\n",
       "130           7.4          2.8           6.1          1.9        2\n",
       "40            5.0          3.5           1.3          0.3        0"
      ]
     },
     "execution_count": 1,
     "metadata": {},
     "output_type": "execute_result"
    }
   ],
   "source": [
    "from sklearn import datasets\n",
    "import pandas as pd\n",
    "\n",
    "iris = datasets.load_iris()\n",
    "dataset = pd.DataFrame(\n",
    "  iris['data'],\n",
    "  columns=['sepal_length', 'sepal_width', 'petal_length', 'petal_width']\n",
    ")\n",
    "dataset['species'] = iris['target']\n",
    "dataset = dataset.sample(frac=1)\n",
    "dataset.head()"
   ]
  },
  {
   "cell_type": "code",
   "execution_count": 2,
   "metadata": {},
   "outputs": [],
   "source": [
    "import matplotlib.pyplot as plt\n",
    "\n",
    "df = dataset[(dataset['species'] == 0) | (dataset['species'] == 1)]\n",
    "x_df = df[['sepal_length', 'sepal_width']]\n",
    "y_df = df['species']\n",
    "c = ['blue' if s==0 else 'red' for s in y_df]"
   ]
  },
  {
   "cell_type": "code",
   "execution_count": 3,
   "metadata": {},
   "outputs": [
    {
     "data": {
      "image/png": "[encoded data removed]",
      "text/plain": [
       "<Figure size 640x480 with 1 Axes>"
      ]
     },
     "metadata": {},
     "output_type": "display_data"
    }
   ],
   "source": [
    "plt.scatter(x_df['sepal_length'], x_df['sepal_width'], c=c)\n",
    "plt.show()"
   ]
  },
  {
   "cell_type": "markdown",
   "metadata": {},
   "source": [
    "### Model"
   ]
  },
  {
   "cell_type": "code",
   "execution_count": 4,
   "metadata": {},
   "outputs": [],
   "source": [
    "import torch\n",
    "import torch.nn as nn\n",
    "\n",
    "device = 'cuda' if torch.cuda.is_available() else 'cpu'"
   ]
  },
  {
   "cell_type": "code",
   "execution_count": 5,
   "metadata": {},
   "outputs": [],
   "source": [
    "class LogisticRegression(torch.nn.Module):\n",
    "    def __init__(self, features=2):\n",
    "        super().__init__()\n",
    "        self.w = nn.Parameter(torch.randn(size=(features,), device=device))\n",
    "        self.b = nn.Parameter(torch.randn(size=(), device=device))\n",
    "        self.activation = nn.Sigmoid()\n",
    "    def forward(self, x):\n",
    "        return self.activation(x @ self.w + self.b)\n",
    "\n",
    "model = LogisticRegression()\n",
    "\n",
    "x = torch.tensor(x_df.values, dtype=torch.float32, device=device)\n",
    "y_true = torch.tensor(y_df.values, dtype=torch.float32, device=device)"
   ]
  },
  {
   "cell_type": "code",
   "execution_count": 6,
   "metadata": {},
   "outputs": [
    {
     "data": {
      "text/html": [
       "<div>\n",
       "<style scoped>\n",
       "    .dataframe tbody tr th:only-of-type {\n",
       "        vertical-align: middle;\n",
       "    }\n",
       "\n",
       "    .dataframe tbody tr th {\n",
       "        vertical-align: top;\n",
       "    }\n",
       "\n",
       "    .dataframe thead th {\n",
       "        text-align: right;\n",
       "    }\n",
       "</style>\n",
       "<table border=\"1\" class=\"dataframe\">\n",
       "  <thead>\n",
       "    <tr style=\"text-align: right;\">\n",
       "      <th></th>\n",
       "      <th>y_i</th>\n",
       "      <th>p_i</th>\n",
       "      <th>l_i</th>\n",
       "    </tr>\n",
       "  </thead>\n",
       "  <tbody>\n",
       "    <tr>\n",
       "      <th>0</th>\n",
       "      <td>0.0</td>\n",
       "      <td>0.977676</td>\n",
       "      <td>3.802105</td>\n",
       "    </tr>\n",
       "    <tr>\n",
       "      <th>1</th>\n",
       "      <td>1.0</td>\n",
       "      <td>0.907866</td>\n",
       "      <td>0.096658</td>\n",
       "    </tr>\n",
       "    <tr>\n",
       "      <th>2</th>\n",
       "      <td>0.0</td>\n",
       "      <td>0.969899</td>\n",
       "      <td>3.503189</td>\n",
       "    </tr>\n",
       "    <tr>\n",
       "      <th>3</th>\n",
       "      <td>0.0</td>\n",
       "      <td>0.968854</td>\n",
       "      <td>3.469058</td>\n",
       "    </tr>\n",
       "    <tr>\n",
       "      <th>4</th>\n",
       "      <td>0.0</td>\n",
       "      <td>0.967220</td>\n",
       "      <td>3.417933</td>\n",
       "    </tr>\n",
       "  </tbody>\n",
       "</table>\n",
       "</div>"
      ],
      "text/plain": [
       "   y_i       p_i       l_i\n",
       "0  0.0  0.977676  3.802105\n",
       "1  1.0  0.907866  0.096658\n",
       "2  0.0  0.969899  3.503189\n",
       "3  0.0  0.968854  3.469058\n",
       "4  0.0  0.967220  3.417933"
      ]
     },
     "execution_count": 6,
     "metadata": {},
     "output_type": "execute_result"
    }
   ],
   "source": [
    "from torch.nn.functional import binary_cross_entropy\n",
    "\n",
    "with torch.no_grad():\n",
    "    p = model(x)\n",
    "    L = binary_cross_entropy(p, y_true, reduction='none')\n",
    "    df = pd.DataFrame({\n",
    "        'y_i': y_true.cpu().numpy(),\n",
    "        'p_i': p.cpu().numpy(),\n",
    "        'l_i': L.cpu().numpy()\n",
    "    })\n",
    "\n",
    "df.head()"
   ]
  },
  {
   "cell_type": "markdown",
   "metadata": {},
   "source": [
    "### Training"
   ]
  },
  {
   "cell_type": "code",
   "execution_count": 7,
   "metadata": {},
   "outputs": [],
   "source": [
    "model = LogisticRegression()\n",
    "loss = binary_cross_entropy\n",
    "optimizer = torch.optim.SGD(model.parameters(), lr=0.5)\n",
    "epochs = 10000"
   ]
  },
  {
   "cell_type": "code",
   "execution_count": 8,
   "metadata": {},
   "outputs": [
    {
     "name": "stdout",
     "output_type": "stream",
     "text": [
      "error = 11.05789566040039\n",
      "error = 0.05506723374128342\n",
      "error = 0.04687982052564621\n",
      "error = 0.042528919875621796\n",
      "error = 0.03930886089801788\n",
      "error = 0.036627527326345444\n",
      "error = 0.034285448491573334\n",
      "error = 0.03219680115580559\n",
      "error = 0.030316894873976707\n",
      "error = 0.028617531061172485\n"
     ]
    }
   ],
   "source": [
    "for e in range(epochs):\n",
    "    optimizer.zero_grad()\n",
    "    p = model(x)\n",
    "    l = binary_cross_entropy(p, y_true)\n",
    "    l.backward()\n",
    "    optimizer.step()\n",
    "    if e % 1000 == 0:\n",
    "        print(f\"error = {l.item()}\")"
   ]
  },
  {
   "cell_type": "code",
   "execution_count": 9,
   "metadata": {},
   "outputs": [
    {
     "data": {
      "text/plain": [
       "(Parameter containing:\n",
       " tensor([  8.3290, -11.0312], device='cuda:0', requires_grad=True),\n",
       " Parameter containing:\n",
       " tensor(-10.9784, device='cuda:0', requires_grad=True))"
      ]
     },
     "execution_count": 9,
     "metadata": {},
     "output_type": "execute_result"
    }
   ],
   "source": [
    "model.w, model.b"
   ]
  },
  {
   "cell_type": "code",
   "execution_count": 10,
   "metadata": {},
   "outputs": [
    {
     "data": {
      "image/png": "[encoded data removed]",
      "text/plain": [
       "<Figure size 640x480 with 1 Axes>"
      ]
     },
     "metadata": {},
     "output_type": "display_data"
    }
   ],
   "source": [
    "import numpy as np\n",
    "\n",
    "def f(x):\n",
    "    return -(model.w[0].item()/model.w[1].item())*x - (model.b.item()/model.w[1].item())\n",
    "x_p = np.linspace(3.5, 7.5, 100)\n",
    "\n",
    "\n",
    "plt.scatter(x_df['sepal_length'], x_df['sepal_width'], c=c)\n",
    "plt.plot(x_p, f(x_p), 'b-', linewidth=2)\n",
    "plt.show()"
   ]
  },
  {
   "cell_type": "code",
   "execution_count": 11,
   "metadata": {},
   "outputs": [
    {
     "data": {
      "text/html": [
       "<div>\n",
       "<style scoped>\n",
       "    .dataframe tbody tr th:only-of-type {\n",
       "        vertical-align: middle;\n",
       "    }\n",
       "\n",
       "    .dataframe tbody tr th {\n",
       "        vertical-align: top;\n",
       "    }\n",
       "\n",
       "    .dataframe thead th {\n",
       "        text-align: right;\n",
       "    }\n",
       "</style>\n",
       "<table border=\"1\" class=\"dataframe\">\n",
       "  <thead>\n",
       "    <tr style=\"text-align: right;\">\n",
       "      <th></th>\n",
       "      <th>sepal_length</th>\n",
       "      <th>sepal_width</th>\n",
       "      <th>petal_length</th>\n",
       "      <th>petal_width</th>\n",
       "      <th>species</th>\n",
       "    </tr>\n",
       "  </thead>\n",
       "  <tbody>\n",
       "    <tr>\n",
       "      <th>97</th>\n",
       "      <td>6.2</td>\n",
       "      <td>2.9</td>\n",
       "      <td>4.3</td>\n",
       "      <td>1.3</td>\n",
       "      <td>1</td>\n",
       "    </tr>\n",
       "    <tr>\n",
       "      <th>80</th>\n",
       "      <td>5.5</td>\n",
       "      <td>2.4</td>\n",
       "      <td>3.8</td>\n",
       "      <td>1.1</td>\n",
       "      <td>1</td>\n",
       "    </tr>\n",
       "    <tr>\n",
       "      <th>58</th>\n",
       "      <td>6.6</td>\n",
       "      <td>2.9</td>\n",
       "      <td>4.6</td>\n",
       "      <td>1.3</td>\n",
       "      <td>1</td>\n",
       "    </tr>\n",
       "    <tr>\n",
       "      <th>85</th>\n",
       "      <td>6.0</td>\n",
       "      <td>3.4</td>\n",
       "      <td>4.5</td>\n",
       "      <td>1.6</td>\n",
       "      <td>1</td>\n",
       "    </tr>\n",
       "    <tr>\n",
       "      <th>98</th>\n",
       "      <td>5.1</td>\n",
       "      <td>2.5</td>\n",
       "      <td>3.0</td>\n",
       "      <td>1.1</td>\n",
       "      <td>1</td>\n",
       "    </tr>\n",
       "    <tr>\n",
       "      <th>75</th>\n",
       "      <td>6.6</td>\n",
       "      <td>3.0</td>\n",
       "      <td>4.4</td>\n",
       "      <td>1.4</td>\n",
       "      <td>1</td>\n",
       "    </tr>\n",
       "    <tr>\n",
       "      <th>50</th>\n",
       "      <td>7.0</td>\n",
       "      <td>3.2</td>\n",
       "      <td>4.7</td>\n",
       "      <td>1.4</td>\n",
       "      <td>1</td>\n",
       "    </tr>\n",
       "    <tr>\n",
       "      <th>95</th>\n",
       "      <td>5.7</td>\n",
       "      <td>3.0</td>\n",
       "      <td>4.2</td>\n",
       "      <td>1.2</td>\n",
       "      <td>1</td>\n",
       "    </tr>\n",
       "    <tr>\n",
       "      <th>90</th>\n",
       "      <td>5.5</td>\n",
       "      <td>2.6</td>\n",
       "      <td>4.4</td>\n",
       "      <td>1.2</td>\n",
       "      <td>1</td>\n",
       "    </tr>\n",
       "    <tr>\n",
       "      <th>89</th>\n",
       "      <td>5.5</td>\n",
       "      <td>2.5</td>\n",
       "      <td>4.0</td>\n",
       "      <td>1.3</td>\n",
       "      <td>1</td>\n",
       "    </tr>\n",
       "    <tr>\n",
       "      <th>67</th>\n",
       "      <td>5.8</td>\n",
       "      <td>2.7</td>\n",
       "      <td>4.1</td>\n",
       "      <td>1.0</td>\n",
       "      <td>1</td>\n",
       "    </tr>\n",
       "    <tr>\n",
       "      <th>79</th>\n",
       "      <td>5.7</td>\n",
       "      <td>2.6</td>\n",
       "      <td>3.5</td>\n",
       "      <td>1.0</td>\n",
       "      <td>1</td>\n",
       "    </tr>\n",
       "    <tr>\n",
       "      <th>55</th>\n",
       "      <td>5.7</td>\n",
       "      <td>2.8</td>\n",
       "      <td>4.5</td>\n",
       "      <td>1.3</td>\n",
       "      <td>1</td>\n",
       "    </tr>\n",
       "    <tr>\n",
       "      <th>70</th>\n",
       "      <td>5.9</td>\n",
       "      <td>3.2</td>\n",
       "      <td>4.8</td>\n",
       "      <td>1.8</td>\n",
       "      <td>1</td>\n",
       "    </tr>\n",
       "    <tr>\n",
       "      <th>96</th>\n",
       "      <td>5.7</td>\n",
       "      <td>2.9</td>\n",
       "      <td>4.2</td>\n",
       "      <td>1.3</td>\n",
       "      <td>1</td>\n",
       "    </tr>\n",
       "    <tr>\n",
       "      <th>76</th>\n",
       "      <td>6.8</td>\n",
       "      <td>2.8</td>\n",
       "      <td>4.8</td>\n",
       "      <td>1.4</td>\n",
       "      <td>1</td>\n",
       "    </tr>\n",
       "    <tr>\n",
       "      <th>51</th>\n",
       "      <td>6.4</td>\n",
       "      <td>3.2</td>\n",
       "      <td>4.5</td>\n",
       "      <td>1.5</td>\n",
       "      <td>1</td>\n",
       "    </tr>\n",
       "    <tr>\n",
       "      <th>68</th>\n",
       "      <td>6.2</td>\n",
       "      <td>2.2</td>\n",
       "      <td>4.5</td>\n",
       "      <td>1.5</td>\n",
       "      <td>1</td>\n",
       "    </tr>\n",
       "    <tr>\n",
       "      <th>60</th>\n",
       "      <td>5.0</td>\n",
       "      <td>2.0</td>\n",
       "      <td>3.5</td>\n",
       "      <td>1.0</td>\n",
       "      <td>1</td>\n",
       "    </tr>\n",
       "    <tr>\n",
       "      <th>64</th>\n",
       "      <td>5.6</td>\n",
       "      <td>2.9</td>\n",
       "      <td>3.6</td>\n",
       "      <td>1.3</td>\n",
       "      <td>1</td>\n",
       "    </tr>\n",
       "  </tbody>\n",
       "</table>\n",
       "</div>"
      ],
      "text/plain": [
       "    sepal_length  sepal_width  petal_length  petal_width  species\n",
       "97           6.2          2.9           4.3          1.3        1\n",
       "80           5.5          2.4           3.8          1.1        1\n",
       "58           6.6          2.9           4.6          1.3        1\n",
       "85           6.0          3.4           4.5          1.6        1\n",
       "98           5.1          2.5           3.0          1.1        1\n",
       "75           6.6          3.0           4.4          1.4        1\n",
       "50           7.0          3.2           4.7          1.4        1\n",
       "95           5.7          3.0           4.2          1.2        1\n",
       "90           5.5          2.6           4.4          1.2        1\n",
       "89           5.5          2.5           4.0          1.3        1\n",
       "67           5.8          2.7           4.1          1.0        1\n",
       "79           5.7          2.6           3.5          1.0        1\n",
       "55           5.7          2.8           4.5          1.3        1\n",
       "70           5.9          3.2           4.8          1.8        1\n",
       "96           5.7          2.9           4.2          1.3        1\n",
       "76           6.8          2.8           4.8          1.4        1\n",
       "51           6.4          3.2           4.5          1.5        1\n",
       "68           6.2          2.2           4.5          1.5        1\n",
       "60           5.0          2.0           3.5          1.0        1\n",
       "64           5.6          2.9           3.6          1.3        1"
      ]
     },
     "execution_count": 11,
     "metadata": {},
     "output_type": "execute_result"
    }
   ],
   "source": [
    "sample = dataset[dataset.species == 1].iloc[:20]\n",
    "sample"
   ]
  },
  {
   "cell_type": "code",
   "execution_count": 12,
   "metadata": {},
   "outputs": [
    {
     "name": "stdout",
     "output_type": "stream",
     "text": [
      "predicted species = tensor([0.9998, 0.9998, 1.0000, 0.8160, 0.9806, 1.0000, 1.0000, 0.9678, 0.9979,\n",
      "        0.9993, 0.9995, 0.9996, 0.9963, 0.9460, 0.9891, 1.0000, 0.9991, 1.0000,\n",
      "        0.9998, 0.9752], device='cuda:0', grad_fn=<SigmoidBackward0>)\n"
     ]
    }
   ],
   "source": [
    "sample_x = torch.tensor(sample.loc[:,['sepal_length', 'sepal_width']].to_numpy(), dtype=torch.float32, device=device)\n",
    "print(f\"predicted species = {model(sample_x)}\")"
   ]
  },
  {
   "cell_type": "markdown",
   "metadata": {},
   "source": [
    "### Generalizing to Multiple Classes"
   ]
  },
  {
   "cell_type": "code",
   "execution_count": 13,
   "metadata": {},
   "outputs": [],
   "source": [
    "class Classifier(nn.Module):\n",
    "    def __init__(self):\n",
    "        super().__init__()\n",
    "        self.linear = nn.Linear(2,3)\n",
    "    def forward(self, x):\n",
    "        return nn.functional.softmax(self.linear(x), dim=-1)"
   ]
  },
  {
   "cell_type": "code",
   "execution_count": 15,
   "metadata": {},
   "outputs": [
    {
     "data": {
      "text/plain": [
       "tensor([[0.7362, 0.0195, 0.2442],\n",
       "        [0.4672, 0.0246, 0.5082],\n",
       "        [0.8220, 0.0207, 0.1573],\n",
       "        [0.9263, 0.0113, 0.0623],\n",
       "        [0.5005, 0.0274, 0.4722]], device='cuda:0', grad_fn=<SliceBackward0>)"
      ]
     },
     "execution_count": 15,
     "metadata": {},
     "output_type": "execute_result"
    }
   ],
   "source": [
    "x_input = torch.tensor(\n",
    "    dataset[['sepal_length', 'sepal_width']].values,\n",
    "    dtype=torch.float32,\n",
    "    device=device)\n",
    "\n",
    "y_true = torch.tensor(dataset['species'].values,\n",
    "                      dtype=torch.float32,\n",
    "                      device=device)\n",
    "\n",
    "model = Classifier().to(device=device)\n",
    "p_pred = model(x_input)\n",
    "p_pred[:5]"
   ]
  },
  {
   "cell_type": "code",
   "execution_count": 16,
   "metadata": {},
   "outputs": [
    {
     "data": {
      "text/plain": [
       "tensor([2., 0., 1., 2., 0.], device='cuda:0')"
      ]
     },
     "execution_count": 16,
     "metadata": {},
     "output_type": "execute_result"
    }
   ],
   "source": [
    "y_true[:5]"
   ]
  },
  {
   "cell_type": "code",
   "execution_count": 17,
   "metadata": {},
   "outputs": [
    {
     "data": {
      "text/plain": [
       "tensor([[0, 0, 1],\n",
       "        [1, 0, 0],\n",
       "        [0, 1, 0],\n",
       "        [0, 0, 1],\n",
       "        [1, 0, 0]], device='cuda:0')"
      ]
     },
     "execution_count": 17,
     "metadata": {},
     "output_type": "execute_result"
    }
   ],
   "source": [
    "one_hots = nn.functional.one_hot(\n",
    "    y_true.to(torch.int64),\n",
    "    3\n",
    ")\n",
    "one_hots[:5]"
   ]
  },
  {
   "cell_type": "code",
   "execution_count": 18,
   "metadata": {},
   "outputs": [],
   "source": [
    "crossentropies = -torch.sum(one_hots * torch.log(p_pred), axis=-1)"
   ]
  },
  {
   "cell_type": "code",
   "execution_count": 20,
   "metadata": {},
   "outputs": [
    {
     "data": {
      "text/html": [
       "<div>\n",
       "<style scoped>\n",
       "    .dataframe tbody tr th:only-of-type {\n",
       "        vertical-align: middle;\n",
       "    }\n",
       "\n",
       "    .dataframe tbody tr th {\n",
       "        vertical-align: top;\n",
       "    }\n",
       "\n",
       "    .dataframe thead th {\n",
       "        text-align: right;\n",
       "    }\n",
       "</style>\n",
       "<table border=\"1\" class=\"dataframe\">\n",
       "  <thead>\n",
       "    <tr style=\"text-align: right;\">\n",
       "      <th></th>\n",
       "      <th>0</th>\n",
       "      <th>1</th>\n",
       "      <th>2</th>\n",
       "      <th>y_true</th>\n",
       "      <th>crossEntropy</th>\n",
       "    </tr>\n",
       "  </thead>\n",
       "  <tbody>\n",
       "    <tr>\n",
       "      <th>0</th>\n",
       "      <td>0.736225</td>\n",
       "      <td>0.019546</td>\n",
       "      <td>0.244229</td>\n",
       "      <td>2</td>\n",
       "      <td>1.409650</td>\n",
       "    </tr>\n",
       "    <tr>\n",
       "      <th>1</th>\n",
       "      <td>0.467240</td>\n",
       "      <td>0.024574</td>\n",
       "      <td>0.508185</td>\n",
       "      <td>0</td>\n",
       "      <td>0.760911</td>\n",
       "    </tr>\n",
       "    <tr>\n",
       "      <th>2</th>\n",
       "      <td>0.822013</td>\n",
       "      <td>0.020715</td>\n",
       "      <td>0.157272</td>\n",
       "      <td>1</td>\n",
       "      <td>3.876881</td>\n",
       "    </tr>\n",
       "    <tr>\n",
       "      <th>3</th>\n",
       "      <td>0.926343</td>\n",
       "      <td>0.011340</td>\n",
       "      <td>0.062317</td>\n",
       "      <td>2</td>\n",
       "      <td>2.775513</td>\n",
       "    </tr>\n",
       "    <tr>\n",
       "      <th>4</th>\n",
       "      <td>0.500473</td>\n",
       "      <td>0.027354</td>\n",
       "      <td>0.472173</td>\n",
       "      <td>0</td>\n",
       "      <td>0.692202</td>\n",
       "    </tr>\n",
       "  </tbody>\n",
       "</table>\n",
       "</div>"
      ],
      "text/plain": [
       "          0         1         2  y_true  crossEntropy\n",
       "0  0.736225  0.019546  0.244229       2      1.409650\n",
       "1  0.467240  0.024574  0.508185       0      0.760911\n",
       "2  0.822013  0.020715  0.157272       1      3.876881\n",
       "3  0.926343  0.011340  0.062317       2      2.775513\n",
       "4  0.500473  0.027354  0.472173       0      0.692202"
      ]
     },
     "execution_count": 20,
     "metadata": {},
     "output_type": "execute_result"
    }
   ],
   "source": [
    "df = pd.DataFrame(p_pred.detach().cpu())\n",
    "df['y_true'] = y_true.int().cpu()\n",
    "df['crossEntropy'] = crossentropies.detach().cpu()\n",
    "df.head()"
   ]
  },
  {
   "cell_type": "code",
   "execution_count": 31,
   "metadata": {},
   "outputs": [
    {
     "name": "stdout",
     "output_type": "stream",
     "text": [
      "epoch = 0, loss = 4.489696502685547\n",
      "epoch = 10000, loss = 0.40840280055999756\n",
      "epoch = 20000, loss = 0.4004611074924469\n",
      "epoch = 30000, loss = 0.39605915546417236\n",
      "epoch = 40000, loss = 0.3926476240158081\n",
      "epoch = 50000, loss = 0.3898777961730957\n",
      "epoch = 60000, loss = 0.3876136839389801\n",
      "epoch = 70000, loss = 0.3857569694519043\n",
      "epoch = 80000, loss = 0.38422438502311707\n",
      "epoch = 90000, loss = 0.38294780254364014\n"
     ]
    }
   ],
   "source": [
    "model = nn.Linear(2,3).to(device=device)\n",
    "loss = nn.CrossEntropyLoss()\n",
    "optimizer = torch.optim.SGD(model.parameters(), lr=0.1)\n",
    "epochs = 100000\n",
    "\n",
    "for e in range(epochs):\n",
    "    optimizer.zero_grad()\n",
    "    logits = model(x_input)\n",
    "    l = loss(logits, y_true.to(torch.int64))\n",
    "    l.backward()\n",
    "    optimizer.step()\n",
    "    if e%10000 == 0:\n",
    "        print(f\"epoch = {e}, loss = {l.item()}\")"
   ]
  },
  {
   "cell_type": "code",
   "execution_count": 32,
   "metadata": {},
   "outputs": [
    {
     "name": "stdout",
     "output_type": "stream",
     "text": [
      "Predicted class = tensor([2, 0, 1, 2, 0], device='cuda:0')\n",
      "True labels = tensor([2., 0., 1., 2., 0.], device='cuda:0')\n",
      "accuracy = 0.8266667127609253\n"
     ]
    }
   ],
   "source": [
    "model.eval()\n",
    "y_pred = model(x_input).argmax(axis=1)\n",
    "print(f\"Predicted class = {y_pred[:5]}\")\n",
    "print(f'True labels = {y_true[:5]}')\n",
    "print(f\"accuracy = {torch.sum(y_pred == y_true)/y_true.shape[0]}\")"
   ]
  },
  {
   "cell_type": "code",
   "execution_count": 36,
   "metadata": {},
   "outputs": [
    {
     "data": {
      "image/png": "[encoded data removed]",
      "text/plain": [
       "<Figure size 640x480 with 1 Axes>"
      ]
     },
     "metadata": {},
     "output_type": "display_data"
    }
   ],
   "source": [
    "colormap = {\n",
    "    0: 'red',\n",
    "    1: 'blue',\n",
    "    2: 'orange',\n",
    "}\n",
    "c = [colormap[y] for y in y_true.cpu().numpy()]\n",
    "plt.scatter(x_input[:,0].cpu(), x_input[:, 1].cpu(), c=c)\n",
    "plt.title('True species classes')\n",
    "plt.show()"
   ]
  }
 ],
 "metadata": {
  "kernelspec": {
   "display_name": "ml",
   "language": "python",
   "name": "python3"
  },
  "language_info": {
   "codemirror_mode": {
    "name": "ipython",
    "version": 3
   },
   "file_extension": ".py",
   "mimetype": "text/x-python",
   "name": "python",
   "nbconvert_exporter": "python",
   "pygments_lexer": "ipython3",
   "version": "3.12.4"
  }
 },
 "nbformat": 4,
 "nbformat_minor": 2
}
