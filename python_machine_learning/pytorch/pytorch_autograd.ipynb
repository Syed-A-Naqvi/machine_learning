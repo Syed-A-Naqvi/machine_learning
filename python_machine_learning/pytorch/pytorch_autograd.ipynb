{
 "cells": [
  {
   "cell_type": "code",
   "execution_count": 15,
   "metadata": {},
   "outputs": [],
   "source": [
    "import torch\n",
    "import numpy as np"
   ]
  },
  {
   "cell_type": "markdown",
   "metadata": {},
   "source": [
    "## Numerical Limit vs Pytroch's Autograd"
   ]
  },
  {
   "cell_type": "code",
   "execution_count": 31,
   "metadata": {},
   "outputs": [
    {
     "name": "stdout",
     "output_type": "stream",
     "text": [
      "h=0.100000, numerical limit = 2.3000000000000043\n",
      "h=0.010000, numerical limit = 2.029999999999976\n",
      "h=0.001000, numerical limit = 2.0029999999993104\n",
      "h=0.000100, numerical limit = 2.000299999997956\n",
      "h=0.000010, numerical limit = 2.0000300000155837\n",
      "h=0.000001, numerical limit = 2.0000030001021676\n"
     ]
    }
   ],
   "source": [
    "def f(x):\n",
    "    return 3*x**2-4*x\n",
    "\n",
    "def numerical_lim(f,x,h):\n",
    "    return (f(x+h) - f(x))/h\n",
    "\n",
    "h = 0.1\n",
    "for i in range(6):\n",
    "    print(f\"h={h:.6f}, numerical limit = {numerical_lim(f,1,h)}\")\n",
    "    h*=0.1"
   ]
  },
  {
   "cell_type": "code",
   "execution_count": 32,
   "metadata": {},
   "outputs": [
    {
     "data": {
      "text/plain": [
       "tensor(2.)"
      ]
     },
     "execution_count": 32,
     "metadata": {},
     "output_type": "execute_result"
    }
   ],
   "source": [
    "x = torch.tensor(1,dtype=torch.float, requires_grad=True)\n",
    "y = f(x)\n",
    "y.backward()\n",
    "x.grad"
   ]
  },
  {
   "cell_type": "code",
   "execution_count": 33,
   "metadata": {},
   "outputs": [
    {
     "data": {
      "text/plain": [
       "tensor([0., 1., 2., 3.], requires_grad=True)"
      ]
     },
     "metadata": {},
     "output_type": "display_data"
    },
    {
     "data": {
      "text/plain": [
       "tensor(14., grad_fn=<DotBackward0>)"
      ]
     },
     "execution_count": 33,
     "metadata": {},
     "output_type": "execute_result"
    }
   ],
   "source": [
    "x = torch.arange(4.0, requires_grad=True)\n",
    "display(x)\n",
    "y = torch.dot(x,x)\n",
    "y"
   ]
  },
  {
   "cell_type": "code",
   "execution_count": 34,
   "metadata": {},
   "outputs": [
    {
     "data": {
      "text/plain": [
       "tensor([True, True, True, True])"
      ]
     },
     "execution_count": 34,
     "metadata": {},
     "output_type": "execute_result"
    }
   ],
   "source": [
    "y.backward()\n",
    "x.grad == 2*x"
   ]
  },
  {
   "cell_type": "markdown",
   "metadata": {},
   "source": [
    "## Autograd for Non-Scalar-Valued Functions"
   ]
  },
  {
   "cell_type": "code",
   "execution_count": 35,
   "metadata": {},
   "outputs": [
    {
     "data": {
      "text/plain": [
       "tensor([0., 2., 4.])"
      ]
     },
     "execution_count": 35,
     "metadata": {},
     "output_type": "execute_result"
    }
   ],
   "source": [
    "x = torch.arange(3.0, requires_grad=True)\n",
    "y = x*x\n",
    "y.backward(torch.ones_like(y)) # behaves as the upstream loss gradient passed down to the current node in the computational graph\n",
    "x.grad"
   ]
  },
  {
   "cell_type": "markdown",
   "metadata": {},
   "source": [
    "## Optimization using PyTorch Features"
   ]
  },
  {
   "cell_type": "code",
   "execution_count": 39,
   "metadata": {},
   "outputs": [
    {
     "name": "stdout",
     "output_type": "stream",
     "text": [
      "[95. 20.]\n",
      "[14.08  2.08]\n",
      "[ 1.13 -0.79]\n",
      "[-0.94 -1.25]\n",
      "[-1.27 -1.32]\n",
      "[-1.32 -1.33]\n",
      "[-1.33 -1.33]\n",
      "[-1.33 -1.33]\n",
      "[-1.33 -1.33]\n",
      "[-1.33 -1.33]\n",
      "[-1.33 -1.33]\n",
      "[-1.33 -1.33]\n",
      "[-1.33 -1.33]\n",
      "[-1.33 -1.33]\n",
      "[-1.33 -1.33]\n",
      "[-1.33 -1.33]\n",
      "[-1.33 -1.33]\n",
      "[-1.33 -1.33]\n",
      "[-1.33 -1.33]\n",
      "[-1.33 -1.33]\n"
     ]
    }
   ],
   "source": [
    "x = torch.tensor([-5, -2], dtype=torch.float, requires_grad=True)\n",
    "\n",
    "import torch.optim as optim\n",
    "optimizer = optim.SGD([x], lr=0.1)\n",
    "\n",
    "for i in range(20):\n",
    "    optimizer.zero_grad()\n",
    "    loss = f(x)\n",
    "    loss.backward(torch.ones_like(loss))\n",
    "    optimizer.step()\n",
    "    print(loss.detach().numpy().round(2))\n"
   ]
  },
  {
   "cell_type": "code",
   "execution_count": null,
   "metadata": {},
   "outputs": [],
   "source": []
  }
 ],
 "metadata": {
  "kernelspec": {
   "display_name": "Python (ml)",
   "language": "python",
   "name": "ml"
  },
  "language_info": {
   "codemirror_mode": {
    "name": "ipython",
    "version": 3
   },
   "file_extension": ".py",
   "mimetype": "text/x-python",
   "name": "python",
   "nbconvert_exporter": "python",
   "pygments_lexer": "ipython3",
   "version": "3.12.4"
  }
 },
 "nbformat": 4,
 "nbformat_minor": 2
}
