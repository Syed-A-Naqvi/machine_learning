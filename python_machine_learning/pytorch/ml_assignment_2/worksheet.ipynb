{
 "cells": [
  {
   "cell_type": "markdown",
   "id": "b14bbe8b-909d-49b1-a2e2-2080fbdffc3d",
   "metadata": {
    "editable": false,
    "tags": []
   },
   "source": [
    "# Assignment 2\n",
    "\n",
    "In this assignment, we are working with a small image dataset, known as the `FashionMNIST`.\n",
    "\n",
    "We will be building different neural networks to perform classification of the images."
   ]
  },
  {
   "cell_type": "markdown",
   "id": "f02d8400-4faa-4b0e-9d8f-2fa9e1ce6f0a",
   "metadata": {
    "editable": false
   },
   "source": [
    "Let's first load the dataset using the torch vision API."
   ]
  },
  {
   "cell_type": "code",
   "execution_count": 53,
   "id": "c3973872-0e57-4f5c-a909-06907aabf9a3",
   "metadata": {
    "editable": false,
    "tags": []
   },
   "outputs": [
    {
     "data": {
      "text/plain": [
       "Dataset FashionMNIST\n",
       "    Number of datapoints: 60000\n",
       "    Root location: ../data/\n",
       "    Split: Train\n",
       "    StandardTransform\n",
       "Transform: ToTensor()"
      ]
     },
     "execution_count": 53,
     "metadata": {},
     "output_type": "execute_result"
    }
   ],
   "source": [
    "# [THIS IS READ-ONLY]\n",
    "from importlib import reload\n",
    "import warnings\n",
    "warnings.filterwarnings('ignore')\n",
    "\n",
    "import torchvision\n",
    "\n",
    "dataset = torchvision.datasets.FashionMNIST(\n",
    "    '../data/',\n",
    "    train=True,\n",
    "    transform=torchvision.transforms.ToTensor(),\n",
    ")\n",
    "dataset"
   ]
  },
  {
   "cell_type": "markdown",
   "id": "f120e987-1b8a-4d92-a9a0-0e4a182e3bf2",
   "metadata": {
    "editable": false
   },
   "source": [
    "# Understanding the dataset\n",
    "\n",
    "The dataset contains grayscale images of various fashion articles from 10 different categories."
   ]
  },
  {
   "cell_type": "code",
   "execution_count": 54,
   "id": "4ba5ab53-c118-4830-a32d-411f7a59c163",
   "metadata": {
    "editable": false,
    "tags": []
   },
   "outputs": [
    {
     "data": {
      "text/plain": [
       "[(0, 'T-shirt/top'),\n",
       " (1, 'Trouser'),\n",
       " (2, 'Pullover'),\n",
       " (3, 'Dress'),\n",
       " (4, 'Coat'),\n",
       " (5, 'Sandal'),\n",
       " (6, 'Shirt'),\n",
       " (7, 'Sneaker'),\n",
       " (8, 'Bag'),\n",
       " (9, 'Ankle boot')]"
      ]
     },
     "execution_count": 54,
     "metadata": {},
     "output_type": "execute_result"
    }
   ],
   "source": [
    "# [THIS IS READ-ONLY]\n",
    "num_classes = len(dataset.classes)\n",
    "list(enumerate(dataset.classes))"
   ]
  },
  {
   "cell_type": "markdown",
   "id": "cbcce9db-2a72-48c3-b242-9b7929c93332",
   "metadata": {
    "editable": false
   },
   "source": [
    "You can see that the categories are shown above, with the target label as an integer from 0 to 9.\n",
    "\n",
    "Let's sample some `Dress` which uses the integer value 3."
   ]
  },
  {
   "cell_type": "code",
   "execution_count": 55,
   "id": "28041423-c95b-43e8-a4c2-0ae9f4bf8b62",
   "metadata": {
    "editable": false,
    "tags": []
   },
   "outputs": [
    {
     "data": {
      "image/png": "[encoded data removed]",
      "text/plain": [
       "<Figure size 640x480 with 1 Axes>"
      ]
     },
     "metadata": {},
     "output_type": "display_data"
    }
   ],
   "source": [
    "# [THIS IS READ-ONLY]\n",
    "import torchvision\n",
    "import matplotlib.pyplot as pl\n",
    "\n",
    "I_dress = dataset.targets == 3\n",
    "x_dress = dataset.data[I_dress, :, :]\n",
    "x_dress = x_dress[:16, None, :, :]\n",
    "\n",
    "grid = torchvision.utils.make_grid(x_dress, nrow=4)\n",
    "pl.imshow(grid.permute(1, 2, 0));"
   ]
  },
  {
   "cell_type": "markdown",
   "id": "c52e069f-8a87-46f0-940b-21bddab4bb3b",
   "metadata": {
    "editable": false
   },
   "source": [
    "Let's understand the dataset a bit better by examining the samples.\n",
    "\n",
    "We will get the first sample as a tuple of `(input, target)`.\n",
    "\n",
    "- The input is a tensor of shape `(1, 28, 28)`.  It is an image with 1 channel and dimension 28x28.\n",
    "\n",
    "- The target is an integer label."
   ]
  },
  {
   "cell_type": "code",
   "execution_count": 56,
   "id": "a8050b7c-2f86-4ca8-8c4a-895fb470ec22",
   "metadata": {
    "editable": false,
    "tags": []
   },
   "outputs": [
    {
     "name": "stdout",
     "output_type": "stream",
     "text": [
      "First sample: (x, target)\n",
      "- type of x: <class 'torch.Tensor'> with shape torch.Size([1, 28, 28])\n",
      "- type of target: <class 'int'> with value 9\n"
     ]
    }
   ],
   "source": [
    "# [THIS IS READ-ONLY]\n",
    "(x, y) = dataset[0]\n",
    "print(\"First sample: (x, target)\")\n",
    "print(f\"- type of x: {type(x)} with shape {x.shape}\")\n",
    "print(f\"- type of target: {type(y)} with value {y}\")"
   ]
  },
  {
   "cell_type": "markdown",
   "id": "1a118fb9-8331-4c8a-9e14-f968695d6d89",
   "metadata": {
    "editable": false
   },
   "source": [
    "## Preparing training and validation data"
   ]
  },
  {
   "cell_type": "code",
   "execution_count": 57,
   "id": "f26e197d-e2c5-4a68-bc25-6d2cd4e825e7",
   "metadata": {
    "editable": false,
    "tags": []
   },
   "outputs": [],
   "source": [
    "# [THIS IS READ-ONLY]\n",
    "#\n",
    "# Prepare training and validation\n",
    "#\n",
    "import torch\n",
    "from torch.utils.data import random_split\n",
    "from torch.utils.data import DataLoader\n",
    "\n",
    "# Move tensors to GPU\n",
    "# device = torch.device('cuda' if torch.cuda.is_available() else 'cpu')\n",
    "# dataset.data = dataset.data.to(device)\n",
    "# dataset.targets = dataset.targets.to(device)\n",
    "\n",
    "batch_size = 128\n",
    "training_dataset, val_dataset = random_split(\n",
    "    dataset,\n",
    "    (0.7, 0.3),\n",
    "    generator=torch.Generator().manual_seed(0))\n",
    "training_dataloader = DataLoader(training_dataset, batch_size=batch_size)\n",
    "val_dataloader = DataLoader(val_dataset, batch_size=128)"
   ]
  },
  {
   "cell_type": "markdown",
   "id": "28aa9856-ad4c-4649-93e8-c2fc105b3b55",
   "metadata": {
    "editable": false
   },
   "source": [
    "## Helper functions"
   ]
  },
  {
   "cell_type": "code",
   "execution_count": 58,
   "id": "c7b7ea7a-81ff-4bfa-8857-3b78d3e69572",
   "metadata": {
    "editable": false,
    "tags": []
   },
   "outputs": [],
   "source": [
    "# [THIS IS READ-ONLY]\n",
    "#\n",
    "# This function describes the architecture of the model\n",
    "# in terms of its layers, as well as computing\n",
    "# the total number of parameters the model uses.\n",
    "#\n",
    "import torchinfo\n",
    "def describe(model, **kwargs):\n",
    "    return torchinfo.summary(model,\n",
    "                             input_size=(batch_size, 1, 28, 28),\n",
    "                             col_names=['input_size', 'output_size', 'kernel_size', 'num_params'],\n",
    "                             row_settings=['ascii_only'])"
   ]
  },
  {
   "cell_type": "code",
   "execution_count": 59,
   "id": "2a75bc3c-29c4-45ae-9a31-2de22de9e36a",
   "metadata": {
    "editable": false,
    "tags": []
   },
   "outputs": [],
   "source": [
    "# [THIS IS READ-ONLY]\n",
    "#\n",
    "# This function performs training using Lightning trainer.\n",
    "# It saves the model checkpoint under ./lightning_logs/.../version_0\n",
    "# The logged metrics will also be saved here.\n",
    "#\n",
    "\n",
    "import shutil\n",
    "from lightning.pytorch.loggers import CSVLogger\n",
    "from lightning.pytorch import Trainer, seed_everything\n",
    "\n",
    "def train(model):\n",
    "    name = model.__class__.__name__\n",
    "    shutil.rmtree(f'./lightning_logs/{name}', ignore_errors=True)\n",
    "    seed_everything(0, workers=True)\n",
    "    logger = CSVLogger('./lightning_logs', name=name)\n",
    "    trainer = Trainer(max_epochs=3, logger=logger, deterministic=True, accelerator='gpu', devices=1)\n",
    "    trainer.fit(model,\n",
    "                train_dataloaders=training_dataloader,\n",
    "                val_dataloaders=val_dataloader)"
   ]
  },
  {
   "cell_type": "code",
   "execution_count": 60,
   "id": "44270bcd-50c4-42c9-ada0-085b12b1e9d9",
   "metadata": {
    "editable": false,
    "tags": []
   },
   "outputs": [],
   "source": [
    "# [THIS IS READ-ONLY]\n",
    "#\n",
    "# This function loads the training metrics from the\n",
    "# log file, and plots the training and validation accuracies.\n",
    "#\n",
    "\n",
    "import pandas as pd\n",
    "\n",
    "def show_metrics(name):\n",
    "    df = pd.read_csv(f'./lightning_logs/{name}/version_0/metrics.csv')\n",
    "    df.set_index('step', inplace=True)\n",
    "    ax = df[['train_step_acc']].dropna().plot()\n",
    "    df[['val_step_acc']].dropna().plot(ax=ax);\n",
    "    return df[['val_step_acc']].dropna().round(2)"
   ]
  },
  {
   "cell_type": "markdown",
   "id": "ebe77ca1-3a53-4415-8b24-08aa18fe75f3",
   "metadata": {
    "editable": false
   },
   "source": [
    "# Linear Model"
   ]
  },
  {
   "cell_type": "code",
   "execution_count": 61,
   "id": "6d0818ed-f9c5-43e1-96e5-ed42bc44f48b",
   "metadata": {
    "editable": false,
    "tags": []
   },
   "outputs": [
    {
     "data": {
      "text/plain": [
       "============================================================================================================================================\n",
       "Layer (type)                             Input Shape               Output Shape              Kernel Shape              Param #\n",
       "============================================================================================================================================\n",
       "LinearModel                              [128, 1, 28, 28]          [128, 10]                 --                        --\n",
       "+ Linear                                 [128, 784]                [128, 10]                 --                        7,850\n",
       "============================================================================================================================================\n",
       "Total params: 7,850\n",
       "Trainable params: 7,850\n",
       "Non-trainable params: 0\n",
       "Total mult-adds (Units.MEGABYTES): 1.00\n",
       "============================================================================================================================================\n",
       "Input size (MB): 0.40\n",
       "Forward/backward pass size (MB): 0.01\n",
       "Params size (MB): 0.03\n",
       "Estimated Total Size (MB): 0.44\n",
       "============================================================================================================================================"
      ]
     },
     "execution_count": 61,
     "metadata": {},
     "output_type": "execute_result"
    }
   ],
   "source": [
    "# [THIS IS READ-ONLY]\n",
    "# @check\n",
    "# @title: linear model description\n",
    "\n",
    "import models\n",
    "reload(models)\n",
    "model = models.LinearModel(num_classes)\n",
    "describe(model)"
   ]
  },
  {
   "cell_type": "code",
   "execution_count": 62,
   "id": "1a7257a5-4baf-423c-a4ad-59b5a82ab756",
   "metadata": {
    "editable": false,
    "tags": []
   },
   "outputs": [
    {
     "name": "stderr",
     "output_type": "stream",
     "text": [
      "Seed set to 0\n",
      "GPU available: True (cuda), used: True\n",
      "TPU available: False, using: 0 TPU cores\n",
      "HPU available: False, using: 0 HPUs\n",
      "LOCAL_RANK: 0 - CUDA_VISIBLE_DEVICES: [0]\n",
      "\n",
      "  | Name     | Type               | Params | Mode \n",
      "--------------------------------------------------------\n",
      "0 | accuracy | MulticlassAccuracy | 0      | train\n",
      "1 | model    | Linear             | 7.9 K  | train\n",
      "--------------------------------------------------------\n",
      "7.9 K     Trainable params\n",
      "0         Non-trainable params\n",
      "7.9 K     Total params\n",
      "0.031     Total estimated model params size (MB)\n",
      "2         Modules in train mode\n",
      "0         Modules in eval mode\n"
     ]
    },
    {
     "data": {
      "application/vnd.jupyter.widget-view+json": {
       "model_id": "e4a226e70ad0450c9514080f6d29f56e",
       "version_major": 2,
       "version_minor": 0
      },
      "text/plain": [
       "Sanity Checking: |          | 0/? [00:00<?, ?it/s]"
      ]
     },
     "metadata": {},
     "output_type": "display_data"
    },
    {
     "data": {
      "application/vnd.jupyter.widget-view+json": {
       "model_id": "a44d673d40fd42489b187940e5a18210",
       "version_major": 2,
       "version_minor": 0
      },
      "text/plain": [
       "Training: |          | 0/? [00:00<?, ?it/s]"
      ]
     },
     "metadata": {},
     "output_type": "display_data"
    },
    {
     "data": {
      "application/vnd.jupyter.widget-view+json": {
       "model_id": "80bc562e0bb9422faa4445b855a2ba71",
       "version_major": 2,
       "version_minor": 0
      },
      "text/plain": [
       "Validation: |          | 0/? [00:00<?, ?it/s]"
      ]
     },
     "metadata": {},
     "output_type": "display_data"
    },
    {
     "data": {
      "application/vnd.jupyter.widget-view+json": {
       "model_id": "8e5c879a1526418fac2ac7f718f245a9",
       "version_major": 2,
       "version_minor": 0
      },
      "text/plain": [
       "Validation: |          | 0/? [00:00<?, ?it/s]"
      ]
     },
     "metadata": {},
     "output_type": "display_data"
    },
    {
     "data": {
      "application/vnd.jupyter.widget-view+json": {
       "model_id": "e0e65a53538c4692b6416e451403e09e",
       "version_major": 2,
       "version_minor": 0
      },
      "text/plain": [
       "Validation: |          | 0/? [00:00<?, ?it/s]"
      ]
     },
     "metadata": {},
     "output_type": "display_data"
    },
    {
     "name": "stderr",
     "output_type": "stream",
     "text": [
      "`Trainer.fit` stopped: `max_epochs=3` reached.\n"
     ]
    }
   ],
   "source": [
    "# [THIS IS READ-ONLY]\n",
    "reload(models)\n",
    "model = models.LinearModel(num_classes)\n",
    "train(model)"
   ]
  },
  {
   "cell_type": "code",
   "execution_count": 63,
   "id": "08dcd04f-afe5-40c9-a11f-0e03688f1416",
   "metadata": {
    "editable": false,
    "tags": []
   },
   "outputs": [
    {
     "name": "stdout",
     "output_type": "stream",
     "text": [
      "./lightning_logs/LinearModel\n",
      "└── version_0\n",
      "    ├── checkpoints\n",
      "    │   └── epoch=2-step=987.ckpt\n",
      "    ├── hparams.yaml\n",
      "    └── metrics.csv\n",
      "\n",
      "2 directories, 3 files\n"
     ]
    }
   ],
   "source": [
    "# [THIS IS READ-ONLY]\n",
    "! tree -n ./lightning_logs/LinearModel"
   ]
  },
  {
   "cell_type": "code",
   "execution_count": 64,
   "id": "2ce8b1fa-3945-44bf-b972-f03b5bf28fbb",
   "metadata": {
    "editable": false,
    "tags": []
   },
   "outputs": [
    {
     "data": {
      "text/html": [
       "<div>\n",
       "<style scoped>\n",
       "    .dataframe tbody tr th:only-of-type {\n",
       "        vertical-align: middle;\n",
       "    }\n",
       "\n",
       "    .dataframe tbody tr th {\n",
       "        vertical-align: top;\n",
       "    }\n",
       "\n",
       "    .dataframe thead th {\n",
       "        text-align: right;\n",
       "    }\n",
       "</style>\n",
       "<table border=\"1\" class=\"dataframe\">\n",
       "  <thead>\n",
       "    <tr style=\"text-align: right;\">\n",
       "      <th></th>\n",
       "      <th>val_step_acc</th>\n",
       "    </tr>\n",
       "    <tr>\n",
       "      <th>step</th>\n",
       "      <th></th>\n",
       "    </tr>\n",
       "  </thead>\n",
       "  <tbody>\n",
       "    <tr>\n",
       "      <th>328</th>\n",
       "      <td>0.76</td>\n",
       "    </tr>\n",
       "    <tr>\n",
       "      <th>657</th>\n",
       "      <td>0.82</td>\n",
       "    </tr>\n",
       "    <tr>\n",
       "      <th>986</th>\n",
       "      <td>0.83</td>\n",
       "    </tr>\n",
       "  </tbody>\n",
       "</table>\n",
       "</div>"
      ],
      "text/plain": [
       "      val_step_acc\n",
       "step              \n",
       "328           0.76\n",
       "657           0.82\n",
       "986           0.83"
      ]
     },
     "execution_count": 64,
     "metadata": {},
     "output_type": "execute_result"
    },
    {
     "data": {
      "image/png": "[encoded data removed]",
      "text/plain": [
       "<Figure size 640x480 with 1 Axes>"
      ]
     },
     "metadata": {},
     "output_type": "display_data"
    }
   ],
   "source": [
    "# [THIS IS READ-ONLY]\n",
    "show_metrics('LinearModel')"
   ]
  },
  {
   "cell_type": "markdown",
   "id": "6666e2a9-1343-48db-9a4a-c196f036a505",
   "metadata": {
    "editable": false
   },
   "source": [
    "# MLP"
   ]
  },
  {
   "cell_type": "code",
   "execution_count": 65,
   "id": "c7954a33-a658-4367-8d0e-1067bb9b7f33",
   "metadata": {
    "editable": false,
    "tags": []
   },
   "outputs": [
    {
     "data": {
      "text/plain": [
       "============================================================================================================================================\n",
       "Layer (type)                             Input Shape               Output Shape              Kernel Shape              Param #\n",
       "============================================================================================================================================\n",
       "MLP                                      [128, 1, 28, 28]          [128, 10]                 --                        --\n",
       "+ Sequential                             [128, 784]                [128, 10]                 --                        --\n",
       "|    + Linear                            [128, 784]                [128, 100]                --                        78,500\n",
       "|    + ReLU                              [128, 100]                [128, 100]                --                        --\n",
       "|    + Linear                            [128, 100]                [128, 10]                 --                        1,010\n",
       "============================================================================================================================================\n",
       "Total params: 79,510\n",
       "Trainable params: 79,510\n",
       "Non-trainable params: 0\n",
       "Total mult-adds (Units.MEGABYTES): 10.18\n",
       "============================================================================================================================================\n",
       "Input size (MB): 0.40\n",
       "Forward/backward pass size (MB): 0.11\n",
       "Params size (MB): 0.32\n",
       "Estimated Total Size (MB): 0.83\n",
       "============================================================================================================================================"
      ]
     },
     "execution_count": 65,
     "metadata": {},
     "output_type": "execute_result"
    }
   ],
   "source": [
    "# [THIS IS READ-ONLY]\n",
    "# @check\n",
    "# @title: MLP description\n",
    "\n",
    "reload(models)\n",
    "model = models.MLP(num_classes, 100)\n",
    "describe(model)"
   ]
  },
  {
   "cell_type": "code",
   "execution_count": 66,
   "id": "bbd65425-1354-4c0f-85ca-bfb7a8c69dc3",
   "metadata": {
    "editable": false,
    "tags": []
   },
   "outputs": [
    {
     "name": "stderr",
     "output_type": "stream",
     "text": [
      "Seed set to 0\n",
      "GPU available: True (cuda), used: True\n",
      "TPU available: False, using: 0 TPU cores\n",
      "HPU available: False, using: 0 HPUs\n",
      "LOCAL_RANK: 0 - CUDA_VISIBLE_DEVICES: [0]\n",
      "\n",
      "  | Name     | Type               | Params | Mode \n",
      "--------------------------------------------------------\n",
      "0 | accuracy | MulticlassAccuracy | 0      | train\n",
      "1 | model    | Sequential         | 79.5 K | train\n",
      "--------------------------------------------------------\n",
      "79.5 K    Trainable params\n",
      "0         Non-trainable params\n",
      "79.5 K    Total params\n",
      "0.318     Total estimated model params size (MB)\n",
      "5         Modules in train mode\n",
      "0         Modules in eval mode\n"
     ]
    },
    {
     "data": {
      "application/vnd.jupyter.widget-view+json": {
       "model_id": "d56d080a8eb94b639ba940cd07897b04",
       "version_major": 2,
       "version_minor": 0
      },
      "text/plain": [
       "Sanity Checking: |          | 0/? [00:00<?, ?it/s]"
      ]
     },
     "metadata": {},
     "output_type": "display_data"
    },
    {
     "data": {
      "application/vnd.jupyter.widget-view+json": {
       "model_id": "025c5f01ccf144939ca0ae98939a6ccf",
       "version_major": 2,
       "version_minor": 0
      },
      "text/plain": [
       "Training: |          | 0/? [00:00<?, ?it/s]"
      ]
     },
     "metadata": {},
     "output_type": "display_data"
    },
    {
     "data": {
      "application/vnd.jupyter.widget-view+json": {
       "model_id": "625acf42c911485d974b5dad00b0e926",
       "version_major": 2,
       "version_minor": 0
      },
      "text/plain": [
       "Validation: |          | 0/? [00:00<?, ?it/s]"
      ]
     },
     "metadata": {},
     "output_type": "display_data"
    },
    {
     "data": {
      "application/vnd.jupyter.widget-view+json": {
       "model_id": "11f0adef74584ed882de7f82a5a231c4",
       "version_major": 2,
       "version_minor": 0
      },
      "text/plain": [
       "Validation: |          | 0/? [00:00<?, ?it/s]"
      ]
     },
     "metadata": {},
     "output_type": "display_data"
    },
    {
     "data": {
      "application/vnd.jupyter.widget-view+json": {
       "model_id": "48ae03c08c0043509b3243f496ec6be3",
       "version_major": 2,
       "version_minor": 0
      },
      "text/plain": [
       "Validation: |          | 0/? [00:00<?, ?it/s]"
      ]
     },
     "metadata": {},
     "output_type": "display_data"
    },
    {
     "name": "stderr",
     "output_type": "stream",
     "text": [
      "`Trainer.fit` stopped: `max_epochs=3` reached.\n"
     ]
    }
   ],
   "source": [
    "# [THIS IS READ-ONLY]\n",
    "reload(models)\n",
    "model = models.MLP(num_classes, 100)\n",
    "train(model)"
   ]
  },
  {
   "cell_type": "code",
   "execution_count": 67,
   "id": "09c70c0c-3ad0-44c3-ad51-1c7c989113ed",
   "metadata": {
    "editable": false,
    "tags": []
   },
   "outputs": [
    {
     "name": "stdout",
     "output_type": "stream",
     "text": [
      "./lightning_logs/MLP\n",
      "└── version_0\n",
      "    ├── checkpoints\n",
      "    │   └── epoch=2-step=987.ckpt\n",
      "    ├── hparams.yaml\n",
      "    └── metrics.csv\n",
      "\n",
      "2 directories, 3 files\n"
     ]
    }
   ],
   "source": [
    "# [THIS IS READ-ONLY]\n",
    "! tree -n ./lightning_logs/MLP"
   ]
  },
  {
   "cell_type": "code",
   "execution_count": 68,
   "id": "9159dda2-e06f-47eb-893b-dc01726024b2",
   "metadata": {
    "editable": false,
    "tags": []
   },
   "outputs": [
    {
     "data": {
      "text/html": [
       "<div>\n",
       "<style scoped>\n",
       "    .dataframe tbody tr th:only-of-type {\n",
       "        vertical-align: middle;\n",
       "    }\n",
       "\n",
       "    .dataframe tbody tr th {\n",
       "        vertical-align: top;\n",
       "    }\n",
       "\n",
       "    .dataframe thead th {\n",
       "        text-align: right;\n",
       "    }\n",
       "</style>\n",
       "<table border=\"1\" class=\"dataframe\">\n",
       "  <thead>\n",
       "    <tr style=\"text-align: right;\">\n",
       "      <th></th>\n",
       "      <th>val_step_acc</th>\n",
       "    </tr>\n",
       "    <tr>\n",
       "      <th>step</th>\n",
       "      <th></th>\n",
       "    </tr>\n",
       "  </thead>\n",
       "  <tbody>\n",
       "    <tr>\n",
       "      <th>328</th>\n",
       "      <td>0.79</td>\n",
       "    </tr>\n",
       "    <tr>\n",
       "      <th>657</th>\n",
       "      <td>0.84</td>\n",
       "    </tr>\n",
       "    <tr>\n",
       "      <th>986</th>\n",
       "      <td>0.85</td>\n",
       "    </tr>\n",
       "  </tbody>\n",
       "</table>\n",
       "</div>"
      ],
      "text/plain": [
       "      val_step_acc\n",
       "step              \n",
       "328           0.79\n",
       "657           0.84\n",
       "986           0.85"
      ]
     },
     "execution_count": 68,
     "metadata": {},
     "output_type": "execute_result"
    },
    {
     "data": {
      "image/png": "[encoded data removed]",
      "text/plain": [
       "<Figure size 640x480 with 1 Axes>"
      ]
     },
     "metadata": {},
     "output_type": "display_data"
    }
   ],
   "source": [
    "# [THIS IS READ-ONLY]\n",
    "show_metrics('MLP')"
   ]
  },
  {
   "cell_type": "markdown",
   "id": "4f0aa44a-5c99-4789-a296-838505567751",
   "metadata": {
    "editable": false
   },
   "source": [
    "# ConvNet"
   ]
  },
  {
   "cell_type": "code",
   "execution_count": 69,
   "id": "83494a47-6d4e-4c6d-a3b2-2b901b030188",
   "metadata": {
    "editable": false,
    "tags": []
   },
   "outputs": [
    {
     "data": {
      "text/plain": [
       "============================================================================================================================================\n",
       "Layer (type)                             Input Shape               Output Shape              Kernel Shape              Param #\n",
       "============================================================================================================================================\n",
       "ConvNet                                  [128, 1, 28, 28]          [128, 10]                 --                        --\n",
       "+ Sequential                             [128, 1, 28, 28]          [128, 10]                 --                        --\n",
       "|    + Conv2d                            [128, 1, 28, 28]          [128, 5, 26, 26]          [3, 3]                    50\n",
       "|    + ReLU                              [128, 5, 26, 26]          [128, 5, 26, 26]          --                        --\n",
       "|    + MaxPool2d                         [128, 5, 26, 26]          [128, 5, 13, 13]          2                         --\n",
       "|    + Flatten                           [128, 5, 13, 13]          [128, 845]                --                        --\n",
       "|    + Linear                            [128, 845]                [128, 10]                 --                        8,460\n",
       "============================================================================================================================================\n",
       "Total params: 8,510\n",
       "Trainable params: 8,510\n",
       "Non-trainable params: 0\n",
       "Total mult-adds (Units.MEGABYTES): 5.41\n",
       "============================================================================================================================================\n",
       "Input size (MB): 0.40\n",
       "Forward/backward pass size (MB): 3.47\n",
       "Params size (MB): 0.03\n",
       "Estimated Total Size (MB): 3.91\n",
       "============================================================================================================================================"
      ]
     },
     "execution_count": 69,
     "metadata": {},
     "output_type": "execute_result"
    }
   ],
   "source": [
    "# [THIS IS READ-ONLY]\n",
    "# @check\n",
    "# @title: ConvNet description\n",
    "\n",
    "reload(models)\n",
    "model = models.ConvNet(num_classes, 5, 3, 2)\n",
    "describe(model)"
   ]
  },
  {
   "cell_type": "code",
   "execution_count": 70,
   "id": "700a57fb-a2dc-453c-a93a-d33e2a185624",
   "metadata": {
    "editable": false,
    "tags": []
   },
   "outputs": [
    {
     "name": "stderr",
     "output_type": "stream",
     "text": [
      "Seed set to 0\n",
      "GPU available: True (cuda), used: True\n",
      "TPU available: False, using: 0 TPU cores\n",
      "HPU available: False, using: 0 HPUs\n",
      "LOCAL_RANK: 0 - CUDA_VISIBLE_DEVICES: [0]\n",
      "\n",
      "  | Name     | Type               | Params | Mode \n",
      "--------------------------------------------------------\n",
      "0 | accuracy | MulticlassAccuracy | 0      | train\n",
      "1 | model    | Sequential         | 8.5 K  | train\n",
      "--------------------------------------------------------\n",
      "8.5 K     Trainable params\n",
      "0         Non-trainable params\n",
      "8.5 K     Total params\n",
      "0.034     Total estimated model params size (MB)\n",
      "7         Modules in train mode\n",
      "0         Modules in eval mode\n"
     ]
    },
    {
     "data": {
      "application/vnd.jupyter.widget-view+json": {
       "model_id": "854aed3eaeae4f4ba054698de9134cf7",
       "version_major": 2,
       "version_minor": 0
      },
      "text/plain": [
       "Sanity Checking: |          | 0/? [00:00<?, ?it/s]"
      ]
     },
     "metadata": {},
     "output_type": "display_data"
    },
    {
     "data": {
      "application/vnd.jupyter.widget-view+json": {
       "model_id": "edf4805e3df742a6a0931d22b580cc90",
       "version_major": 2,
       "version_minor": 0
      },
      "text/plain": [
       "Training: |          | 0/? [00:00<?, ?it/s]"
      ]
     },
     "metadata": {},
     "output_type": "display_data"
    },
    {
     "data": {
      "application/vnd.jupyter.widget-view+json": {
       "model_id": "6c9f8d2977494deab596376d1db1ea5d",
       "version_major": 2,
       "version_minor": 0
      },
      "text/plain": [
       "Validation: |          | 0/? [00:00<?, ?it/s]"
      ]
     },
     "metadata": {},
     "output_type": "display_data"
    },
    {
     "data": {
      "application/vnd.jupyter.widget-view+json": {
       "model_id": "7c9217bdaafa484aa14c4b720017c8a8",
       "version_major": 2,
       "version_minor": 0
      },
      "text/plain": [
       "Validation: |          | 0/? [00:00<?, ?it/s]"
      ]
     },
     "metadata": {},
     "output_type": "display_data"
    },
    {
     "data": {
      "application/vnd.jupyter.widget-view+json": {
       "model_id": "3e071b8797b54373a806791da599abc4",
       "version_major": 2,
       "version_minor": 0
      },
      "text/plain": [
       "Validation: |          | 0/? [00:00<?, ?it/s]"
      ]
     },
     "metadata": {},
     "output_type": "display_data"
    },
    {
     "name": "stderr",
     "output_type": "stream",
     "text": [
      "`Trainer.fit` stopped: `max_epochs=3` reached.\n"
     ]
    }
   ],
   "source": [
    "# [THIS IS READ-ONLY]\n",
    "reload(models)\n",
    "model = models.ConvNet(num_classes, 5, 3, 2)\n",
    "train(model)"
   ]
  },
  {
   "cell_type": "code",
   "execution_count": 71,
   "id": "2b59ed33-1abb-4424-9474-18dd2aeb0ad3",
   "metadata": {
    "editable": false,
    "tags": []
   },
   "outputs": [
    {
     "data": {
      "text/html": [
       "<div>\n",
       "<style scoped>\n",
       "    .dataframe tbody tr th:only-of-type {\n",
       "        vertical-align: middle;\n",
       "    }\n",
       "\n",
       "    .dataframe tbody tr th {\n",
       "        vertical-align: top;\n",
       "    }\n",
       "\n",
       "    .dataframe thead th {\n",
       "        text-align: right;\n",
       "    }\n",
       "</style>\n",
       "<table border=\"1\" class=\"dataframe\">\n",
       "  <thead>\n",
       "    <tr style=\"text-align: right;\">\n",
       "      <th></th>\n",
       "      <th>val_step_acc</th>\n",
       "    </tr>\n",
       "    <tr>\n",
       "      <th>step</th>\n",
       "      <th></th>\n",
       "    </tr>\n",
       "  </thead>\n",
       "  <tbody>\n",
       "    <tr>\n",
       "      <th>328</th>\n",
       "      <td>0.78</td>\n",
       "    </tr>\n",
       "    <tr>\n",
       "      <th>657</th>\n",
       "      <td>0.84</td>\n",
       "    </tr>\n",
       "    <tr>\n",
       "      <th>986</th>\n",
       "      <td>0.85</td>\n",
       "    </tr>\n",
       "  </tbody>\n",
       "</table>\n",
       "</div>"
      ],
      "text/plain": [
       "      val_step_acc\n",
       "step              \n",
       "328           0.78\n",
       "657           0.84\n",
       "986           0.85"
      ]
     },
     "execution_count": 71,
     "metadata": {},
     "output_type": "execute_result"
    },
    {
     "data": {
      "image/png": "[encoded data removed]",
      "text/plain": [
       "<Figure size 640x480 with 1 Axes>"
      ]
     },
     "metadata": {},
     "output_type": "display_data"
    }
   ],
   "source": [
    "# [THIS IS READ-ONLY]\n",
    "show_metrics('ConvNet')"
   ]
  },
  {
   "cell_type": "markdown",
   "id": "d9416aa1-05da-47d8-87a5-6f6d31b885fd",
   "metadata": {
    "editable": false
   },
   "source": [
    "# Two layer ConvNet"
   ]
  },
  {
   "cell_type": "code",
   "execution_count": 72,
   "id": "fc60ca0b-efd2-4402-805e-9e44ef2327e8",
   "metadata": {
    "editable": false,
    "tags": []
   },
   "outputs": [
    {
     "data": {
      "text/plain": [
       "============================================================================================================================================\n",
       "Layer (type)                             Input Shape               Output Shape              Kernel Shape              Param #\n",
       "============================================================================================================================================\n",
       "DeepConvNet                              [128, 1, 28, 28]          [128, 10]                 --                        --\n",
       "+ Sequential                             [128, 1, 28, 28]          [128, 10]                 --                        --\n",
       "|    + Conv2d                            [128, 1, 28, 28]          [128, 32, 26, 26]         [3, 3]                    320\n",
       "|    + ReLU                              [128, 32, 26, 26]         [128, 32, 26, 26]         --                        --\n",
       "|    + MaxPool2d                         [128, 32, 26, 26]         [128, 32, 13, 13]         2                         --\n",
       "|    + Conv2d                            [128, 32, 13, 13]         [128, 64, 11, 11]         [3, 3]                    18,496\n",
       "|    + ReLU                              [128, 64, 11, 11]         [128, 64, 11, 11]         --                        --\n",
       "|    + MaxPool2d                         [128, 64, 11, 11]         [128, 64, 5, 5]           2                         --\n",
       "|    + Flatten                           [128, 64, 5, 5]           [128, 1600]               --                        --\n",
       "|    + Linear                            [128, 1600]               [128, 128]                --                        204,928\n",
       "|    + ReLU                              [128, 128]                [128, 128]                --                        --\n",
       "|    + Linear                            [128, 128]                [128, 10]                 --                        1,290\n",
       "============================================================================================================================================\n",
       "Total params: 225,034\n",
       "Trainable params: 225,034\n",
       "Non-trainable params: 0\n",
       "Total mult-adds (Units.MEGABYTES): 340.55\n",
       "============================================================================================================================================\n",
       "Input size (MB): 0.40\n",
       "Forward/backward pass size (MB): 30.22\n",
       "Params size (MB): 0.90\n",
       "Estimated Total Size (MB): 31.52\n",
       "============================================================================================================================================"
      ]
     },
     "execution_count": 72,
     "metadata": {},
     "output_type": "execute_result"
    }
   ],
   "source": [
    "# [THIS IS READ-ONLY]\n",
    "# @check\n",
    "# @title: two layer convnet description\n",
    "\n",
    "reload(models)\n",
    "model = models.DeepConvNet(num_classes)\n",
    "describe(model)"
   ]
  },
  {
   "cell_type": "code",
   "execution_count": 73,
   "id": "83ef5b0f-28d8-4ca5-97be-9438d4657f2f",
   "metadata": {
    "editable": false,
    "tags": []
   },
   "outputs": [
    {
     "name": "stderr",
     "output_type": "stream",
     "text": [
      "Seed set to 0\n",
      "GPU available: True (cuda), used: True\n",
      "TPU available: False, using: 0 TPU cores\n",
      "HPU available: False, using: 0 HPUs\n",
      "LOCAL_RANK: 0 - CUDA_VISIBLE_DEVICES: [0]\n",
      "\n",
      "  | Name     | Type               | Params | Mode \n",
      "--------------------------------------------------------\n",
      "0 | accuracy | MulticlassAccuracy | 0      | train\n",
      "1 | model    | Sequential         | 225 K  | train\n",
      "--------------------------------------------------------\n",
      "225 K     Trainable params\n",
      "0         Non-trainable params\n",
      "225 K     Total params\n",
      "0.900     Total estimated model params size (MB)\n",
      "12        Modules in train mode\n",
      "0         Modules in eval mode\n"
     ]
    },
    {
     "data": {
      "application/vnd.jupyter.widget-view+json": {
       "model_id": "33ff35e3bff649dfa7134a70546d952b",
       "version_major": 2,
       "version_minor": 0
      },
      "text/plain": [
       "Sanity Checking: |          | 0/? [00:00<?, ?it/s]"
      ]
     },
     "metadata": {},
     "output_type": "display_data"
    },
    {
     "data": {
      "application/vnd.jupyter.widget-view+json": {
       "model_id": "8af3e879f28b45b085580976f29e67d3",
       "version_major": 2,
       "version_minor": 0
      },
      "text/plain": [
       "Training: |          | 0/? [00:00<?, ?it/s]"
      ]
     },
     "metadata": {},
     "output_type": "display_data"
    },
    {
     "data": {
      "application/vnd.jupyter.widget-view+json": {
       "model_id": "457684cd89b848fd9b811d34ee1e31ec",
       "version_major": 2,
       "version_minor": 0
      },
      "text/plain": [
       "Validation: |          | 0/? [00:00<?, ?it/s]"
      ]
     },
     "metadata": {},
     "output_type": "display_data"
    },
    {
     "data": {
      "application/vnd.jupyter.widget-view+json": {
       "model_id": "36c6e3d6742c40ee84de76815f3e37f2",
       "version_major": 2,
       "version_minor": 0
      },
      "text/plain": [
       "Validation: |          | 0/? [00:00<?, ?it/s]"
      ]
     },
     "metadata": {},
     "output_type": "display_data"
    },
    {
     "data": {
      "application/vnd.jupyter.widget-view+json": {
       "model_id": "3ee776bda28b4992bef21e01ffbd98cd",
       "version_major": 2,
       "version_minor": 0
      },
      "text/plain": [
       "Validation: |          | 0/? [00:00<?, ?it/s]"
      ]
     },
     "metadata": {},
     "output_type": "display_data"
    },
    {
     "name": "stderr",
     "output_type": "stream",
     "text": [
      "`Trainer.fit` stopped: `max_epochs=3` reached.\n"
     ]
    }
   ],
   "source": [
    "# [THIS IS READ-ONLY]\n",
    "reload(models)\n",
    "model = models.DeepConvNet(num_classes)\n",
    "train(model)"
   ]
  },
  {
   "cell_type": "code",
   "execution_count": 74,
   "id": "2dee037c-5c55-4f2c-8f94-3ed2fca4b075",
   "metadata": {
    "editable": false,
    "tags": []
   },
   "outputs": [
    {
     "data": {
      "text/html": [
       "<div>\n",
       "<style scoped>\n",
       "    .dataframe tbody tr th:only-of-type {\n",
       "        vertical-align: middle;\n",
       "    }\n",
       "\n",
       "    .dataframe tbody tr th {\n",
       "        vertical-align: top;\n",
       "    }\n",
       "\n",
       "    .dataframe thead th {\n",
       "        text-align: right;\n",
       "    }\n",
       "</style>\n",
       "<table border=\"1\" class=\"dataframe\">\n",
       "  <thead>\n",
       "    <tr style=\"text-align: right;\">\n",
       "      <th></th>\n",
       "      <th>val_step_acc</th>\n",
       "    </tr>\n",
       "    <tr>\n",
       "      <th>step</th>\n",
       "      <th></th>\n",
       "    </tr>\n",
       "  </thead>\n",
       "  <tbody>\n",
       "    <tr>\n",
       "      <th>328</th>\n",
       "      <td>0.78</td>\n",
       "    </tr>\n",
       "    <tr>\n",
       "      <th>657</th>\n",
       "      <td>0.85</td>\n",
       "    </tr>\n",
       "    <tr>\n",
       "      <th>986</th>\n",
       "      <td>0.87</td>\n",
       "    </tr>\n",
       "  </tbody>\n",
       "</table>\n",
       "</div>"
      ],
      "text/plain": [
       "      val_step_acc\n",
       "step              \n",
       "328           0.78\n",
       "657           0.85\n",
       "986           0.87"
      ]
     },
     "execution_count": 74,
     "metadata": {},
     "output_type": "execute_result"
    },
    {
     "data": {
      "image/png": "[encoded data removed]",
      "text/plain": [
       "<Figure size 640x480 with 1 Axes>"
      ]
     },
     "metadata": {},
     "output_type": "display_data"
    }
   ],
   "source": [
    "# [THIS IS READ-ONLY]\n",
    "show_metrics('DeepConvNet')"
   ]
  },
  {
   "cell_type": "code",
   "execution_count": null,
   "id": "b51437f4",
   "metadata": {},
   "outputs": [],
   "source": []
  }
 ],
 "metadata": {
  "kernelspec": {
   "display_name": "ml",
   "language": "python",
   "name": "python3"
  },
  "language_info": {
   "codemirror_mode": {
    "name": "ipython",
    "version": 3
   },
   "file_extension": ".py",
   "mimetype": "text/x-python",
   "name": "python",
   "nbconvert_exporter": "python",
   "pygments_lexer": "ipython3",
   "version": "3.12.4"
  }
 },
 "nbformat": 4,
 "nbformat_minor": 5
}
